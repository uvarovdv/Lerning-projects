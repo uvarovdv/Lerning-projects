{
 "cells": [
  {
   "cell_type": "markdown",
   "metadata": {
    "colab_type": "text",
    "deletable": false,
    "editable": false,
    "id": "5UYxO1GdF6Wy",
    "tags": [
     "f6c88c58-a82b-4f28-8bd6-fd55c0017917"
    ]
   },
   "source": [
    "# Этап 1. Получение данных"
   ]
  },
  {
   "cell_type": "markdown",
   "metadata": {
    "colab_type": "text",
    "deletable": false,
    "id": "iI4ITclJaFWh"
   },
   "source": [
    "Изучим данные, предоставленные сервисом для проекта."
   ]
  },
  {
   "cell_type": "markdown",
   "metadata": {
    "colab_type": "text",
    "deletable": false,
    "id": "0skiEFxDZ0Tr"
   },
   "source": [
    "## Импорт библиотек"
   ]
  },
  {
   "cell_type": "code",
   "execution_count": 1075,
   "metadata": {
    "colab": {},
    "colab_type": "code",
    "deletable": false,
    "id": "HirRov5vZ3MT"
   },
   "outputs": [],
   "source": [
    "import pandas as pd# <импорт библиотеки pandas>"
   ]
  },
  {
   "cell_type": "markdown",
   "metadata": {
    "colab_type": "text",
    "deletable": false,
    "id": "Tr8dl3PWGFIk"
   },
   "source": [
    "Прочитаем файл *music_project.csv* и сохраним его в переменной *df*. "
   ]
  },
  {
   "cell_type": "code",
   "execution_count": 1076,
   "metadata": {
    "colab": {},
    "colab_type": "code",
    "deletable": false,
    "id": "NB6j931yS4hy"
   },
   "outputs": [],
   "source": [
    "df = pd.read_csv('/datasets/music_project.csv') # <чтение файла с данными с сохранением в df>"
   ]
  },
  {
   "cell_type": "markdown",
   "metadata": {
    "colab_type": "text",
    "deletable": false,
    "editable": false,
    "id": "y2usmNMlDLbY",
    "tags": [
     "f3a2f13f-d110-4558-a520-4805b5bd1dfe"
    ]
   },
   "source": [
    "Получение первых 10 строк таблицы."
   ]
  },
  {
   "cell_type": "code",
   "execution_count": 1077,
   "metadata": {
    "colab": {},
    "colab_type": "code",
    "deletable": false,
    "id": "DY5i8tgXVDGj"
   },
   "outputs": [
    {
     "data": {
      "text/html": [
       "<div>\n",
       "<style scoped>\n",
       "    .dataframe tbody tr th:only-of-type {\n",
       "        vertical-align: middle;\n",
       "    }\n",
       "\n",
       "    .dataframe tbody tr th {\n",
       "        vertical-align: top;\n",
       "    }\n",
       "\n",
       "    .dataframe thead th {\n",
       "        text-align: right;\n",
       "    }\n",
       "</style>\n",
       "<table border=\"1\" class=\"dataframe\">\n",
       "  <thead>\n",
       "    <tr style=\"text-align: right;\">\n",
       "      <th></th>\n",
       "      <th>userID</th>\n",
       "      <th>Track</th>\n",
       "      <th>artist</th>\n",
       "      <th>genre</th>\n",
       "      <th>City</th>\n",
       "      <th>time</th>\n",
       "      <th>Day</th>\n",
       "    </tr>\n",
       "  </thead>\n",
       "  <tbody>\n",
       "    <tr>\n",
       "      <td>0</td>\n",
       "      <td>FFB692EC</td>\n",
       "      <td>Kamigata To Boots</td>\n",
       "      <td>The Mass Missile</td>\n",
       "      <td>rock</td>\n",
       "      <td>Saint-Petersburg</td>\n",
       "      <td>20:28:33</td>\n",
       "      <td>Wednesday</td>\n",
       "    </tr>\n",
       "    <tr>\n",
       "      <td>1</td>\n",
       "      <td>55204538</td>\n",
       "      <td>Delayed Because of Accident</td>\n",
       "      <td>Andreas Rönnberg</td>\n",
       "      <td>rock</td>\n",
       "      <td>Moscow</td>\n",
       "      <td>14:07:09</td>\n",
       "      <td>Friday</td>\n",
       "    </tr>\n",
       "    <tr>\n",
       "      <td>2</td>\n",
       "      <td>20EC38</td>\n",
       "      <td>Funiculì funiculà</td>\n",
       "      <td>Mario Lanza</td>\n",
       "      <td>pop</td>\n",
       "      <td>Saint-Petersburg</td>\n",
       "      <td>20:58:07</td>\n",
       "      <td>Wednesday</td>\n",
       "    </tr>\n",
       "    <tr>\n",
       "      <td>3</td>\n",
       "      <td>A3DD03C9</td>\n",
       "      <td>Dragons in the Sunset</td>\n",
       "      <td>Fire + Ice</td>\n",
       "      <td>folk</td>\n",
       "      <td>Saint-Petersburg</td>\n",
       "      <td>08:37:09</td>\n",
       "      <td>Monday</td>\n",
       "    </tr>\n",
       "    <tr>\n",
       "      <td>4</td>\n",
       "      <td>E2DC1FAE</td>\n",
       "      <td>Soul People</td>\n",
       "      <td>Space Echo</td>\n",
       "      <td>dance</td>\n",
       "      <td>Moscow</td>\n",
       "      <td>08:34:34</td>\n",
       "      <td>Monday</td>\n",
       "    </tr>\n",
       "    <tr>\n",
       "      <td>5</td>\n",
       "      <td>842029A1</td>\n",
       "      <td>Преданная</td>\n",
       "      <td>IMPERVTOR</td>\n",
       "      <td>rusrap</td>\n",
       "      <td>Saint-Petersburg</td>\n",
       "      <td>13:09:41</td>\n",
       "      <td>Friday</td>\n",
       "    </tr>\n",
       "    <tr>\n",
       "      <td>6</td>\n",
       "      <td>4CB90AA5</td>\n",
       "      <td>True</td>\n",
       "      <td>Roman Messer</td>\n",
       "      <td>dance</td>\n",
       "      <td>Moscow</td>\n",
       "      <td>13:00:07</td>\n",
       "      <td>Wednesday</td>\n",
       "    </tr>\n",
       "    <tr>\n",
       "      <td>7</td>\n",
       "      <td>F03E1C1F</td>\n",
       "      <td>Feeling This Way</td>\n",
       "      <td>Polina Griffith</td>\n",
       "      <td>dance</td>\n",
       "      <td>Moscow</td>\n",
       "      <td>20:47:49</td>\n",
       "      <td>Wednesday</td>\n",
       "    </tr>\n",
       "    <tr>\n",
       "      <td>8</td>\n",
       "      <td>8FA1D3BE</td>\n",
       "      <td>И вновь продолжается бой</td>\n",
       "      <td>NaN</td>\n",
       "      <td>ruspop</td>\n",
       "      <td>Moscow</td>\n",
       "      <td>09:17:40</td>\n",
       "      <td>Friday</td>\n",
       "    </tr>\n",
       "    <tr>\n",
       "      <td>9</td>\n",
       "      <td>E772D5C0</td>\n",
       "      <td>Pessimist</td>\n",
       "      <td>NaN</td>\n",
       "      <td>dance</td>\n",
       "      <td>Saint-Petersburg</td>\n",
       "      <td>21:20:49</td>\n",
       "      <td>Wednesday</td>\n",
       "    </tr>\n",
       "  </tbody>\n",
       "</table>\n",
       "</div>"
      ],
      "text/plain": [
       "     userID                        Track            artist   genre  \\\n",
       "0  FFB692EC            Kamigata To Boots  The Mass Missile    rock   \n",
       "1  55204538  Delayed Because of Accident  Andreas Rönnberg    rock   \n",
       "2    20EC38            Funiculì funiculà       Mario Lanza     pop   \n",
       "3  A3DD03C9        Dragons in the Sunset        Fire + Ice    folk   \n",
       "4  E2DC1FAE                  Soul People        Space Echo   dance   \n",
       "5  842029A1                    Преданная         IMPERVTOR  rusrap   \n",
       "6  4CB90AA5                         True      Roman Messer   dance   \n",
       "7  F03E1C1F             Feeling This Way   Polina Griffith   dance   \n",
       "8  8FA1D3BE     И вновь продолжается бой               NaN  ruspop   \n",
       "9  E772D5C0                    Pessimist               NaN   dance   \n",
       "\n",
       "             City        time        Day  \n",
       "0  Saint-Petersburg  20:28:33  Wednesday  \n",
       "1            Moscow  14:07:09     Friday  \n",
       "2  Saint-Petersburg  20:58:07  Wednesday  \n",
       "3  Saint-Petersburg  08:37:09     Monday  \n",
       "4            Moscow  08:34:34     Monday  \n",
       "5  Saint-Petersburg  13:09:41     Friday  \n",
       "6            Moscow  13:00:07  Wednesday  \n",
       "7            Moscow  20:47:49  Wednesday  \n",
       "8            Moscow  09:17:40     Friday  \n",
       "9  Saint-Petersburg  21:20:49  Wednesday  "
      ]
     },
     "execution_count": 1077,
     "metadata": {},
     "output_type": "execute_result"
    }
   ],
   "source": [
    "df.head(10)# <получение первых 10 строк таблицы df>"
   ]
  },
  {
   "cell_type": "markdown",
   "metadata": {
    "colab_type": "text",
    "deletable": false,
    "editable": false,
    "id": "FrIiRHuHIBbN",
    "tags": [
     "0210c096-9595-4600-b91d-42ab36a6c3f0"
    ]
   },
   "source": [
    "Общая информация о данных таблицы *df*.\n",
    "\n",
    "\n"
   ]
  },
  {
   "cell_type": "code",
   "execution_count": 1078,
   "metadata": {
    "colab": {},
    "colab_type": "code",
    "deletable": false,
    "id": "K7t8OdZsYN2y"
   },
   "outputs": [
    {
     "name": "stdout",
     "output_type": "stream",
     "text": [
      "<class 'pandas.core.frame.DataFrame'>\n",
      "RangeIndex: 65079 entries, 0 to 65078\n",
      "Data columns (total 7 columns):\n",
      "  userID    65079 non-null object\n",
      "Track       63848 non-null object\n",
      "artist      57876 non-null object\n",
      "genre       63881 non-null object\n",
      "  City      65079 non-null object\n",
      "time        65079 non-null object\n",
      "Day         65079 non-null object\n",
      "dtypes: object(7)\n",
      "memory usage: 3.5+ MB\n"
     ]
    }
   ],
   "source": [
    "df.info()# <получение общей информации о данных в таблице df>"
   ]
  },
  {
   "cell_type": "markdown",
   "metadata": {
    "colab_type": "text",
    "deletable": false,
    "id": "CnHv9HZCc7LN"
   },
   "source": [
    "Рассмотрим полученную информацию подробнее.\n",
    "\n",
    "Всего в таблице 7 столбцов, тип данных у каждого столбца - < напишите название типа данных >.\n",
    "\n",
    "Подробно разберём, какие в *df* столбцы и какую информацию они содержат:\n",
    "\n",
    "* userID — идентификатор пользователя;\n",
    "* Track — название трека;  \n",
    "* artist — имя исполнителя;\n",
    "* genre — название жанра;\n",
    "* City — город, в котором происходило прослушивание;\n",
    "* time — время, в которое пользователь слушал трек;\n",
    "* Day — день недели.\n",
    "\n",
    "Количество значений в столбцах различается. Это говорит о том, что в данных есть <введите определение> значения.\n",
    "\n"
   ]
  },
  {
   "cell_type": "markdown",
   "metadata": {
    "colab_type": "text",
    "deletable": false,
    "id": "DCYFm5VrevuB"
   },
   "source": [
    "**Выводы**"
   ]
  },
  {
   "cell_type": "markdown",
   "metadata": {
    "colab_type": "text",
    "deletable": false,
    "id": "PCEtjdmvezRm"
   },
   "source": [
    "Каждая строка таблицы содержит информацию о композициях определённого жанра в определённом исполнении, которые пользователи слушали в одном из городов в определённое время и день недели. Две проблемы, которые нужно решать: пропуски и некачественные названия столбцов. Для проверки рабочих гипотез особенно ценны столбцы *time*, *day* и *City*. Данные из столбца *genre* позволят узнать самые популярные жанры."
   ]
  },
  {
   "cell_type": "markdown",
   "metadata": {
    "colab_type": "text",
    "deletable": false,
    "editable": false,
    "id": "ZYaC0bU-IZ0a",
    "tags": [
     "2c946931-9c91-4e15-baf8-43fb79bcb454"
    ]
   },
   "source": [
    "# Этап 2. Предобработка данных"
   ]
  },
  {
   "cell_type": "markdown",
   "metadata": {
    "colab_type": "text",
    "deletable": false,
    "id": "Dl8grmTrPxZi"
   },
   "source": [
    "Исключим пропуски, переименуем столбцы, а также проверим данные на наличие дубликатов."
   ]
  },
  {
   "cell_type": "markdown",
   "metadata": {
    "colab_type": "text",
    "deletable": false,
    "id": "6OIhlsG_IjI8"
   },
   "source": [
    "Получаем перечень названий столбцов. Какая наблюдается проблема — кроме тех, что уже были названы ранее?"
   ]
  },
  {
   "cell_type": "code",
   "execution_count": 1079,
   "metadata": {
    "colab": {},
    "colab_type": "code",
    "deletable": false,
    "id": "Tag65F_Uitsx"
   },
   "outputs": [
    {
     "data": {
      "text/plain": [
       "Index(['  userID', 'Track', 'artist', 'genre', '  City  ', 'time', 'Day'], dtype='object')"
      ]
     },
     "execution_count": 1079,
     "metadata": {},
     "output_type": "execute_result"
    }
   ],
   "source": [
    "df.columns # <перечень названий столбцов таблицы df>"
   ]
  },
  {
   "cell_type": "markdown",
   "metadata": {
    "colab_type": "text",
    "deletable": false,
    "id": "x6iJC-cEhnRL"
   },
   "source": [
    "В названиях столбцов есть пробелы, которые могут затруднять доступ к данным."
   ]
  },
  {
   "cell_type": "markdown",
   "metadata": {
    "colab_type": "text",
    "deletable": false,
    "editable": false,
    "id": "BK6m6-DZhlTs",
    "tags": [
     "c2b469cf-2148-4115-8806-0fbb00a9d55d"
    ]
   },
   "source": [
    "Переименуем столбцы для удобства дальнейшей работы. Проверим результат.\n",
    "\n"
   ]
  },
  {
   "cell_type": "code",
   "execution_count": 1080,
   "metadata": {
    "colab": {},
    "colab_type": "code",
    "deletable": false,
    "id": "XintVfCniw2-"
   },
   "outputs": [],
   "source": [
    "df.set_axis(['user_id','track_name','artist_name','genre_name','city','time','weekday'],axis='columns',inplace=True)# <переименование столбцов>"
   ]
  },
  {
   "cell_type": "code",
   "execution_count": 1081,
   "metadata": {
    "colab": {},
    "colab_type": "code",
    "deletable": false,
    "id": "ozQL91G4izdp"
   },
   "outputs": [
    {
     "data": {
      "text/plain": [
       "Index(['user_id', 'track_name', 'artist_name', 'genre_name', 'city', 'time',\n",
       "       'weekday'],\n",
       "      dtype='object')"
      ]
     },
     "execution_count": 1081,
     "metadata": {},
     "output_type": "execute_result"
    }
   ],
   "source": [
    "df.columns# <проверка результатов - перечень названий столбцов>"
   ]
  },
  {
   "cell_type": "markdown",
   "metadata": {
    "colab_type": "text",
    "deletable": false,
    "editable": false,
    "id": "oc2qS2UBIkQu",
    "tags": [
     "325fae3b-abce-4c7c-8c41-87ed8a26ff5d"
    ]
   },
   "source": [
    "Проверим данные на наличие пропусков вызовом набора методов для суммирования пропущенных значений."
   ]
  },
  {
   "cell_type": "code",
   "execution_count": 1082,
   "metadata": {
    "colab": {},
    "colab_type": "code",
    "deletable": false,
    "id": "BZh9yLHhjy_R"
   },
   "outputs": [
    {
     "data": {
      "text/plain": [
       "user_id           0\n",
       "track_name     1231\n",
       "artist_name    7203\n",
       "genre_name     1198\n",
       "city              0\n",
       "time              0\n",
       "weekday           0\n",
       "dtype: int64"
      ]
     },
     "execution_count": 1082,
     "metadata": {},
     "output_type": "execute_result"
    }
   ],
   "source": [
    "df.isnull().sum()\n",
    "\n",
    "# <суммарное количество пропусков, выявленных методом isnull() в таблице df>"
   ]
  },
  {
   "cell_type": "markdown",
   "metadata": {
    "colab_type": "text",
    "deletable": false,
    "id": "OJXGaa02tSJJ"
   },
   "source": [
    "Пустые значения свидетельствуют, что для некоторых треков доступна не вся информация. Причины могут быть разные: скажем,  не назван конкретный исполнитель народной песни. Хуже, если проблемы с записью данных. Каждый отдельный случай необходимо разобрать и выявить причину."
   ]
  },
  {
   "cell_type": "markdown",
   "metadata": {
    "colab_type": "text",
    "deletable": false,
    "id": "-fBDAWZUkAg-"
   },
   "source": [
    "Заменяем пропущенные значения в столбцах с названием трека и исполнителя на строку 'unknown'. После этой операции нужно убедиться, что таблица больше не содержит пропусков."
   ]
  },
  {
   "cell_type": "code",
   "execution_count": 1083,
   "metadata": {
    "colab": {},
    "colab_type": "code",
    "deletable": false,
    "id": "EO8zFcJPlbvV"
   },
   "outputs": [],
   "source": [
    "df['track_name'] = df['track_name'].fillna('unknown') \n",
    "# <замена пропущенных значений в столбце 'track_name' на строку 'unknown' специальным методом замены>\n"
   ]
  },
  {
   "cell_type": "code",
   "execution_count": 1084,
   "metadata": {
    "colab": {},
    "colab_type": "code",
    "deletable": false,
    "id": "3hsNZcLST0UW"
   },
   "outputs": [],
   "source": [
    "df['artist_name'] = df['artist_name'].fillna('unknown')# <замена пропущенных значений в столбце 'artist_name' на строку 'unknown' специальным методом замены>"
   ]
  },
  {
   "cell_type": "code",
   "execution_count": 1085,
   "metadata": {
    "colab": {},
    "colab_type": "code",
    "deletable": false,
    "id": "Ua-Z8TAblgzC"
   },
   "outputs": [
    {
     "data": {
      "text/plain": [
       "user_id           0\n",
       "track_name        0\n",
       "artist_name       0\n",
       "genre_name     1198\n",
       "city              0\n",
       "time              0\n",
       "weekday           0\n",
       "dtype: int64"
      ]
     },
     "execution_count": 1085,
     "metadata": {},
     "output_type": "execute_result"
    }
   ],
   "source": [
    "df.isnull().sum()# <проверка: вычисление суммарного количества пропусков, выявленных в таблице df>"
   ]
  },
  {
   "cell_type": "markdown",
   "metadata": {
    "colab_type": "text",
    "deletable": false,
    "editable": false,
    "id": "-cjfT0w2ln9C",
    "tags": [
     "9cb28dd4-e24e-4490-aebd-b37ba9e492c5"
    ]
   },
   "source": [
    "Удаляем в столбце с жанрами пустые значения; убеждаемся, что их больше не осталось."
   ]
  },
  {
   "cell_type": "code",
   "execution_count": 1086,
   "metadata": {
    "colab": {},
    "colab_type": "code",
    "deletable": false,
    "id": "TIpk7lwtnZkZ"
   },
   "outputs": [],
   "source": [
    "df.dropna(subset=['genre_name'],inplace=True)# <удаление пропущенных значений в столбце 'genre_name'>"
   ]
  },
  {
   "cell_type": "code",
   "execution_count": 1087,
   "metadata": {
    "colab": {},
    "colab_type": "code",
    "deletable": false,
    "id": "-1CT-CCZnzTA"
   },
   "outputs": [
    {
     "data": {
      "text/plain": [
       "user_id        0\n",
       "track_name     0\n",
       "artist_name    0\n",
       "genre_name     0\n",
       "city           0\n",
       "time           0\n",
       "weekday        0\n",
       "dtype: int64"
      ]
     },
     "execution_count": 1087,
     "metadata": {},
     "output_type": "execute_result"
    }
   ],
   "source": [
    "df.isnull().sum()# <проверка>"
   ]
  },
  {
   "cell_type": "markdown",
   "metadata": {
    "colab_type": "text",
    "deletable": false,
    "editable": false,
    "id": "QsBXpJFzpxA9",
    "tags": [
     "ea46db29-6746-4c02-a47b-75283dde9025"
    ]
   },
   "source": [
    "Необходимо установить наличие дубликатов.  Если найдутся, удаляем, и проверяем, все ли удалились."
   ]
  },
  {
   "cell_type": "code",
   "execution_count": 1088,
   "metadata": {
    "colab": {},
    "colab_type": "code",
    "deletable": false,
    "id": "VRVI_B0RqIgT"
   },
   "outputs": [
    {
     "data": {
      "text/plain": [
       "3755"
      ]
     },
     "execution_count": 1088,
     "metadata": {},
     "output_type": "execute_result"
    }
   ],
   "source": [
    "df.duplicated().sum()# <получение суммарного количества дубликатов в таблице df>"
   ]
  },
  {
   "cell_type": "code",
   "execution_count": 1089,
   "metadata": {
    "colab": {},
    "colab_type": "code",
    "deletable": false,
    "id": "nSYF38OeqZn-"
   },
   "outputs": [],
   "source": [
    "df=df.drop_duplicates().reset_index(drop=True)# <удаление всех дубликатов из таблицы df специальным методом>"
   ]
  },
  {
   "cell_type": "code",
   "execution_count": 1090,
   "metadata": {
    "colab": {},
    "colab_type": "code",
    "deletable": false,
    "id": "O-RfjmkCqIgV"
   },
   "outputs": [
    {
     "data": {
      "text/plain": [
       "0"
      ]
     },
     "execution_count": 1090,
     "metadata": {},
     "output_type": "execute_result"
    }
   ],
   "source": [
    "df.duplicated().sum()# <проверка на отсутствие>"
   ]
  },
  {
   "cell_type": "markdown",
   "metadata": {
    "colab_type": "text",
    "deletable": false,
    "id": "e6cyWPTwsLKw"
   },
   "source": [
    "Дубликаты могли появиться вследствие сбоя в записи данных. Стоит обратить внимание и разобраться с причинами появления такого «информационного мусора»."
   ]
  },
  {
   "cell_type": "markdown",
   "metadata": {
    "colab_type": "text",
    "deletable": false,
    "editable": false,
    "id": "QH-HgrApInjO",
    "tags": [
     "46fb87e8-2d9c-497d-9c6e-746eaa2631ab"
    ]
   },
   "source": [
    "Сохраняем список уникальных значений столбца с жанрами в переменной *genres_list*. \n",
    "\n",
    "Объявим функцию *find_genre()* для поиска неявных дубликатов в столбце с жанрами. Например, когда название одного и того же жанра написано разными словами.\n",
    "\n",
    "\n",
    "\n"
   ]
  },
  {
   "cell_type": "code",
   "execution_count": 1091,
   "metadata": {
    "colab": {},
    "colab_type": "code",
    "deletable": false,
    "id": "FfaTfKAN-PCx"
   },
   "outputs": [
    {
     "name": "stdout",
     "output_type": "stream",
     "text": [
      "['rock' 'pop' 'folk' 'dance' 'rusrap' 'ruspop' 'world' 'electronic'\n",
      " 'alternative' 'children' 'rnb' 'hip' 'jazz' 'postrock' 'latin'\n",
      " 'classical' 'metal' 'reggae' 'tatar' 'blues' 'instrumental' 'rusrock'\n",
      " 'dnb' 'türk' 'post' 'country' 'psychedelic' 'conjazz' 'indie'\n",
      " 'posthardcore' 'local' 'avantgarde' 'punk' 'videogame' 'techno' 'house'\n",
      " 'christmas' 'melodic' 'caucasian' 'reggaeton' 'soundtrack' 'singer' 'ska'\n",
      " 'shanson' 'ambient' 'film' 'western' 'rap' 'beats' \"hard'n'heavy\"\n",
      " 'progmetal' 'minimal' 'contemporary' 'new' 'soul' 'holiday' 'german'\n",
      " 'tropical' 'fairytail' 'spiritual' 'urban' 'gospel' 'nujazz' 'folkmetal'\n",
      " 'trance' 'miscellaneous' 'anime' 'hardcore' 'progressive' 'chanson'\n",
      " 'numetal' 'vocal' 'estrada' 'russian' 'classicmetal' 'dubstep' 'club'\n",
      " 'deep' 'southern' 'black' 'folkrock' 'fitness' 'french' 'disco'\n",
      " 'religious' 'hiphop' 'drum' 'extrememetal' 'türkçe' 'experimental' 'easy'\n",
      " 'metalcore' 'modern' 'argentinetango' 'old' 'breaks' 'eurofolk'\n",
      " 'stonerrock' 'industrial' 'funk' 'jpop' 'middle' 'variété' 'other'\n",
      " 'adult' 'christian' 'gothic' 'international' 'muslim' 'relax' 'schlager'\n",
      " 'caribbean' 'ukrrock' 'nu' 'breakbeat' 'comedy' 'chill' 'newage'\n",
      " 'specialty' 'uzbek' 'k-pop' 'balkan' 'chinese' 'meditative' 'dub' 'power'\n",
      " 'death' 'grime' 'arabesk' 'romance' 'flamenco' 'leftfield' 'european'\n",
      " 'tech' 'newwave' 'dancehall' 'mpb' 'piano' 'top' 'bigroom' 'opera'\n",
      " 'celtic' 'tradjazz' 'acoustic' 'epicmetal' 'historisch' 'downbeat'\n",
      " 'downtempo' 'africa' 'audiobook' 'jewish' 'sängerportrait' 'deutschrock'\n",
      " 'eastern' 'action' 'future' 'electropop' 'folklore' 'bollywood'\n",
      " 'marschmusik' 'rnr' 'karaoke' 'indian' 'rancheras' 'электроника'\n",
      " 'afrikaans' 'tango' 'rhythm' 'sound' 'deutschspr' 'trip' 'lovers'\n",
      " 'choral' 'dancepop' 'podcasts' 'retro' 'smooth' 'mexican' 'brazilian'\n",
      " 'ïîï' 'mood' 'surf' 'author' 'gangsta' 'triphop' 'inspirational' 'idm'\n",
      " 'ethnic' 'bluegrass' 'broadway' 'animated' 'americana' 'karadeniz'\n",
      " 'rockabilly' 'colombian' 'self' 'synthrock' 'sertanejo' 'japanese'\n",
      " 'canzone' 'swing' 'lounge' 'sport' 'korean' 'ragga' 'traditional'\n",
      " 'gitarre' 'frankreich' 'alternativepunk' 'emo' 'laiko' 'cantopop'\n",
      " 'glitch' 'documentary' 'rockalternative' 'thrash' 'hymn' 'oceania'\n",
      " 'rockother' 'popeurodance' 'dark' 'vi' 'grunge' 'hardstyle' 'samba'\n",
      " 'garage' 'soft' 'art' 'folktronica' 'entehno' 'mediterranean' 'chamber'\n",
      " 'cuban' 'taraftar' 'rockindie' 'gypsy' 'hardtechno' 'shoegazing'\n",
      " 'skarock' 'bossa' 'salsa' 'latino' 'worldbeat' 'malaysian' 'baile'\n",
      " 'ghazal' 'loungeelectronic' 'arabic' 'popelectronic' 'acid' 'kayokyoku'\n",
      " 'neoklassik' 'tribal' 'tanzorchester' 'native' 'independent' 'cantautori'\n",
      " 'handsup' 'poprussian' 'punjabi' 'synthpop' 'rave' 'französisch'\n",
      " 'quebecois' 'speech' 'soulful' 'teen' 'jam' 'ram' 'horror' 'scenic'\n",
      " 'orchestral' 'neue' 'roots' 'slow' 'jungle' 'indipop' 'axé' 'fado'\n",
      " 'showtunes' 'arena' 'irish' 'mandopop' 'forró' 'popdance' 'dirty'\n",
      " 'regional']\n"
     ]
    }
   ],
   "source": [
    "genres_list=df['genre_name'].unique()\n",
    "print(genres_list)# <сохранение в переменной genres_list списка уникальных значений, выявленных специальным методом в столбце 'genre_name'>"
   ]
  },
  {
   "cell_type": "code",
   "execution_count": 1092,
   "metadata": {
    "colab": {},
    "colab_type": "code",
    "deletable": false,
    "id": "TA_k-VLi-S0R"
   },
   "outputs": [],
   "source": [
    "def find_genre(genre):\n",
    "    result = 0\n",
    "    for row in genres_list:  \n",
    "        if genre == row:\n",
    "            result+=1\n",
    "    return result   \n",
    "# <создание функции find_genre()>\n",
    "# функция принимает как параметр строку с названием искомого жанра\n",
    "# в теле объявляется переменная-счётчик, ей присваивается значение 0,\n",
    "# затем цикл for проходит по списку уникальных значений\n",
    "# если очередной элемент списка равен параметру функции, \n",
    "# то значение счётчика увеличивается на 1\n",
    "# по окончании работы цикла функция возвращает значение счётчика"
   ]
  },
  {
   "cell_type": "markdown",
   "metadata": {
    "colab_type": "text",
    "deletable": false,
    "editable": false,
    "id": "vb3CTOciIL27",
    "tags": [
     "b57e3325-29fc-4ade-83a3-91113c5dad32"
    ]
   },
   "source": [
    "Вызов функции *find_genre()* для поиска различных вариантов названия жанра хип-хоп в таблице.\n",
    "\n",
    "Правильное название — *hiphop*. Поищем другие варианты:\n",
    "\n",
    "* hip\n",
    "* hop\n",
    "* hip-hop\n"
   ]
  },
  {
   "cell_type": "code",
   "execution_count": 1093,
   "metadata": {
    "colab": {},
    "colab_type": "code",
    "deletable": false,
    "id": "YrwqExZS-dyQ"
   },
   "outputs": [
    {
     "data": {
      "text/plain": [
       "1"
      ]
     },
     "execution_count": 1093,
     "metadata": {},
     "output_type": "execute_result"
    }
   ],
   "source": [
    "find_genre('hip')# <вызовом функции find_genre() проверяется наличие варианта 'hip'>"
   ]
  },
  {
   "cell_type": "code",
   "execution_count": 1094,
   "metadata": {
    "colab": {},
    "colab_type": "code",
    "deletable": false,
    "id": "ZoL4EEcR-dyU"
   },
   "outputs": [
    {
     "data": {
      "text/plain": [
       "0"
      ]
     },
     "execution_count": 1094,
     "metadata": {},
     "output_type": "execute_result"
    }
   ],
   "source": [
    "find_genre(\"hop\")# <проверяется наличие варианта 'hop'>"
   ]
  },
  {
   "cell_type": "code",
   "execution_count": 1095,
   "metadata": {
    "colab": {},
    "colab_type": "code",
    "deletable": false,
    "id": "MFowmiug-qZD"
   },
   "outputs": [
    {
     "data": {
      "text/plain": [
       "0"
      ]
     },
     "execution_count": 1095,
     "metadata": {},
     "output_type": "execute_result"
    }
   ],
   "source": [
    "find_genre('hip-hop')# <проверяется наличие варианта 'hip-hop'>"
   ]
  },
  {
   "cell_type": "markdown",
   "metadata": {
    "colab_type": "text",
    "deletable": false,
    "editable": false,
    "id": "a7BQY6ORLMSG",
    "tags": [
     "11f77aa1-5478-453d-b31e-f20041047bb7"
    ]
   },
   "source": [
    "Объявим функцию *find_hip_hop()*, которая заменяет  неправильное название этого жанра в столбце *'genre_name'* на *'hiphop'* и проверяет успешность выполнения замены.\n",
    "\n",
    "Так исправляем все варианты написания, которые выявила проверка."
   ]
  },
  {
   "cell_type": "code",
   "execution_count": 1096,
   "metadata": {
    "colab": {},
    "colab_type": "code",
    "deletable": false,
    "id": "31xlzL_c_FgB"
   },
   "outputs": [],
   "source": [
    "def find_hip_hop(df,wrong):\n",
    "    df['genre_name']=df['genre_name'].replace(wrong,'hiphop')\n",
    "    wrong_count=df[df['genre_name']==wrong] ['genre_name'].count()\n",
    "    #print('wrong_count=',wrong_count)\n",
    "    return wrong_count\n",
    "   \n",
    "# <создание функции find_hip_hop()>\n",
    "# функция принимает как параметры таблицу df и неверное название\n",
    "# к столбцу 'genre_name' применяется специальный метод, \n",
    "# который заменяет второй параметр на строку 'hiphop'\n",
    "# результат работы равен подсчитанному методом count() числу значений столбца, \n",
    "# которые равны второму параметру\n",
    "# функция возвращает результат"
   ]
  },
  {
   "cell_type": "code",
   "execution_count": 1097,
   "metadata": {
    "colab": {},
    "colab_type": "code",
    "deletable": false,
    "id": "ZFXMV2qW_FgE"
   },
   "outputs": [
    {
     "data": {
      "text/plain": [
       "0"
      ]
     },
     "execution_count": 1097,
     "metadata": {},
     "output_type": "execute_result"
    }
   ],
   "source": [
    "find_hip_hop(df,'hip')\n",
    "find_hip_hop(df,'hop')\n",
    "find_hip_hop(df,'hip-hop')# <замена одного неверного варианта на hiphop вызовом функции find_hip_hop()>"
   ]
  },
  {
   "cell_type": "markdown",
   "metadata": {
    "colab_type": "text",
    "deletable": false,
    "editable": false,
    "id": "i90BILA9JQpE",
    "tags": [
     "30535c8e-1643-4088-925b-2a32180e0333"
    ]
   },
   "source": [
    "Получаем общую информацию о данных. Убеждаемся, что чистка выполнена успешно."
   ]
  },
  {
   "cell_type": "code",
   "execution_count": 1098,
   "metadata": {
    "colab": {},
    "colab_type": "code",
    "deletable": false,
    "id": "-yyvdzHA_uJm"
   },
   "outputs": [
    {
     "name": "stdout",
     "output_type": "stream",
     "text": [
      "<class 'pandas.core.frame.DataFrame'>\n",
      "RangeIndex: 60126 entries, 0 to 60125\n",
      "Data columns (total 7 columns):\n",
      "user_id        60126 non-null object\n",
      "track_name     60126 non-null object\n",
      "artist_name    60126 non-null object\n",
      "genre_name     60126 non-null object\n",
      "city           60126 non-null object\n",
      "time           60126 non-null object\n",
      "weekday        60126 non-null object\n",
      "dtypes: object(7)\n",
      "memory usage: 3.2+ MB\n"
     ]
    }
   ],
   "source": [
    "df.info()# <получение общей информации о данных таблицы df>"
   ]
  },
  {
   "cell_type": "markdown",
   "metadata": {
    "colab_type": "text",
    "deletable": false,
    "id": "AReHO17cMRPM"
   },
   "source": [
    "**Вывод**"
   ]
  },
  {
   "cell_type": "markdown",
   "metadata": {
    "colab_type": "text",
    "deletable": false,
    "id": "yscfstUqMS4c"
   },
   "source": [
    "На этапе предобработки в данных обнаружились не только пропуски и проблемы с названиями столбцов, но и всяческие виды дубликатов. Их удаление позволит провести анализ точнее. Поскольку сведения о жанрах важно сохранить для анализа, не просто удаляем все пропущенные значения, но заполним пропущенные имена исполнителей и названия треков. Имена столбцов теперь корректны и удобны для дальнейшей работы."
   ]
  },
  {
   "cell_type": "markdown",
   "metadata": {
    "colab_type": "text",
    "deletable": false,
    "editable": false,
    "id": "MF4nnd1YJUrI",
    "tags": [
     "ac8df732-1797-479a-9c4c-a03745931a9d"
    ]
   },
   "source": [
    "# Действительно ли музыку в разных городах слушают по-разному?"
   ]
  },
  {
   "cell_type": "markdown",
   "metadata": {
    "colab_type": "text",
    "deletable": false,
    "id": "AYSL1OvyM2pL"
   },
   "source": [
    "Была выдвинута гипотеза, что в Москве и Санкт-Петербурге пользователи слушают музыку по-разному. Проверяем это предположение по данным о трёх днях недели — понедельнике, среде и пятнице.\n",
    "\n",
    "Для каждого города устанавливаем количество прослушанных  в эти дни композиций с известным жанром, и сравниваем результаты."
   ]
  },
  {
   "cell_type": "markdown",
   "metadata": {
    "colab_type": "text",
    "deletable": false,
    "id": "OM5Eeh7FNWC-"
   },
   "source": [
    "Группируем данные по городу и вызовом метода *count()* подсчитываем композиции, для которых известен жанр."
   ]
  },
  {
   "cell_type": "code",
   "execution_count": 1099,
   "metadata": {
    "colab": {},
    "colab_type": "code",
    "deletable": false,
    "id": "AtH_pP1i_0m1"
   },
   "outputs": [
    {
     "name": "stdout",
     "output_type": "stream",
     "text": [
      "city\n",
      "Moscow              41892\n",
      "Saint-Petersburg    18234\n",
      "Name: genre_name, dtype: int64\n"
     ]
    }
   ],
   "source": [
    "city_ganre_name_count=df.groupby('city')['genre_name'].count()\n",
    "print(city_ganre_name_count)# <группировка данных таблицы df по столбцу 'city' и подсчёт количества значений столбца 'genre_name'>"
   ]
  },
  {
   "cell_type": "markdown",
   "metadata": {
    "colab_type": "text",
    "deletable": false,
    "id": "XBR226DMpIDf"
   },
   "source": [
    "В Москве прослушиваний больше, чем в Питере, но это не значит, что Москва более активна. У Яндекс.Музыки в целом больше пользователей в Москве, поэтому величины сопоставимы."
   ]
  },
  {
   "cell_type": "markdown",
   "metadata": {
    "colab_type": "text",
    "deletable": false,
    "editable": false,
    "id": "P7EcNQuyNbNB",
    "tags": [
     "133ddd49-3b63-45b1-b50c-9e6ab5fc4175"
    ]
   },
   "source": [
    "Сгруппируем данные по дню недели и подсчитаем прослушанные в понедельник, среду и пятницу композиции, для которых известен жанр."
   ]
  },
  {
   "cell_type": "code",
   "execution_count": 1100,
   "metadata": {
    "colab": {},
    "colab_type": "code",
    "deletable": false,
    "id": "A8E_Tb2b_3un"
   },
   "outputs": [
    {
     "name": "stdout",
     "output_type": "stream",
     "text": [
      "weekday\n",
      "Friday       21482\n",
      "Monday       20866\n",
      "Wednesday    17778\n",
      "Name: genre_name, dtype: int64\n"
     ]
    }
   ],
   "source": [
    "weekday_ganre_name_count=df.groupby('weekday')['genre_name'].count()\n",
    "print(weekday_ganre_name_count)# <группировка данных по столбцу 'weekday' и подсчёт количества значений столбца 'genre_name'>\n"
   ]
  },
  {
   "cell_type": "markdown",
   "metadata": {
    "colab_type": "text",
    "deletable": false,
    "id": "Zhh6hehCpq_U"
   },
   "source": [
    "Понедельник и пятница — время для музыки; по средам пользователи немного больше вовлечены в работу."
   ]
  },
  {
   "cell_type": "markdown",
   "metadata": {
    "colab_type": "text",
    "deletable": false,
    "editable": false,
    "id": "bYab2U5BNdmZ",
    "tags": [
     "bae0a168-5e2b-40f9-9701-bfb32d016517"
    ]
   },
   "source": [
    "Создаём функцию *number_tracks()*, которая принимает как параметры таблицу, день недели и название города, а возвращает количество прослушанных композиций, для которых известен жанр. Проверяем количество прослушанных композиций для каждого города и понедельника, затем среды и пятницы."
   ]
  },
  {
   "cell_type": "code",
   "execution_count": 1101,
   "metadata": {
    "colab": {},
    "colab_type": "code",
    "deletable": false,
    "id": "4SqpGSi5_7hA"
   },
   "outputs": [],
   "source": [
    "def number_tracks(df, day, city):# <создание функции number_tracks()>\n",
    "    track_list=df[ (df['weekday']== day) & (df['city']==city)]\n",
    "    track_list_count=track_list['genre_name'].count()\n",
    "    return track_list_count\n",
    "# объявляется функция с тремя параметрами: df, day, city\n",
    "# в переменной track_list сохраняются те строки таблицы df, для которых \n",
    "# значение в столбце 'weekday' равно параметру day\n",
    "# и одновременно значение в столбце 'city' равно параметру city\n",
    "# в переменной track_list_count сохраняется число значений столбца 'genre_name',\n",
    "# рассчитанное методом count() для таблицы track_list\n",
    "# функция возвращает значение track_list_count"
   ]
  },
  {
   "cell_type": "code",
   "execution_count": 1102,
   "metadata": {
    "deletable": false
   },
   "outputs": [
    {
     "name": "stdout",
     "output_type": "stream",
     "text": [
      "15347\n"
     ]
    }
   ],
   "source": [
    "print (number_tracks(df, 'Monday', 'Moscow'))# <список композиций для Москвы в понедельник>"
   ]
  },
  {
   "cell_type": "code",
   "execution_count": 1103,
   "metadata": {
    "deletable": false
   },
   "outputs": [
    {
     "name": "stdout",
     "output_type": "stream",
     "text": [
      "5519\n"
     ]
    }
   ],
   "source": [
    "print (number_tracks(df, 'Monday', 'Saint-Petersburg'))# <список композиций для Санкт-Петербурга в понедельник>"
   ]
  },
  {
   "cell_type": "code",
   "execution_count": 1104,
   "metadata": {
    "deletable": false
   },
   "outputs": [
    {
     "name": "stdout",
     "output_type": "stream",
     "text": [
      "10865\n"
     ]
    }
   ],
   "source": [
    "print (number_tracks(df, 'Wednesday', 'Moscow'))# <список композиций для Москвы в среду>"
   ]
  },
  {
   "cell_type": "code",
   "execution_count": 1105,
   "metadata": {
    "deletable": false
   },
   "outputs": [
    {
     "name": "stdout",
     "output_type": "stream",
     "text": [
      "6913\n"
     ]
    }
   ],
   "source": [
    "print (number_tracks(df, 'Wednesday', 'Saint-Petersburg'))# <список композиций для Санкт-Петербурга в среду>"
   ]
  },
  {
   "cell_type": "code",
   "execution_count": 1106,
   "metadata": {
    "deletable": false
   },
   "outputs": [
    {
     "name": "stdout",
     "output_type": "stream",
     "text": [
      "15680\n"
     ]
    }
   ],
   "source": [
    "print (number_tracks(df, 'Friday', 'Moscow'))# <список композиций для Москвы в пятницу>"
   ]
  },
  {
   "cell_type": "code",
   "execution_count": 1107,
   "metadata": {
    "deletable": false
   },
   "outputs": [
    {
     "name": "stdout",
     "output_type": "stream",
     "text": [
      "5802\n"
     ]
    }
   ],
   "source": [
    "print (number_tracks(df, 'Friday', 'Saint-Petersburg'))# <список композиций для Санкт-Петербурга в пятницу>"
   ]
  },
  {
   "cell_type": "markdown",
   "metadata": {
    "colab_type": "text",
    "deletable": false,
    "editable": false,
    "id": "tCB9zwzzqZ8g",
    "tags": [
     "d73e12bf-3635-484b-8fb6-c7ccc2101671"
    ]
   },
   "source": [
    "Сведём полученную информацию в одну таблицу, где ['city', 'monday', 'wednesday', 'friday'] названия столбцов.\n"
   ]
  },
  {
   "cell_type": "code",
   "execution_count": 1108,
   "metadata": {
    "deletable": false
   },
   "outputs": [
    {
     "name": "stdout",
     "output_type": "stream",
     "text": [
      "               city  monday  wednesday  friday\n",
      "0            Moscow   15347      10865   15680\n",
      "1  Saint-Petersburg    5519       6913    5802\n"
     ]
    }
   ],
   "source": [
    "data = [['Moscow', 15347, 10865, 15680],\n",
    "       ['Saint-Petersburg', 5519, 6913, 5802]]\n",
    "columns = ['city', 'monday', 'wednesday', 'friday']\n",
    "table=pd.DataFrame(data=data,columns=columns)\n",
    "print(table)# <таблица с полученными данными>"
   ]
  },
  {
   "cell_type": "markdown",
   "metadata": {
    "colab_type": "text",
    "deletable": false,
    "id": "LKCYeMXgqPxD"
   },
   "source": [
    "**Вывод**"
   ]
  },
  {
   "cell_type": "markdown",
   "metadata": {
    "colab_type": "text",
    "deletable": false,
    "id": "RJpg6I8jqQ0x"
   },
   "source": [
    "Результаты показывают, что относительно среды музыку в Петербурге и Москве слушают «зеркально»: в Москве пики приходятся на понедельник и пятницу, а в среду время прослушивания снижается. Тогда как в Санкт-Петербурге среда — день самого большого интереса к музыке, а в понедельник и пятницу он меньше, причём почти одинаково меньше."
   ]
  },
  {
   "cell_type": "markdown",
   "metadata": {
    "colab_type": "text",
    "deletable": false,
    "editable": false,
    "id": "tLdpUGyewzGf",
    "tags": [
     "1eb8124a-f066-4c43-b1f4-bc672c5efd57"
    ]
   },
   "source": [
    "# Утро понедельника и вечер пятницы — разная музыка или одна и та же?"
   ]
  },
  {
   "cell_type": "markdown",
   "metadata": {
    "colab_type": "text",
    "deletable": false,
    "id": "SaQlxcVntL3x"
   },
   "source": [
    "Ищем ответ на вопрос, какие жанры преобладают в разных городах в понедельник утром и в пятницу вечером. Есть предположение, что в понедельник утром пользователи слушают больше бодрящей музыки (например, жанра поп), а вечером пятницы — больше танцевальных (например, электронику)."
   ]
  },
  {
   "cell_type": "markdown",
   "metadata": {
    "colab_type": "text",
    "deletable": false,
    "id": "lYGAneOaPBhS"
   },
   "source": [
    "Получим таблицы данных по Москве *moscow_general* и по Санкт-Петербургу *spb_general*."
   ]
  },
  {
   "cell_type": "code",
   "execution_count": 1109,
   "metadata": {
    "colab": {},
    "colab_type": "code",
    "deletable": false,
    "id": "Pyz1i56nA5IS"
   },
   "outputs": [],
   "source": [
    "moscow_general=df[ df['city']=='Moscow']# получение таблицы moscow_general из тех строк таблицы df, \n",
    "#print(moscow_general)# для которых значение в столбце 'city' равно 'Moscow'"
   ]
  },
  {
   "cell_type": "code",
   "execution_count": 1110,
   "metadata": {
    "colab": {},
    "colab_type": "code",
    "deletable": false,
    "id": "w3NNN-2hA-al"
   },
   "outputs": [],
   "source": [
    "spb_general=df[ df['city']=='Saint-Petersburg']# <получение таблицы spb_general>"
   ]
  },
  {
   "cell_type": "markdown",
   "metadata": {
    "colab_type": "text",
    "deletable": false,
    "editable": false,
    "id": "duDdH_WiPLky",
    "tags": [
     "7f7cae13-ec1c-45c4-9204-0a4354fe1766"
    ]
   },
   "source": [
    "Создаём функцию *genre_weekday()*, которая возвращает список жанров по запрошенному дню недели и времени суток с такого-то часа по такой-то."
   ]
  },
  {
   "cell_type": "code",
   "execution_count": 1111,
   "metadata": {
    "colab": {},
    "colab_type": "code",
    "deletable": false,
    "id": "JhUdQynHBEYw"
   },
   "outputs": [],
   "source": [
    "def genre_weekday(df, day, time1,time2):# объявление функции genre_weekday() с параметрами df, day, time1, time2\n",
    "    genre_list=df[(df['weekday']== day) & (df['time']>time1) ] #& (df['time']<time2) time2\n",
    "# в переменной genre_list сохраняются те строки df, для которых одновременно:\n",
    "# 1) значение в столбце 'weekday' равно параметру day,\n",
    "# 2) значение в столбце 'time' больше time1 и\n",
    "# 3) меньше time2.\n",
    "  \n",
    "    genre_list_sorted1=genre_list.groupby('genre_name')['genre_name'].count()\n",
    "    genre_list_sorted=genre_list_sorted1.sort_values(ascending = False).head(10)\n",
    "    \n",
    "# в переменной genre_list_sorted сохраняются в порядке убывания  \n",
    "\n",
    "# первые 10 значений Series, полученной подсчётом числа значений 'genre_name'\n",
    "# сгруппированной по столбцу 'genre_name' таблицы genre_list\n",
    "    return genre_list_sorted# функция возвращает значение genre_list_sorted"
   ]
  },
  {
   "cell_type": "markdown",
   "metadata": {
    "colab_type": "text",
    "deletable": false,
    "editable": false,
    "id": "bxGC8kXkP7B-",
    "tags": [
     "63e2c3f3-fa64-4376-8221-e8b753264535"
    ]
   },
   "source": [
    "Cравниваем полученные результаты по таблице для Москвы и Санкт-Петербурга в понедельник утром (с 7 до 11) и в пятницу вечером (с 17 до 23)."
   ]
  },
  {
   "cell_type": "code",
   "execution_count": 1112,
   "metadata": {
    "colab": {},
    "colab_type": "code",
    "deletable": false,
    "id": "kbgeq-55BLEI"
   },
   "outputs": [
    {
     "name": "stdout",
     "output_type": "stream",
     "text": [
      "genre_name\n",
      "pop            2154\n",
      "dance          1669\n",
      "rock           1452\n",
      "electronic     1432\n",
      "hiphop          789\n",
      "classical       558\n",
      "world           548\n",
      "alternative     499\n",
      "ruspop          478\n",
      "rusrap          440\n",
      "Name: genre_name, dtype: int64\n"
     ]
    }
   ],
   "source": [
    "print(genre_weekday(moscow_general, 'Monday', '07:00:00','11:00:00'))# <вызов функции для утра понедельника в Москве (вместо df таблица moscow_general)>"
   ]
  },
  {
   "cell_type": "code",
   "execution_count": 1113,
   "metadata": {
    "colab": {},
    "colab_type": "code",
    "deletable": false,
    "id": "XHwa8N2EBRXO"
   },
   "outputs": [
    {
     "data": {
      "text/plain": [
       "genre_name\n",
       "pop            732\n",
       "dance          589\n",
       "rock           577\n",
       "electronic     523\n",
       "hiphop         277\n",
       "alternative    199\n",
       "classical      187\n",
       "jazz           174\n",
       "rusrap         164\n",
       "world          163\n",
       "Name: genre_name, dtype: int64"
      ]
     },
     "execution_count": 1113,
     "metadata": {},
     "output_type": "execute_result"
    }
   ],
   "source": [
    "genre_weekday(spb_general, 'Monday', '07:00:00','11:00:00')# <вызов функции для утра понедельника в Петербурге (вместо df таблица spb_general)>"
   ]
  },
  {
   "cell_type": "code",
   "execution_count": 1114,
   "metadata": {
    "colab": {},
    "colab_type": "code",
    "deletable": false,
    "id": "YvdSbg2jBUeq"
   },
   "outputs": [
    {
     "data": {
      "text/plain": [
       "genre_name\n",
       "pop            713\n",
       "rock           517\n",
       "dance          495\n",
       "electronic     482\n",
       "hiphop         273\n",
       "world          208\n",
       "ruspop         170\n",
       "alternative    163\n",
       "classical      163\n",
       "rusrap         142\n",
       "Name: genre_name, dtype: int64"
      ]
     },
     "execution_count": 1114,
     "metadata": {},
     "output_type": "execute_result"
    }
   ],
   "source": [
    "genre_weekday(moscow_general, 'Friday', '17:00:00','23:00:00')# <вызов функции для вечера пятницы в Москве>"
   ]
  },
  {
   "cell_type": "code",
   "execution_count": 1115,
   "metadata": {
    "colab": {},
    "colab_type": "code",
    "deletable": false,
    "id": "Ew3ig4fPBUeu"
   },
   "outputs": [
    {
     "data": {
      "text/plain": [
       "genre_name\n",
       "pop            256\n",
       "rock           216\n",
       "electronic     216\n",
       "dance          210\n",
       "hiphop          97\n",
       "alternative     63\n",
       "jazz            61\n",
       "classical       60\n",
       "rusrap          59\n",
       "world           54\n",
       "Name: genre_name, dtype: int64"
      ]
     },
     "execution_count": 1115,
     "metadata": {},
     "output_type": "execute_result"
    }
   ],
   "source": [
    "genre_weekday(spb_general, 'Friday', '17:00:00','23:00:00')# <вызов функции для вечера пятницы в Питере>"
   ]
  },
  {
   "cell_type": "markdown",
   "metadata": {
    "colab_type": "text",
    "deletable": false,
    "id": "UenYBZTIwYT-"
   },
   "source": [
    "Популярные жанры в понедельник утром в Питере и Москве оказались похожи: везде, как и предполагалось, популярен поп. Несмотря на это, концовка топ-10 для двух городов различается: в Питере в топ-10 входит джаз и русский рэп, а в Москве жанр *world*.\n",
    "\n",
    "В конце недели ситуация не меняется. Поп-музыка всё так же на первом месте. Опять разница заметна только в концовке топ-10, где в Питере пятничным вечером тоже присутствует жанр *world*."
   ]
  },
  {
   "cell_type": "markdown",
   "metadata": {
    "colab_type": "text",
    "deletable": false,
    "id": "MBxfrKPAykp_"
   },
   "source": [
    "**Вывод**"
   ]
  },
  {
   "cell_type": "markdown",
   "metadata": {
    "colab_type": "text",
    "deletable": false,
    "id": "j8ypBMwSymL6"
   },
   "source": [
    "Жанр поп безусловный лидер, а топ-5 в целом не различается в обеих столицах. При этом видно, что концовка списка более «живая»: для каждого города выделяются более характерные жанры, которые действительно меняют свои позиции в зависимости от дня недели и времени."
   ]
  },
  {
   "cell_type": "markdown",
   "metadata": {
    "colab_type": "text",
    "deletable": false,
    "editable": false,
    "id": "D7YMmgKRw270",
    "tags": [
     "f363205e-76b1-4883-abf1-bf21c9572dc7"
    ]
   },
   "source": [
    "# Москва и Питер — две разные столицы, два разных направления в музыке. Правда?"
   ]
  },
  {
   "cell_type": "markdown",
   "metadata": {
    "colab_type": "text",
    "deletable": false,
    "id": "Wc5srT13zb4Z"
   },
   "source": [
    "Гипотеза: Питер богат своей рэп-культурой, поэтому это направление там слушают чаще, а Москва — город контрастов, но основная масса пользователей слушает попсу.\n",
    "\n"
   ]
  },
  {
   "cell_type": "markdown",
   "metadata": {
    "colab_type": "text",
    "deletable": false,
    "id": "2SFE9_RV2KEL"
   },
   "source": [
    "Сгруппируем таблицу *moscow_general* по жанру, сосчитаем численность композиций каждого жанра методом *count()*, отсортируем в порядке убывания и сохраним результат в таблице *moscow_genres*.\n",
    "\n",
    "Просмотрим первые 10 строк этой новой таблицы."
   ]
  },
  {
   "cell_type": "code",
   "execution_count": 1116,
   "metadata": {
    "colab": {},
    "colab_type": "code",
    "deletable": false,
    "id": "OohoTcsYBheo"
   },
   "outputs": [],
   "source": [
    "moscow_general_group=moscow_general.groupby('genre_name')['genre_name'].count()# одной строкой: группировка таблицы moscow_general по столбцу 'genre_name', \n",
    "#moscow_general_group_count=moscow_general_group ['genre_name'].count()# подсчёт числа значений 'genre_name' в этой группировке методом count(), \n",
    "moscow_genres=moscow_general_group.sort_values(ascending = False)# сортировка Series в порядке убывания и сохранение в moscow_genres"
   ]
  },
  {
   "cell_type": "code",
   "execution_count": 1117,
   "metadata": {
    "colab": {},
    "colab_type": "code",
    "deletable": false,
    "id": "h7IhIKDrBher"
   },
   "outputs": [
    {
     "name": "stdout",
     "output_type": "stream",
     "text": [
      "genre_name\n",
      "pop            5892\n",
      "dance          4435\n",
      "rock           3965\n",
      "electronic     3786\n",
      "hiphop         2096\n",
      "classical      1616\n",
      "world          1432\n",
      "alternative    1379\n",
      "ruspop         1372\n",
      "rusrap         1161\n",
      "Name: genre_name, dtype: int64\n"
     ]
    }
   ],
   "source": [
    "print(moscow_genres.head(10))# <просмотр первых 10 строк moscow_genres>"
   ]
  },
  {
   "cell_type": "markdown",
   "metadata": {
    "colab_type": "text",
    "deletable": false,
    "editable": false,
    "id": "gjnf0lol2fUy",
    "tags": [
     "f7503a48-1b28-483d-9f7b-bae79fb182b5"
    ]
   },
   "source": [
    "Сгруппируем таблицу *spb_general* по жанру, сосчитаем численность композиций каждого жанра методом *count()*, отсортируем в порядке убывания и сохраним результат в таблице *spb_genres*.\n",
    "\n",
    "Просматриваем первые 10 строк этой таблицы. Теперь можно сравнивать два города."
   ]
  },
  {
   "cell_type": "code",
   "execution_count": 1118,
   "metadata": {
    "colab": {},
    "colab_type": "code",
    "deletable": false,
    "id": "eQrdA85dB1LO"
   },
   "outputs": [],
   "source": [
    "spb_general_group=spb_general.groupby('genre_name')['genre_name'].count()\n",
    "spb_genres=spb_general_group.sort_values(ascending = False)# <группировка таблицы spb_general, расчёт, сохранение в spb_genres>"
   ]
  },
  {
   "cell_type": "code",
   "execution_count": 1119,
   "metadata": {
    "colab": {},
    "colab_type": "code",
    "deletable": false,
    "id": "AE-Z-1wCB1LS"
   },
   "outputs": [
    {
     "name": "stdout",
     "output_type": "stream",
     "text": [
      "genre_name\n",
      "pop            2431\n",
      "dance          1932\n",
      "rock           1879\n",
      "electronic     1736\n",
      "hiphop          960\n",
      "alternative     649\n",
      "classical       646\n",
      "rusrap          564\n",
      "ruspop          538\n",
      "world           515\n",
      "Name: genre_name, dtype: int64\n"
     ]
    }
   ],
   "source": [
    "print(spb_genres.head(10))# <просмотр первых 10 строк spb_genres>"
   ]
  },
  {
   "cell_type": "markdown",
   "metadata": {
    "colab_type": "text",
    "deletable": false,
    "id": "J5E-kLgK2piO"
   },
   "source": [
    "**Вывод**"
   ]
  },
  {
   "cell_type": "markdown",
   "metadata": {
    "colab_type": "text",
    "deletable": false,
    "id": "-9R3-Qh02tNt"
   },
   "source": [
    "В Москве, кроме абсолютно популярного жанра поп, есть направление русской популярной музыки. Значит, что интерес к этому жанру шире. А рэп, вопреки предположению, занимает в обоих городах близкие позиции."
   ]
  },
  {
   "cell_type": "markdown",
   "metadata": {
    "colab_type": "text",
    "deletable": false,
    "editable": false,
    "id": "gLlT9nKMQ3ky",
    "tags": [
     "0d44c8c0-390b-4c9e-b797-ddc3993f6e58"
    ]
   },
   "source": [
    "# Этап 4. Результаты исследования\n"
   ]
  },
  {
   "cell_type": "markdown",
   "metadata": {
    "colab_type": "text",
    "deletable": false,
    "id": "GtvyRBbD7dv5"
   },
   "source": [
    "Рабочие гипотезы:\n",
    "\n",
    "* музыку в двух городах — Москве и Санкт-Петербурге — слушают в разном режиме;подтверждена\n",
    "\n",
    "* списки десяти самых популярных жанров утром в понедельник и вечером в пятницу имеют характерные отличия;не подтверждена\n",
    "\n",
    "* население двух городов предпочитает разные музыкальные жанры.не подтверждена\n",
    "\n",
    "**Общие результаты**\n",
    "\n",
    "Москва и Петербург сходятся во вкусах: везде преобладает популярная музыка. При этом зависимости предпочтений от дня недели в каждом отдельном городе нет — люди постоянно слушают то, что им нравится. Но между городами в разрезе дней неделей наблюдается зеркальность относительно среды: Москва больше слушает в понедельник и пятницу, а Петербург наоборот - больше в среду, но меньше в понедельник и пятницу.\n",
    "\n",
    "В результате первая гипотеза < укажите подтверждена/не подтверждена>, вторая гипотеза < укажите подтверждена/не подтверждена > и третья < укажите подтверждена/не подтверждена >."
   ]
  }
 ],
 "metadata": {
  "ExecuteTimeLog": [
   {
    "duration": 324,
    "start_time": "2021-08-06T13:14:39.349Z"
   },
   {
    "duration": 691,
    "start_time": "2021-08-06T13:14:44.452Z"
   },
   {
    "duration": 2057,
    "start_time": "2021-08-06T13:14:46.682Z"
   },
   {
    "duration": 282,
    "start_time": "2021-08-06T13:14:49.283Z"
   },
   {
    "duration": 183,
    "start_time": "2021-08-06T13:17:01.082Z"
   },
   {
    "duration": 23,
    "start_time": "2021-08-06T13:17:07.160Z"
   },
   {
    "duration": 31,
    "start_time": "2021-08-06T13:17:44.341Z"
   },
   {
    "duration": 312,
    "start_time": "2021-08-06T13:19:11.133Z"
   },
   {
    "duration": 289,
    "start_time": "2021-08-06T13:19:19.333Z"
   },
   {
    "duration": 334,
    "start_time": "2021-08-06T13:26:01.321Z"
   },
   {
    "duration": 268,
    "start_time": "2021-08-06T13:26:17.892Z"
   },
   {
    "duration": 5,
    "start_time": "2021-08-06T13:26:35.121Z"
   },
   {
    "duration": 278,
    "start_time": "2021-08-06T13:32:08.017Z"
   },
   {
    "duration": 258,
    "start_time": "2021-08-06T13:32:26.793Z"
   },
   {
    "duration": 4,
    "start_time": "2021-08-06T13:34:24.621Z"
   },
   {
    "duration": 5,
    "start_time": "2021-08-06T13:34:38.053Z"
   },
   {
    "duration": 40,
    "start_time": "2021-08-06T13:35:07.153Z"
   },
   {
    "duration": 30,
    "start_time": "2021-08-06T13:35:55.373Z"
   },
   {
    "duration": 4,
    "start_time": "2021-08-06T13:43:18.278Z"
   },
   {
    "duration": 5,
    "start_time": "2021-08-06T13:43:22.018Z"
   },
   {
    "duration": 34,
    "start_time": "2021-08-06T13:43:26.587Z"
   },
   {
    "duration": 278,
    "start_time": "2021-08-06T13:43:31.558Z"
   },
   {
    "duration": 274,
    "start_time": "2021-08-06T13:44:44.578Z"
   },
   {
    "duration": 10,
    "start_time": "2021-08-06T13:45:00.128Z"
   },
   {
    "duration": 3890,
    "start_time": "2021-08-06T13:45:04.408Z"
   },
   {
    "duration": -98,
    "start_time": "2021-08-06T13:45:12.700Z"
   },
   {
    "duration": 3646,
    "start_time": "2021-08-06T13:45:40.538Z"
   },
   {
    "duration": 3811,
    "start_time": "2021-08-06T13:46:03.604Z"
   },
   {
    "duration": 3946,
    "start_time": "2021-08-06T13:50:06.432Z"
   },
   {
    "duration": 4,
    "start_time": "2021-08-06T13:50:34.372Z"
   },
   {
    "duration": 188,
    "start_time": "2021-08-06T13:50:36.632Z"
   },
   {
    "duration": 15,
    "start_time": "2021-08-06T13:50:38.611Z"
   },
   {
    "duration": 32,
    "start_time": "2021-08-06T13:50:41.126Z"
   },
   {
    "duration": 6,
    "start_time": "2021-08-06T13:50:44.696Z"
   },
   {
    "duration": 4,
    "start_time": "2021-08-06T13:50:55.037Z"
   },
   {
    "duration": 6,
    "start_time": "2021-08-06T13:50:58.291Z"
   },
   {
    "duration": 29,
    "start_time": "2021-08-06T13:51:00.957Z"
   },
   {
    "duration": 12,
    "start_time": "2021-08-06T13:51:06.191Z"
   },
   {
    "duration": 12,
    "start_time": "2021-08-06T13:51:10.941Z"
   },
   {
    "duration": 31,
    "start_time": "2021-08-06T13:51:32.878Z"
   },
   {
    "duration": 292,
    "start_time": "2021-08-06T13:53:53.222Z"
   },
   {
    "duration": 317,
    "start_time": "2021-08-06T13:54:14.510Z"
   },
   {
    "duration": 21,
    "start_time": "2021-08-06T13:54:38.514Z"
   },
   {
    "duration": 33,
    "start_time": "2021-08-06T13:54:50.626Z"
   },
   {
    "duration": 81,
    "start_time": "2021-08-06T13:55:35.405Z"
   },
   {
    "duration": 308,
    "start_time": "2021-08-06T13:58:39.706Z"
   },
   {
    "duration": 112,
    "start_time": "2021-08-06T13:59:16.586Z"
   },
   {
    "duration": 79,
    "start_time": "2021-08-06T13:59:26.946Z"
   },
   {
    "duration": 7,
    "start_time": "2021-08-06T14:01:05.358Z"
   },
   {
    "duration": 455,
    "start_time": "2021-08-09T09:08:38.557Z"
   },
   {
    "duration": 1890,
    "start_time": "2021-08-09T09:13:43.852Z"
   },
   {
    "duration": 179,
    "start_time": "2021-08-09T09:13:47.012Z"
   },
   {
    "duration": 23,
    "start_time": "2021-08-09T09:13:49.502Z"
   },
   {
    "duration": 30,
    "start_time": "2021-08-09T09:13:55.433Z"
   },
   {
    "duration": 5,
    "start_time": "2021-08-09T09:14:00.743Z"
   },
   {
    "duration": 4,
    "start_time": "2021-08-09T09:14:04.552Z"
   },
   {
    "duration": 5,
    "start_time": "2021-08-09T09:14:08.163Z"
   },
   {
    "duration": 38,
    "start_time": "2021-08-09T09:14:12.572Z"
   },
   {
    "duration": 13,
    "start_time": "2021-08-09T09:14:15.592Z"
   },
   {
    "duration": 28,
    "start_time": "2021-08-09T09:14:20.342Z"
   },
   {
    "duration": 21,
    "start_time": "2021-08-09T09:14:22.952Z"
   },
   {
    "duration": 38,
    "start_time": "2021-08-09T09:14:27.181Z"
   },
   {
    "duration": 77,
    "start_time": "2021-08-09T09:14:28.402Z"
   },
   {
    "duration": 110,
    "start_time": "2021-08-09T09:14:32.164Z"
   },
   {
    "duration": 80,
    "start_time": "2021-08-09T09:14:47.248Z"
   },
   {
    "duration": 6,
    "start_time": "2021-08-09T09:14:52.774Z"
   },
   {
    "duration": 7,
    "start_time": "2021-08-09T09:15:29.755Z"
   },
   {
    "duration": 9,
    "start_time": "2021-08-09T09:16:15.496Z"
   },
   {
    "duration": 134,
    "start_time": "2021-08-09T09:31:24.631Z"
   },
   {
    "duration": 129,
    "start_time": "2021-08-09T09:31:41.326Z"
   },
   {
    "duration": 116,
    "start_time": "2021-08-09T09:32:13.786Z"
   },
   {
    "duration": 130,
    "start_time": "2021-08-09T09:32:46.846Z"
   },
   {
    "duration": 120,
    "start_time": "2021-08-09T09:33:20.836Z"
   },
   {
    "duration": 135,
    "start_time": "2021-08-09T09:43:50.728Z"
   },
   {
    "duration": 130,
    "start_time": "2021-08-09T09:44:56.076Z"
   },
   {
    "duration": 5,
    "start_time": "2021-08-09T09:45:27.079Z"
   },
   {
    "duration": 221,
    "start_time": "2021-08-09T09:45:27.088Z"
   },
   {
    "duration": 13,
    "start_time": "2021-08-09T09:45:27.312Z"
   },
   {
    "duration": 36,
    "start_time": "2021-08-09T09:45:27.328Z"
   },
   {
    "duration": 26,
    "start_time": "2021-08-09T09:45:27.366Z"
   },
   {
    "duration": 6,
    "start_time": "2021-08-09T09:45:27.395Z"
   },
   {
    "duration": 7,
    "start_time": "2021-08-09T09:45:27.403Z"
   },
   {
    "duration": 34,
    "start_time": "2021-08-09T09:45:27.413Z"
   },
   {
    "duration": 11,
    "start_time": "2021-08-09T09:45:27.450Z"
   },
   {
    "duration": 33,
    "start_time": "2021-08-09T09:45:27.464Z"
   },
   {
    "duration": 30,
    "start_time": "2021-08-09T09:45:27.500Z"
   },
   {
    "duration": 20,
    "start_time": "2021-08-09T09:45:27.533Z"
   },
   {
    "duration": 70,
    "start_time": "2021-08-09T09:45:27.555Z"
   },
   {
    "duration": 101,
    "start_time": "2021-08-09T09:45:27.628Z"
   },
   {
    "duration": 133,
    "start_time": "2021-08-09T09:45:27.731Z"
   },
   {
    "duration": 100,
    "start_time": "2021-08-09T09:45:27.867Z"
   },
   {
    "duration": 21,
    "start_time": "2021-08-09T09:45:27.970Z"
   },
   {
    "duration": 157,
    "start_time": "2021-08-09T09:45:27.994Z"
   },
   {
    "duration": -736,
    "start_time": "2021-08-09T09:45:28.891Z"
   },
   {
    "duration": -746,
    "start_time": "2021-08-09T09:45:28.902Z"
   },
   {
    "duration": -752,
    "start_time": "2021-08-09T09:45:28.910Z"
   },
   {
    "duration": -832,
    "start_time": "2021-08-09T09:45:28.991Z"
   },
   {
    "duration": -840,
    "start_time": "2021-08-09T09:45:29.000Z"
   },
   {
    "duration": -846,
    "start_time": "2021-08-09T09:45:29.008Z"
   },
   {
    "duration": -855,
    "start_time": "2021-08-09T09:45:29.018Z"
   },
   {
    "duration": -864,
    "start_time": "2021-08-09T09:45:29.028Z"
   },
   {
    "duration": -870,
    "start_time": "2021-08-09T09:45:29.036Z"
   },
   {
    "duration": -874,
    "start_time": "2021-08-09T09:45:29.041Z"
   },
   {
    "duration": -878,
    "start_time": "2021-08-09T09:45:29.047Z"
   },
   {
    "duration": -893,
    "start_time": "2021-08-09T09:45:29.063Z"
   },
   {
    "duration": -897,
    "start_time": "2021-08-09T09:45:29.069Z"
   },
   {
    "duration": -900,
    "start_time": "2021-08-09T09:45:29.073Z"
   },
   {
    "duration": -903,
    "start_time": "2021-08-09T09:45:29.078Z"
   },
   {
    "duration": -906,
    "start_time": "2021-08-09T09:45:29.082Z"
   },
   {
    "duration": -921,
    "start_time": "2021-08-09T09:45:29.098Z"
   },
   {
    "duration": -923,
    "start_time": "2021-08-09T09:45:29.102Z"
   },
   {
    "duration": -927,
    "start_time": "2021-08-09T09:45:29.107Z"
   },
   {
    "duration": -929,
    "start_time": "2021-08-09T09:45:29.116Z"
   },
   {
    "duration": -943,
    "start_time": "2021-08-09T09:45:29.132Z"
   },
   {
    "duration": -945,
    "start_time": "2021-08-09T09:45:29.136Z"
   },
   {
    "duration": -947,
    "start_time": "2021-08-09T09:45:29.140Z"
   },
   {
    "duration": -950,
    "start_time": "2021-08-09T09:45:29.145Z"
   },
   {
    "duration": -948,
    "start_time": "2021-08-09T09:45:29.149Z"
   },
   {
    "duration": -951,
    "start_time": "2021-08-09T09:45:29.154Z"
   },
   {
    "duration": -955,
    "start_time": "2021-08-09T09:45:29.159Z"
   },
   {
    "duration": 5,
    "start_time": "2021-08-09T09:46:29.322Z"
   },
   {
    "duration": 4,
    "start_time": "2021-08-09T09:46:37.578Z"
   },
   {
    "duration": 428,
    "start_time": "2021-08-09T09:47:32.989Z"
   },
   {
    "duration": 403,
    "start_time": "2021-08-09T09:48:03.998Z"
   },
   {
    "duration": 371,
    "start_time": "2021-08-09T09:48:30.839Z"
   },
   {
    "duration": 7,
    "start_time": "2021-08-09T09:49:56.552Z"
   },
   {
    "duration": 5,
    "start_time": "2021-08-09T09:50:01.573Z"
   },
   {
    "duration": 381,
    "start_time": "2021-08-09T09:50:10.095Z"
   },
   {
    "duration": 394,
    "start_time": "2021-08-09T09:50:34.230Z"
   },
   {
    "duration": 447,
    "start_time": "2021-08-09T09:50:50.458Z"
   },
   {
    "duration": 5,
    "start_time": "2021-08-09T09:51:56.328Z"
   },
   {
    "duration": 360,
    "start_time": "2021-08-09T09:52:01.208Z"
   },
   {
    "duration": 4,
    "start_time": "2021-08-09T09:55:01.834Z"
   },
   {
    "duration": 123,
    "start_time": "2021-08-09T09:56:27.664Z"
   },
   {
    "duration": 4,
    "start_time": "2021-08-09T09:57:02.574Z"
   },
   {
    "duration": 966,
    "start_time": "2021-08-09T09:57:37.643Z"
   },
   {
    "duration": 3,
    "start_time": "2021-08-09T11:03:32.769Z"
   },
   {
    "duration": 220,
    "start_time": "2021-08-09T11:03:32.775Z"
   },
   {
    "duration": 14,
    "start_time": "2021-08-09T11:03:32.999Z"
   },
   {
    "duration": 37,
    "start_time": "2021-08-09T11:03:33.015Z"
   },
   {
    "duration": 9,
    "start_time": "2021-08-09T11:03:33.054Z"
   },
   {
    "duration": 10,
    "start_time": "2021-08-09T11:03:33.085Z"
   },
   {
    "duration": 12,
    "start_time": "2021-08-09T11:03:33.098Z"
   },
   {
    "duration": 41,
    "start_time": "2021-08-09T11:03:33.112Z"
   },
   {
    "duration": 29,
    "start_time": "2021-08-09T11:03:33.157Z"
   },
   {
    "duration": 12,
    "start_time": "2021-08-09T11:03:33.191Z"
   },
   {
    "duration": 37,
    "start_time": "2021-08-09T11:03:33.206Z"
   },
   {
    "duration": 40,
    "start_time": "2021-08-09T11:03:33.246Z"
   },
   {
    "duration": 35,
    "start_time": "2021-08-09T11:03:33.289Z"
   },
   {
    "duration": 98,
    "start_time": "2021-08-09T11:03:33.326Z"
   },
   {
    "duration": 120,
    "start_time": "2021-08-09T11:03:33.427Z"
   },
   {
    "duration": 97,
    "start_time": "2021-08-09T11:03:33.549Z"
   },
   {
    "duration": 6,
    "start_time": "2021-08-09T11:03:33.648Z"
   },
   {
    "duration": 8,
    "start_time": "2021-08-09T11:03:33.657Z"
   },
   {
    "duration": 403,
    "start_time": "2021-08-09T11:03:33.667Z"
   },
   {
    "duration": -731,
    "start_time": "2021-08-09T11:03:34.805Z"
   },
   {
    "duration": -736,
    "start_time": "2021-08-09T11:03:34.811Z"
   },
   {
    "duration": -741,
    "start_time": "2021-08-09T11:03:34.817Z"
   },
   {
    "duration": -745,
    "start_time": "2021-08-09T11:03:34.823Z"
   },
   {
    "duration": -751,
    "start_time": "2021-08-09T11:03:34.830Z"
   },
   {
    "duration": -758,
    "start_time": "2021-08-09T11:03:34.839Z"
   },
   {
    "duration": -760,
    "start_time": "2021-08-09T11:03:34.846Z"
   },
   {
    "duration": -764,
    "start_time": "2021-08-09T11:03:34.853Z"
   },
   {
    "duration": -769,
    "start_time": "2021-08-09T11:03:34.860Z"
   },
   {
    "duration": -772,
    "start_time": "2021-08-09T11:03:34.865Z"
   },
   {
    "duration": -787,
    "start_time": "2021-08-09T11:03:34.883Z"
   },
   {
    "duration": -790,
    "start_time": "2021-08-09T11:03:34.888Z"
   },
   {
    "duration": -796,
    "start_time": "2021-08-09T11:03:34.896Z"
   },
   {
    "duration": -798,
    "start_time": "2021-08-09T11:03:34.901Z"
   },
   {
    "duration": -802,
    "start_time": "2021-08-09T11:03:34.907Z"
   },
   {
    "duration": -807,
    "start_time": "2021-08-09T11:03:34.914Z"
   },
   {
    "duration": -810,
    "start_time": "2021-08-09T11:03:34.919Z"
   },
   {
    "duration": -812,
    "start_time": "2021-08-09T11:03:34.924Z"
   },
   {
    "duration": -815,
    "start_time": "2021-08-09T11:03:34.929Z"
   },
   {
    "duration": -817,
    "start_time": "2021-08-09T11:03:34.933Z"
   },
   {
    "duration": -820,
    "start_time": "2021-08-09T11:03:34.938Z"
   },
   {
    "duration": -823,
    "start_time": "2021-08-09T11:03:34.943Z"
   },
   {
    "duration": -828,
    "start_time": "2021-08-09T11:03:34.950Z"
   },
   {
    "duration": -830,
    "start_time": "2021-08-09T11:03:34.954Z"
   },
   {
    "duration": -833,
    "start_time": "2021-08-09T11:03:34.959Z"
   },
   {
    "duration": -835,
    "start_time": "2021-08-09T11:03:34.963Z"
   },
   {
    "duration": 4,
    "start_time": "2021-08-09T11:04:09.835Z"
   },
   {
    "duration": 459,
    "start_time": "2021-08-09T11:04:12.516Z"
   },
   {
    "duration": 6,
    "start_time": "2021-08-09T11:08:14.491Z"
   },
   {
    "duration": 377,
    "start_time": "2021-08-09T11:08:16.722Z"
   },
   {
    "duration": 401,
    "start_time": "2021-08-09T11:08:27.903Z"
   },
   {
    "duration": 5,
    "start_time": "2021-08-09T11:13:24.962Z"
   },
   {
    "duration": 415,
    "start_time": "2021-08-09T11:13:32.134Z"
   },
   {
    "duration": 4,
    "start_time": "2021-08-09T11:16:07.916Z"
   },
   {
    "duration": 405,
    "start_time": "2021-08-09T11:16:11.307Z"
   },
   {
    "duration": 682,
    "start_time": "2021-08-09T11:16:32.134Z"
   },
   {
    "duration": 5,
    "start_time": "2021-08-09T11:18:03.915Z"
   },
   {
    "duration": 411,
    "start_time": "2021-08-09T11:18:05.894Z"
   },
   {
    "duration": 6,
    "start_time": "2021-08-09T11:18:26.290Z"
   },
   {
    "duration": 401,
    "start_time": "2021-08-09T11:18:28.342Z"
   },
   {
    "duration": 5,
    "start_time": "2021-08-09T11:18:56.698Z"
   },
   {
    "duration": 365,
    "start_time": "2021-08-09T11:18:58.709Z"
   },
   {
    "duration": 3,
    "start_time": "2021-08-09T11:47:52.100Z"
   },
   {
    "duration": 209,
    "start_time": "2021-08-09T11:47:52.109Z"
   },
   {
    "duration": 14,
    "start_time": "2021-08-09T11:47:52.320Z"
   },
   {
    "duration": 54,
    "start_time": "2021-08-09T11:47:52.337Z"
   },
   {
    "duration": 6,
    "start_time": "2021-08-09T11:47:52.395Z"
   },
   {
    "duration": 5,
    "start_time": "2021-08-09T11:47:52.404Z"
   },
   {
    "duration": 19,
    "start_time": "2021-08-09T11:47:52.411Z"
   },
   {
    "duration": 56,
    "start_time": "2021-08-09T11:47:52.432Z"
   },
   {
    "duration": 12,
    "start_time": "2021-08-09T11:47:52.491Z"
   },
   {
    "duration": 18,
    "start_time": "2021-08-09T11:47:52.506Z"
   },
   {
    "duration": 31,
    "start_time": "2021-08-09T11:47:52.528Z"
   },
   {
    "duration": 38,
    "start_time": "2021-08-09T11:47:52.562Z"
   },
   {
    "duration": 30,
    "start_time": "2021-08-09T11:47:52.602Z"
   },
   {
    "duration": 116,
    "start_time": "2021-08-09T11:47:52.635Z"
   },
   {
    "duration": 115,
    "start_time": "2021-08-09T11:47:52.753Z"
   },
   {
    "duration": 79,
    "start_time": "2021-08-09T11:47:52.871Z"
   },
   {
    "duration": 7,
    "start_time": "2021-08-09T11:47:52.952Z"
   },
   {
    "duration": 22,
    "start_time": "2021-08-09T11:47:52.961Z"
   },
   {
    "duration": 397,
    "start_time": "2021-08-09T11:47:52.986Z"
   },
   {
    "duration": -606,
    "start_time": "2021-08-09T11:47:53.994Z"
   },
   {
    "duration": -614,
    "start_time": "2021-08-09T11:47:54.004Z"
   },
   {
    "duration": -621,
    "start_time": "2021-08-09T11:47:54.014Z"
   },
   {
    "duration": -628,
    "start_time": "2021-08-09T11:47:54.023Z"
   },
   {
    "duration": -636,
    "start_time": "2021-08-09T11:47:54.033Z"
   },
   {
    "duration": -649,
    "start_time": "2021-08-09T11:47:54.048Z"
   },
   {
    "duration": -660,
    "start_time": "2021-08-09T11:47:54.061Z"
   },
   {
    "duration": -668,
    "start_time": "2021-08-09T11:47:54.071Z"
   },
   {
    "duration": -720,
    "start_time": "2021-08-09T11:47:54.125Z"
   },
   {
    "duration": -729,
    "start_time": "2021-08-09T11:47:54.136Z"
   },
   {
    "duration": -737,
    "start_time": "2021-08-09T11:47:54.146Z"
   },
   {
    "duration": -743,
    "start_time": "2021-08-09T11:47:54.154Z"
   },
   {
    "duration": -750,
    "start_time": "2021-08-09T11:47:54.163Z"
   },
   {
    "duration": -756,
    "start_time": "2021-08-09T11:47:54.171Z"
   },
   {
    "duration": -762,
    "start_time": "2021-08-09T11:47:54.179Z"
   },
   {
    "duration": -767,
    "start_time": "2021-08-09T11:47:54.186Z"
   },
   {
    "duration": -773,
    "start_time": "2021-08-09T11:47:54.194Z"
   },
   {
    "duration": -780,
    "start_time": "2021-08-09T11:47:54.203Z"
   },
   {
    "duration": -786,
    "start_time": "2021-08-09T11:47:54.211Z"
   },
   {
    "duration": -809,
    "start_time": "2021-08-09T11:47:54.236Z"
   },
   {
    "duration": -816,
    "start_time": "2021-08-09T11:47:54.244Z"
   },
   {
    "duration": -843,
    "start_time": "2021-08-09T11:47:54.273Z"
   },
   {
    "duration": -849,
    "start_time": "2021-08-09T11:47:54.280Z"
   },
   {
    "duration": -853,
    "start_time": "2021-08-09T11:47:54.285Z"
   },
   {
    "duration": -858,
    "start_time": "2021-08-09T11:47:54.291Z"
   },
   {
    "duration": -809,
    "start_time": "2021-08-09T11:47:54.296Z"
   },
   {
    "duration": 112,
    "start_time": "2021-08-09T11:52:59.531Z"
   },
   {
    "duration": 133,
    "start_time": "2021-08-09T11:53:36.579Z"
   },
   {
    "duration": 180,
    "start_time": "2021-08-09T11:54:21.839Z"
   },
   {
    "duration": 145,
    "start_time": "2021-08-09T11:56:35.869Z"
   },
   {
    "duration": 129,
    "start_time": "2021-08-09T11:56:51.099Z"
   },
   {
    "duration": 107,
    "start_time": "2021-08-09T11:58:49.574Z"
   },
   {
    "duration": 136,
    "start_time": "2021-08-09T11:59:05.986Z"
   },
   {
    "duration": 115,
    "start_time": "2021-08-09T11:59:37.429Z"
   },
   {
    "duration": 4,
    "start_time": "2021-08-09T12:00:20.655Z"
   },
   {
    "duration": 867,
    "start_time": "2021-08-09T12:00:30.785Z"
   },
   {
    "duration": 135,
    "start_time": "2021-08-09T12:00:56.409Z"
   },
   {
    "duration": 4,
    "start_time": "2021-08-09T12:01:02.950Z"
   },
   {
    "duration": 4,
    "start_time": "2021-08-09T12:01:05.839Z"
   },
   {
    "duration": 361,
    "start_time": "2021-08-09T12:01:10.309Z"
   },
   {
    "duration": 4,
    "start_time": "2021-08-09T12:02:33.195Z"
   },
   {
    "duration": 365,
    "start_time": "2021-08-09T12:02:52.835Z"
   },
   {
    "duration": 1036,
    "start_time": "2021-08-09T13:54:17.751Z"
   },
   {
    "duration": 274,
    "start_time": "2021-08-09T13:54:18.791Z"
   },
   {
    "duration": 42,
    "start_time": "2021-08-09T13:54:19.069Z"
   },
   {
    "duration": 32,
    "start_time": "2021-08-09T13:54:19.114Z"
   },
   {
    "duration": 10,
    "start_time": "2021-08-09T13:54:19.149Z"
   },
   {
    "duration": 5,
    "start_time": "2021-08-09T13:54:19.162Z"
   },
   {
    "duration": 38,
    "start_time": "2021-08-09T13:54:19.170Z"
   },
   {
    "duration": 56,
    "start_time": "2021-08-09T13:54:19.212Z"
   },
   {
    "duration": 42,
    "start_time": "2021-08-09T13:54:19.272Z"
   },
   {
    "duration": 17,
    "start_time": "2021-08-09T13:54:19.318Z"
   },
   {
    "duration": 74,
    "start_time": "2021-08-09T13:54:19.340Z"
   },
   {
    "duration": 22,
    "start_time": "2021-08-09T13:54:19.417Z"
   },
   {
    "duration": 28,
    "start_time": "2021-08-09T13:54:19.442Z"
   },
   {
    "duration": 109,
    "start_time": "2021-08-09T13:54:19.473Z"
   },
   {
    "duration": 127,
    "start_time": "2021-08-09T13:54:19.585Z"
   },
   {
    "duration": 92,
    "start_time": "2021-08-09T13:54:19.715Z"
   },
   {
    "duration": 7,
    "start_time": "2021-08-09T13:54:19.810Z"
   },
   {
    "duration": 5,
    "start_time": "2021-08-09T13:54:19.819Z"
   },
   {
    "duration": 356,
    "start_time": "2021-08-09T13:54:19.826Z"
   },
   {
    "duration": -1038,
    "start_time": "2021-08-09T13:54:21.224Z"
   },
   {
    "duration": -1042,
    "start_time": "2021-08-09T13:54:21.230Z"
   },
   {
    "duration": -1106,
    "start_time": "2021-08-09T13:54:21.296Z"
   },
   {
    "duration": -1119,
    "start_time": "2021-08-09T13:54:21.310Z"
   },
   {
    "duration": -1122,
    "start_time": "2021-08-09T13:54:21.315Z"
   },
   {
    "duration": -1127,
    "start_time": "2021-08-09T13:54:21.321Z"
   },
   {
    "duration": -1131,
    "start_time": "2021-08-09T13:54:21.327Z"
   },
   {
    "duration": -1133,
    "start_time": "2021-08-09T13:54:21.331Z"
   },
   {
    "duration": -1139,
    "start_time": "2021-08-09T13:54:21.338Z"
   },
   {
    "duration": -1141,
    "start_time": "2021-08-09T13:54:21.342Z"
   },
   {
    "duration": -1145,
    "start_time": "2021-08-09T13:54:21.347Z"
   },
   {
    "duration": -1147,
    "start_time": "2021-08-09T13:54:21.351Z"
   },
   {
    "duration": -1151,
    "start_time": "2021-08-09T13:54:21.356Z"
   },
   {
    "duration": -1154,
    "start_time": "2021-08-09T13:54:21.361Z"
   },
   {
    "duration": -1159,
    "start_time": "2021-08-09T13:54:21.367Z"
   },
   {
    "duration": -1203,
    "start_time": "2021-08-09T13:54:21.412Z"
   },
   {
    "duration": -1210,
    "start_time": "2021-08-09T13:54:21.420Z"
   },
   {
    "duration": -1239,
    "start_time": "2021-08-09T13:54:21.451Z"
   },
   {
    "duration": -1245,
    "start_time": "2021-08-09T13:54:21.458Z"
   },
   {
    "duration": -1249,
    "start_time": "2021-08-09T13:54:21.463Z"
   },
   {
    "duration": -1254,
    "start_time": "2021-08-09T13:54:21.470Z"
   },
   {
    "duration": -1258,
    "start_time": "2021-08-09T13:54:21.475Z"
   },
   {
    "duration": -1264,
    "start_time": "2021-08-09T13:54:21.483Z"
   },
   {
    "duration": -1267,
    "start_time": "2021-08-09T13:54:21.487Z"
   },
   {
    "duration": -1271,
    "start_time": "2021-08-09T13:54:21.492Z"
   },
   {
    "duration": -1273,
    "start_time": "2021-08-09T13:54:21.496Z"
   },
   {
    "duration": 271,
    "start_time": "2021-08-09T13:57:07.661Z"
   },
   {
    "duration": 260,
    "start_time": "2021-08-09T13:59:12.500Z"
   },
   {
    "duration": 12,
    "start_time": "2021-08-09T13:59:30.752Z"
   },
   {
    "duration": 4,
    "start_time": "2021-08-09T14:09:26.846Z"
   },
   {
    "duration": 205,
    "start_time": "2021-08-09T14:09:26.853Z"
   },
   {
    "duration": 14,
    "start_time": "2021-08-09T14:09:27.061Z"
   },
   {
    "duration": 30,
    "start_time": "2021-08-09T14:09:27.102Z"
   },
   {
    "duration": 6,
    "start_time": "2021-08-09T14:09:27.134Z"
   },
   {
    "duration": 5,
    "start_time": "2021-08-09T14:09:27.142Z"
   },
   {
    "duration": 7,
    "start_time": "2021-08-09T14:09:27.150Z"
   },
   {
    "duration": 83,
    "start_time": "2021-08-09T14:09:27.160Z"
   },
   {
    "duration": 12,
    "start_time": "2021-08-09T14:09:27.247Z"
   },
   {
    "duration": 38,
    "start_time": "2021-08-09T14:09:27.263Z"
   },
   {
    "duration": 49,
    "start_time": "2021-08-09T14:09:27.304Z"
   },
   {
    "duration": 48,
    "start_time": "2021-08-09T14:09:27.356Z"
   },
   {
    "duration": 29,
    "start_time": "2021-08-09T14:09:27.406Z"
   },
   {
    "duration": 94,
    "start_time": "2021-08-09T14:09:27.437Z"
   },
   {
    "duration": 108,
    "start_time": "2021-08-09T14:09:27.534Z"
   },
   {
    "duration": 89,
    "start_time": "2021-08-09T14:09:27.644Z"
   },
   {
    "duration": 11,
    "start_time": "2021-08-09T14:09:27.735Z"
   },
   {
    "duration": 7,
    "start_time": "2021-08-09T14:09:27.748Z"
   },
   {
    "duration": 287,
    "start_time": "2021-08-09T14:09:27.757Z"
   },
   {
    "duration": -987,
    "start_time": "2021-08-09T14:09:29.035Z"
   },
   {
    "duration": -993,
    "start_time": "2021-08-09T14:09:29.042Z"
   },
   {
    "duration": -996,
    "start_time": "2021-08-09T14:09:29.047Z"
   },
   {
    "duration": -1000,
    "start_time": "2021-08-09T14:09:29.052Z"
   },
   {
    "duration": -1020,
    "start_time": "2021-08-09T14:09:29.073Z"
   },
   {
    "duration": -1025,
    "start_time": "2021-08-09T14:09:29.080Z"
   },
   {
    "duration": -1031,
    "start_time": "2021-08-09T14:09:29.087Z"
   },
   {
    "duration": -1045,
    "start_time": "2021-08-09T14:09:29.103Z"
   },
   {
    "duration": -1049,
    "start_time": "2021-08-09T14:09:29.108Z"
   },
   {
    "duration": -1053,
    "start_time": "2021-08-09T14:09:29.113Z"
   },
   {
    "duration": -1057,
    "start_time": "2021-08-09T14:09:29.118Z"
   },
   {
    "duration": -1060,
    "start_time": "2021-08-09T14:09:29.123Z"
   },
   {
    "duration": -1064,
    "start_time": "2021-08-09T14:09:29.128Z"
   },
   {
    "duration": -1068,
    "start_time": "2021-08-09T14:09:29.134Z"
   },
   {
    "duration": -1074,
    "start_time": "2021-08-09T14:09:29.141Z"
   },
   {
    "duration": -1078,
    "start_time": "2021-08-09T14:09:29.146Z"
   },
   {
    "duration": -1082,
    "start_time": "2021-08-09T14:09:29.152Z"
   },
   {
    "duration": -1086,
    "start_time": "2021-08-09T14:09:29.157Z"
   },
   {
    "duration": -1090,
    "start_time": "2021-08-09T14:09:29.162Z"
   },
   {
    "duration": -1093,
    "start_time": "2021-08-09T14:09:29.167Z"
   },
   {
    "duration": -1114,
    "start_time": "2021-08-09T14:09:29.189Z"
   },
   {
    "duration": -1119,
    "start_time": "2021-08-09T14:09:29.195Z"
   },
   {
    "duration": -1131,
    "start_time": "2021-08-09T14:09:29.209Z"
   },
   {
    "duration": -1135,
    "start_time": "2021-08-09T14:09:29.214Z"
   },
   {
    "duration": -1139,
    "start_time": "2021-08-09T14:09:29.220Z"
   },
   {
    "duration": -1144,
    "start_time": "2021-08-09T14:09:29.226Z"
   },
   {
    "duration": 385,
    "start_time": "2021-08-09T14:10:11.025Z"
   },
   {
    "duration": 4,
    "start_time": "2021-08-09T14:11:39.206Z"
   },
   {
    "duration": 271,
    "start_time": "2021-08-09T14:11:42.436Z"
   },
   {
    "duration": 6,
    "start_time": "2021-08-09T14:11:58.837Z"
   },
   {
    "duration": 268,
    "start_time": "2021-08-09T14:12:00.997Z"
   },
   {
    "duration": 5,
    "start_time": "2021-08-09T14:12:54.537Z"
   },
   {
    "duration": 372,
    "start_time": "2021-08-09T14:12:57.678Z"
   },
   {
    "duration": 280,
    "start_time": "2021-08-09T14:13:26.917Z"
   },
   {
    "duration": 335,
    "start_time": "2021-08-09T14:13:41.176Z"
   },
   {
    "duration": 4,
    "start_time": "2021-08-09T14:16:07.177Z"
   },
   {
    "duration": 273,
    "start_time": "2021-08-09T14:16:09.530Z"
   },
   {
    "duration": 4,
    "start_time": "2021-08-09T14:17:09.245Z"
   },
   {
    "duration": 5,
    "start_time": "2021-08-09T14:18:50.964Z"
   },
   {
    "duration": 252,
    "start_time": "2021-08-09T14:18:53.377Z"
   },
   {
    "duration": 5,
    "start_time": "2021-08-09T14:20:51.926Z"
   },
   {
    "duration": 310,
    "start_time": "2021-08-09T14:20:55.657Z"
   },
   {
    "duration": 4,
    "start_time": "2021-08-09T14:21:19.038Z"
   },
   {
    "duration": 260,
    "start_time": "2021-08-09T14:21:21.446Z"
   },
   {
    "duration": 96,
    "start_time": "2021-08-09T14:29:54.956Z"
   },
   {
    "duration": 83,
    "start_time": "2021-08-09T14:31:10.480Z"
   },
   {
    "duration": 88,
    "start_time": "2021-08-09T14:31:22.691Z"
   },
   {
    "duration": 5,
    "start_time": "2021-08-09T14:34:26.575Z"
   },
   {
    "duration": 317,
    "start_time": "2021-08-09T14:34:46.835Z"
   },
   {
    "duration": 4,
    "start_time": "2021-08-09T14:36:46.635Z"
   },
   {
    "duration": 432,
    "start_time": "2021-08-09T14:36:53.890Z"
   },
   {
    "duration": 91,
    "start_time": "2021-08-09T14:38:58.467Z"
   },
   {
    "duration": 4,
    "start_time": "2021-08-09T14:39:27.399Z"
   },
   {
    "duration": 273,
    "start_time": "2021-08-09T14:39:31.799Z"
   },
   {
    "duration": 4,
    "start_time": "2021-08-09T14:46:41.140Z"
   },
   {
    "duration": 268,
    "start_time": "2021-08-09T14:46:43.548Z"
   },
   {
    "duration": 5,
    "start_time": "2021-08-09T14:46:59.807Z"
   },
   {
    "duration": 463,
    "start_time": "2021-08-09T14:47:02.027Z"
   },
   {
    "duration": 103,
    "start_time": "2021-08-09T14:47:27.535Z"
   },
   {
    "duration": 5,
    "start_time": "2021-08-09T14:47:55.555Z"
   },
   {
    "duration": 266,
    "start_time": "2021-08-09T14:48:00.144Z"
   },
   {
    "duration": 3,
    "start_time": "2021-08-09T14:48:17.447Z"
   },
   {
    "duration": 199,
    "start_time": "2021-08-09T14:48:17.453Z"
   },
   {
    "duration": 14,
    "start_time": "2021-08-09T14:48:17.655Z"
   },
   {
    "duration": 54,
    "start_time": "2021-08-09T14:48:17.672Z"
   },
   {
    "duration": 9,
    "start_time": "2021-08-09T14:48:17.729Z"
   },
   {
    "duration": 10,
    "start_time": "2021-08-09T14:48:17.740Z"
   },
   {
    "duration": 10,
    "start_time": "2021-08-09T14:48:17.752Z"
   },
   {
    "duration": 56,
    "start_time": "2021-08-09T14:48:17.765Z"
   },
   {
    "duration": 9,
    "start_time": "2021-08-09T14:48:17.825Z"
   },
   {
    "duration": 18,
    "start_time": "2021-08-09T14:48:17.836Z"
   },
   {
    "duration": 48,
    "start_time": "2021-08-09T14:48:17.857Z"
   },
   {
    "duration": 19,
    "start_time": "2021-08-09T14:48:17.907Z"
   },
   {
    "duration": 29,
    "start_time": "2021-08-09T14:48:17.928Z"
   },
   {
    "duration": 108,
    "start_time": "2021-08-09T14:48:17.959Z"
   },
   {
    "duration": 112,
    "start_time": "2021-08-09T14:48:18.070Z"
   },
   {
    "duration": 85,
    "start_time": "2021-08-09T14:48:18.184Z"
   },
   {
    "duration": 9,
    "start_time": "2021-08-09T14:48:18.272Z"
   },
   {
    "duration": 4,
    "start_time": "2021-08-09T14:48:18.300Z"
   },
   {
    "duration": 269,
    "start_time": "2021-08-09T14:48:18.306Z"
   },
   {
    "duration": -947,
    "start_time": "2021-08-09T14:48:19.525Z"
   },
   {
    "duration": -951,
    "start_time": "2021-08-09T14:48:19.531Z"
   },
   {
    "duration": -964,
    "start_time": "2021-08-09T14:48:19.545Z"
   },
   {
    "duration": -967,
    "start_time": "2021-08-09T14:48:19.550Z"
   },
   {
    "duration": -979,
    "start_time": "2021-08-09T14:48:19.564Z"
   },
   {
    "duration": -983,
    "start_time": "2021-08-09T14:48:19.569Z"
   },
   {
    "duration": -987,
    "start_time": "2021-08-09T14:48:19.574Z"
   },
   {
    "duration": -990,
    "start_time": "2021-08-09T14:48:19.579Z"
   },
   {
    "duration": -995,
    "start_time": "2021-08-09T14:48:19.585Z"
   },
   {
    "duration": -1008,
    "start_time": "2021-08-09T14:48:19.600Z"
   },
   {
    "duration": -1012,
    "start_time": "2021-08-09T14:48:19.605Z"
   },
   {
    "duration": -1016,
    "start_time": "2021-08-09T14:48:19.611Z"
   },
   {
    "duration": -1019,
    "start_time": "2021-08-09T14:48:19.615Z"
   },
   {
    "duration": -1022,
    "start_time": "2021-08-09T14:48:19.620Z"
   },
   {
    "duration": -1025,
    "start_time": "2021-08-09T14:48:19.624Z"
   },
   {
    "duration": -1045,
    "start_time": "2021-08-09T14:48:19.645Z"
   },
   {
    "duration": -1050,
    "start_time": "2021-08-09T14:48:19.652Z"
   },
   {
    "duration": -1053,
    "start_time": "2021-08-09T14:48:19.656Z"
   },
   {
    "duration": -1056,
    "start_time": "2021-08-09T14:48:19.661Z"
   },
   {
    "duration": -1060,
    "start_time": "2021-08-09T14:48:19.666Z"
   },
   {
    "duration": -1115,
    "start_time": "2021-08-09T14:48:19.723Z"
   },
   {
    "duration": -1119,
    "start_time": "2021-08-09T14:48:19.728Z"
   },
   {
    "duration": -1123,
    "start_time": "2021-08-09T14:48:19.733Z"
   },
   {
    "duration": -1127,
    "start_time": "2021-08-09T14:48:19.739Z"
   },
   {
    "duration": -1133,
    "start_time": "2021-08-09T14:48:19.747Z"
   },
   {
    "duration": -1136,
    "start_time": "2021-08-09T14:48:19.752Z"
   },
   {
    "duration": 9,
    "start_time": "2021-08-09T14:49:13.335Z"
   },
   {
    "duration": 5,
    "start_time": "2021-08-09T14:49:47.887Z"
   },
   {
    "duration": 264,
    "start_time": "2021-08-09T14:49:53.186Z"
   },
   {
    "duration": 1488,
    "start_time": "2021-08-09T14:53:00.460Z"
   },
   {
    "duration": 4,
    "start_time": "2021-08-09T14:53:26.337Z"
   },
   {
    "duration": 207,
    "start_time": "2021-08-09T14:53:26.344Z"
   },
   {
    "duration": 16,
    "start_time": "2021-08-09T14:53:26.554Z"
   },
   {
    "duration": 55,
    "start_time": "2021-08-09T14:53:26.574Z"
   },
   {
    "duration": 6,
    "start_time": "2021-08-09T14:53:26.632Z"
   },
   {
    "duration": 5,
    "start_time": "2021-08-09T14:53:26.641Z"
   },
   {
    "duration": 11,
    "start_time": "2021-08-09T14:53:26.649Z"
   },
   {
    "duration": 69,
    "start_time": "2021-08-09T14:53:26.662Z"
   },
   {
    "duration": 14,
    "start_time": "2021-08-09T14:53:26.735Z"
   },
   {
    "duration": 10,
    "start_time": "2021-08-09T14:53:26.753Z"
   },
   {
    "duration": 54,
    "start_time": "2021-08-09T14:53:26.765Z"
   },
   {
    "duration": 21,
    "start_time": "2021-08-09T14:53:26.822Z"
   },
   {
    "duration": 58,
    "start_time": "2021-08-09T14:53:26.845Z"
   },
   {
    "duration": 79,
    "start_time": "2021-08-09T14:53:26.906Z"
   },
   {
    "duration": 113,
    "start_time": "2021-08-09T14:53:27.001Z"
   },
   {
    "duration": 96,
    "start_time": "2021-08-09T14:53:27.117Z"
   },
   {
    "duration": 264,
    "start_time": "2021-08-09T14:53:27.216Z"
   },
   {
    "duration": -939,
    "start_time": "2021-08-09T14:53:28.422Z"
   },
   {
    "duration": -942,
    "start_time": "2021-08-09T14:53:28.427Z"
   },
   {
    "duration": -946,
    "start_time": "2021-08-09T14:53:28.432Z"
   },
   {
    "duration": -950,
    "start_time": "2021-08-09T14:53:28.437Z"
   },
   {
    "duration": -962,
    "start_time": "2021-08-09T14:53:28.451Z"
   },
   {
    "duration": -967,
    "start_time": "2021-08-09T14:53:28.457Z"
   },
   {
    "duration": -970,
    "start_time": "2021-08-09T14:53:28.462Z"
   },
   {
    "duration": -974,
    "start_time": "2021-08-09T14:53:28.467Z"
   },
   {
    "duration": -976,
    "start_time": "2021-08-09T14:53:28.471Z"
   },
   {
    "duration": -989,
    "start_time": "2021-08-09T14:53:28.486Z"
   },
   {
    "duration": -993,
    "start_time": "2021-08-09T14:53:28.491Z"
   },
   {
    "duration": -997,
    "start_time": "2021-08-09T14:53:28.496Z"
   },
   {
    "duration": -1000,
    "start_time": "2021-08-09T14:53:28.501Z"
   },
   {
    "duration": -1004,
    "start_time": "2021-08-09T14:53:28.506Z"
   },
   {
    "duration": -1007,
    "start_time": "2021-08-09T14:53:28.511Z"
   },
   {
    "duration": -1012,
    "start_time": "2021-08-09T14:53:28.517Z"
   },
   {
    "duration": -1016,
    "start_time": "2021-08-09T14:53:28.522Z"
   },
   {
    "duration": -1020,
    "start_time": "2021-08-09T14:53:28.528Z"
   },
   {
    "duration": -1023,
    "start_time": "2021-08-09T14:53:28.532Z"
   },
   {
    "duration": -1038,
    "start_time": "2021-08-09T14:53:28.548Z"
   },
   {
    "duration": -1041,
    "start_time": "2021-08-09T14:53:28.553Z"
   },
   {
    "duration": -1047,
    "start_time": "2021-08-09T14:53:28.560Z"
   },
   {
    "duration": -1056,
    "start_time": "2021-08-09T14:53:28.570Z"
   },
   {
    "duration": -1075,
    "start_time": "2021-08-09T14:53:28.590Z"
   },
   {
    "duration": -1079,
    "start_time": "2021-08-09T14:53:28.596Z"
   },
   {
    "duration": -1083,
    "start_time": "2021-08-09T14:53:28.601Z"
   },
   {
    "duration": -1087,
    "start_time": "2021-08-09T14:53:28.606Z"
   },
   {
    "duration": -1092,
    "start_time": "2021-08-09T14:53:28.613Z"
   },
   {
    "duration": 5,
    "start_time": "2021-08-09T14:54:40.131Z"
   },
   {
    "duration": 289,
    "start_time": "2021-08-09T14:54:46.070Z"
   },
   {
    "duration": 5,
    "start_time": "2021-08-09T14:55:14.656Z"
   },
   {
    "duration": 292,
    "start_time": "2021-08-09T14:55:17.895Z"
   },
   {
    "duration": 295,
    "start_time": "2021-08-09T15:00:22.916Z"
   },
   {
    "duration": 4,
    "start_time": "2021-08-09T15:01:37.752Z"
   },
   {
    "duration": 269,
    "start_time": "2021-08-09T15:01:41.856Z"
   },
   {
    "duration": 5,
    "start_time": "2021-08-09T15:04:28.076Z"
   },
   {
    "duration": 267,
    "start_time": "2021-08-09T15:04:55.776Z"
   },
   {
    "duration": 4,
    "start_time": "2021-08-09T15:10:23.827Z"
   },
   {
    "duration": 331,
    "start_time": "2021-08-09T15:10:35.567Z"
   },
   {
    "duration": 4,
    "start_time": "2021-08-09T15:11:13.895Z"
   },
   {
    "duration": 252,
    "start_time": "2021-08-09T15:11:17.208Z"
   },
   {
    "duration": 5,
    "start_time": "2021-08-09T15:12:04.710Z"
   },
   {
    "duration": 270,
    "start_time": "2021-08-09T15:12:07.342Z"
   },
   {
    "duration": 5,
    "start_time": "2021-08-09T15:14:21.281Z"
   },
   {
    "duration": 273,
    "start_time": "2021-08-09T15:14:24.661Z"
   },
   {
    "duration": 758,
    "start_time": "2021-08-09T15:16:25.443Z"
   },
   {
    "duration": 264,
    "start_time": "2021-08-09T15:16:29.873Z"
   },
   {
    "duration": 3,
    "start_time": "2021-08-09T15:24:50.003Z"
   },
   {
    "duration": 220,
    "start_time": "2021-08-09T15:24:50.010Z"
   },
   {
    "duration": 15,
    "start_time": "2021-08-09T15:24:50.234Z"
   },
   {
    "duration": 50,
    "start_time": "2021-08-09T15:24:50.252Z"
   },
   {
    "duration": 8,
    "start_time": "2021-08-09T15:24:50.305Z"
   },
   {
    "duration": 6,
    "start_time": "2021-08-09T15:24:50.316Z"
   },
   {
    "duration": 13,
    "start_time": "2021-08-09T15:24:50.324Z"
   },
   {
    "duration": 65,
    "start_time": "2021-08-09T15:24:50.339Z"
   },
   {
    "duration": 10,
    "start_time": "2021-08-09T15:24:50.408Z"
   },
   {
    "duration": 14,
    "start_time": "2021-08-09T15:24:50.422Z"
   },
   {
    "duration": 35,
    "start_time": "2021-08-09T15:24:50.438Z"
   },
   {
    "duration": 39,
    "start_time": "2021-08-09T15:24:50.476Z"
   },
   {
    "duration": 32,
    "start_time": "2021-08-09T15:24:50.517Z"
   },
   {
    "duration": 103,
    "start_time": "2021-08-09T15:24:50.552Z"
   },
   {
    "duration": 113,
    "start_time": "2021-08-09T15:24:50.657Z"
   },
   {
    "duration": 85,
    "start_time": "2021-08-09T15:24:50.772Z"
   },
   {
    "duration": 7,
    "start_time": "2021-08-09T15:24:50.859Z"
   },
   {
    "duration": 790,
    "start_time": "2021-08-09T15:24:50.868Z"
   },
   {
    "duration": -916,
    "start_time": "2021-08-09T15:24:52.579Z"
   },
   {
    "duration": -920,
    "start_time": "2021-08-09T15:24:52.585Z"
   },
   {
    "duration": -951,
    "start_time": "2021-08-09T15:24:52.618Z"
   },
   {
    "duration": -961,
    "start_time": "2021-08-09T15:24:52.631Z"
   },
   {
    "duration": -963,
    "start_time": "2021-08-09T15:24:52.635Z"
   },
   {
    "duration": -969,
    "start_time": "2021-08-09T15:24:52.644Z"
   },
   {
    "duration": -974,
    "start_time": "2021-08-09T15:24:52.651Z"
   },
   {
    "duration": -979,
    "start_time": "2021-08-09T15:24:52.658Z"
   },
   {
    "duration": -980,
    "start_time": "2021-08-09T15:24:52.662Z"
   },
   {
    "duration": -984,
    "start_time": "2021-08-09T15:24:52.668Z"
   },
   {
    "duration": -987,
    "start_time": "2021-08-09T15:24:52.673Z"
   },
   {
    "duration": -990,
    "start_time": "2021-08-09T15:24:52.679Z"
   },
   {
    "duration": -993,
    "start_time": "2021-08-09T15:24:52.684Z"
   },
   {
    "duration": -997,
    "start_time": "2021-08-09T15:24:52.690Z"
   },
   {
    "duration": -1001,
    "start_time": "2021-08-09T15:24:52.696Z"
   },
   {
    "duration": -1005,
    "start_time": "2021-08-09T15:24:52.702Z"
   },
   {
    "duration": -1007,
    "start_time": "2021-08-09T15:24:52.707Z"
   },
   {
    "duration": -1011,
    "start_time": "2021-08-09T15:24:52.713Z"
   },
   {
    "duration": -1014,
    "start_time": "2021-08-09T15:24:52.718Z"
   },
   {
    "duration": -1018,
    "start_time": "2021-08-09T15:24:52.724Z"
   },
   {
    "duration": -1032,
    "start_time": "2021-08-09T15:24:52.741Z"
   },
   {
    "duration": -1035,
    "start_time": "2021-08-09T15:24:52.746Z"
   },
   {
    "duration": -1039,
    "start_time": "2021-08-09T15:24:52.752Z"
   },
   {
    "duration": -1044,
    "start_time": "2021-08-09T15:24:52.759Z"
   },
   {
    "duration": -1049,
    "start_time": "2021-08-09T15:24:52.767Z"
   },
   {
    "duration": -1053,
    "start_time": "2021-08-09T15:24:52.773Z"
   },
   {
    "duration": -1057,
    "start_time": "2021-08-09T15:24:52.779Z"
   },
   {
    "duration": 5,
    "start_time": "2021-08-09T15:26:58.499Z"
   },
   {
    "duration": 275,
    "start_time": "2021-08-09T15:27:02.636Z"
   },
   {
    "duration": 4,
    "start_time": "2021-08-09T15:27:43.296Z"
   },
   {
    "duration": 5,
    "start_time": "2021-08-09T15:27:52.541Z"
   },
   {
    "duration": 266,
    "start_time": "2021-08-09T15:27:55.336Z"
   },
   {
    "duration": 5,
    "start_time": "2021-08-09T15:35:39.294Z"
   },
   {
    "duration": 261,
    "start_time": "2021-08-09T15:36:00.183Z"
   },
   {
    "duration": 544,
    "start_time": "2021-08-09T15:36:21.786Z"
   },
   {
    "duration": 5,
    "start_time": "2021-08-09T15:38:53.386Z"
   },
   {
    "duration": 561,
    "start_time": "2021-08-09T15:38:56.686Z"
   },
   {
    "duration": 4,
    "start_time": "2021-08-09T15:39:40.041Z"
   },
   {
    "duration": 531,
    "start_time": "2021-08-09T15:39:42.710Z"
   },
   {
    "duration": 282,
    "start_time": "2021-08-09T15:40:01.431Z"
   },
   {
    "duration": 316,
    "start_time": "2021-08-10T07:53:08.874Z"
   },
   {
    "duration": 589,
    "start_time": "2021-08-10T07:53:14.025Z"
   },
   {
    "duration": 123,
    "start_time": "2021-08-10T07:53:14.616Z"
   },
   {
    "duration": 14,
    "start_time": "2021-08-10T07:53:14.742Z"
   },
   {
    "duration": 22,
    "start_time": "2021-08-10T07:53:14.758Z"
   },
   {
    "duration": 4,
    "start_time": "2021-08-10T07:53:14.782Z"
   },
   {
    "duration": 4,
    "start_time": "2021-08-10T07:53:14.787Z"
   },
   {
    "duration": 7,
    "start_time": "2021-08-10T07:53:14.793Z"
   },
   {
    "duration": 52,
    "start_time": "2021-08-10T07:53:14.801Z"
   },
   {
    "duration": 12,
    "start_time": "2021-08-10T07:53:14.855Z"
   },
   {
    "duration": 21,
    "start_time": "2021-08-10T07:53:14.869Z"
   },
   {
    "duration": 40,
    "start_time": "2021-08-10T07:53:14.891Z"
   },
   {
    "duration": 17,
    "start_time": "2021-08-10T07:53:14.933Z"
   },
   {
    "duration": 28,
    "start_time": "2021-08-10T07:53:14.951Z"
   },
   {
    "duration": 68,
    "start_time": "2021-08-10T07:53:14.981Z"
   },
   {
    "duration": 70,
    "start_time": "2021-08-10T07:53:15.050Z"
   },
   {
    "duration": 63,
    "start_time": "2021-08-10T07:53:15.122Z"
   },
   {
    "duration": 7,
    "start_time": "2021-08-10T07:53:15.187Z"
   },
   {
    "duration": 24,
    "start_time": "2021-08-10T07:53:15.196Z"
   },
   {
    "duration": 288,
    "start_time": "2021-08-10T07:53:15.222Z"
   },
   {
    "duration": -1191,
    "start_time": "2021-08-10T07:53:16.703Z"
   },
   {
    "duration": -1196,
    "start_time": "2021-08-10T07:53:16.709Z"
   },
   {
    "duration": -1208,
    "start_time": "2021-08-10T07:53:16.723Z"
   },
   {
    "duration": -1212,
    "start_time": "2021-08-10T07:53:16.728Z"
   },
   {
    "duration": -1216,
    "start_time": "2021-08-10T07:53:16.733Z"
   },
   {
    "duration": -1222,
    "start_time": "2021-08-10T07:53:16.740Z"
   },
   {
    "duration": -1229,
    "start_time": "2021-08-10T07:53:16.747Z"
   },
   {
    "duration": -1233,
    "start_time": "2021-08-10T07:53:16.752Z"
   },
   {
    "duration": -1237,
    "start_time": "2021-08-10T07:53:16.757Z"
   },
   {
    "duration": -1250,
    "start_time": "2021-08-10T07:53:16.771Z"
   },
   {
    "duration": -1254,
    "start_time": "2021-08-10T07:53:16.776Z"
   },
   {
    "duration": -1257,
    "start_time": "2021-08-10T07:53:16.780Z"
   },
   {
    "duration": -1261,
    "start_time": "2021-08-10T07:53:16.785Z"
   },
   {
    "duration": -1264,
    "start_time": "2021-08-10T07:53:16.789Z"
   },
   {
    "duration": -1269,
    "start_time": "2021-08-10T07:53:16.795Z"
   },
   {
    "duration": -1272,
    "start_time": "2021-08-10T07:53:16.799Z"
   },
   {
    "duration": -1278,
    "start_time": "2021-08-10T07:53:16.806Z"
   },
   {
    "duration": -1282,
    "start_time": "2021-08-10T07:53:16.811Z"
   },
   {
    "duration": -1286,
    "start_time": "2021-08-10T07:53:16.816Z"
   },
   {
    "duration": -1290,
    "start_time": "2021-08-10T07:53:16.821Z"
   },
   {
    "duration": -1294,
    "start_time": "2021-08-10T07:53:16.826Z"
   },
   {
    "duration": -1297,
    "start_time": "2021-08-10T07:53:16.830Z"
   },
   {
    "duration": -1301,
    "start_time": "2021-08-10T07:53:16.835Z"
   },
   {
    "duration": -1305,
    "start_time": "2021-08-10T07:53:16.840Z"
   },
   {
    "duration": -1311,
    "start_time": "2021-08-10T07:53:16.847Z"
   },
   {
    "duration": -1315,
    "start_time": "2021-08-10T07:53:16.852Z"
   },
   {
    "duration": 567,
    "start_time": "2021-08-10T12:22:56.796Z"
   },
   {
    "duration": 136,
    "start_time": "2021-08-10T12:22:57.365Z"
   },
   {
    "duration": 17,
    "start_time": "2021-08-10T12:22:57.503Z"
   },
   {
    "duration": 24,
    "start_time": "2021-08-10T12:22:57.522Z"
   },
   {
    "duration": 4,
    "start_time": "2021-08-10T12:22:57.547Z"
   },
   {
    "duration": 6,
    "start_time": "2021-08-10T12:22:57.553Z"
   },
   {
    "duration": 4,
    "start_time": "2021-08-10T12:22:57.585Z"
   },
   {
    "duration": 24,
    "start_time": "2021-08-10T12:22:57.591Z"
   },
   {
    "duration": 9,
    "start_time": "2021-08-10T12:22:57.618Z"
   },
   {
    "duration": 12,
    "start_time": "2021-08-10T12:22:57.629Z"
   },
   {
    "duration": 45,
    "start_time": "2021-08-10T12:22:57.643Z"
   },
   {
    "duration": 15,
    "start_time": "2021-08-10T12:22:57.689Z"
   },
   {
    "duration": 21,
    "start_time": "2021-08-10T12:22:57.705Z"
   },
   {
    "duration": 77,
    "start_time": "2021-08-10T12:22:57.728Z"
   },
   {
    "duration": 83,
    "start_time": "2021-08-10T12:22:57.806Z"
   },
   {
    "duration": 49,
    "start_time": "2021-08-10T12:22:57.890Z"
   },
   {
    "duration": 6,
    "start_time": "2021-08-10T12:22:57.941Z"
   },
   {
    "duration": 3,
    "start_time": "2021-08-10T12:22:57.948Z"
   },
   {
    "duration": 324,
    "start_time": "2021-08-10T12:22:57.953Z"
   },
   {
    "duration": -890,
    "start_time": "2021-08-10T12:22:59.169Z"
   },
   {
    "duration": -895,
    "start_time": "2021-08-10T12:22:59.175Z"
   },
   {
    "duration": -899,
    "start_time": "2021-08-10T12:22:59.180Z"
   },
   {
    "duration": -918,
    "start_time": "2021-08-10T12:22:59.200Z"
   },
   {
    "duration": -934,
    "start_time": "2021-08-10T12:22:59.217Z"
   },
   {
    "duration": -938,
    "start_time": "2021-08-10T12:22:59.222Z"
   },
   {
    "duration": -943,
    "start_time": "2021-08-10T12:22:59.228Z"
   },
   {
    "duration": -947,
    "start_time": "2021-08-10T12:22:59.233Z"
   },
   {
    "duration": -951,
    "start_time": "2021-08-10T12:22:59.238Z"
   },
   {
    "duration": -959,
    "start_time": "2021-08-10T12:22:59.247Z"
   },
   {
    "duration": -965,
    "start_time": "2021-08-10T12:22:59.254Z"
   },
   {
    "duration": -969,
    "start_time": "2021-08-10T12:22:59.259Z"
   },
   {
    "duration": -973,
    "start_time": "2021-08-10T12:22:59.264Z"
   },
   {
    "duration": -978,
    "start_time": "2021-08-10T12:22:59.270Z"
   },
   {
    "duration": -984,
    "start_time": "2021-08-10T12:22:59.278Z"
   },
   {
    "duration": -988,
    "start_time": "2021-08-10T12:22:59.283Z"
   },
   {
    "duration": -1010,
    "start_time": "2021-08-10T12:22:59.306Z"
   },
   {
    "duration": -1014,
    "start_time": "2021-08-10T12:22:59.311Z"
   },
   {
    "duration": -1018,
    "start_time": "2021-08-10T12:22:59.316Z"
   },
   {
    "duration": -1021,
    "start_time": "2021-08-10T12:22:59.320Z"
   },
   {
    "duration": -1030,
    "start_time": "2021-08-10T12:22:59.330Z"
   },
   {
    "duration": -1034,
    "start_time": "2021-08-10T12:22:59.335Z"
   },
   {
    "duration": -1038,
    "start_time": "2021-08-10T12:22:59.340Z"
   },
   {
    "duration": -1045,
    "start_time": "2021-08-10T12:22:59.348Z"
   },
   {
    "duration": -1051,
    "start_time": "2021-08-10T12:22:59.355Z"
   },
   {
    "duration": -1055,
    "start_time": "2021-08-10T12:22:59.360Z"
   },
   {
    "duration": 4,
    "start_time": "2021-08-10T12:23:39.456Z"
   },
   {
    "duration": 4,
    "start_time": "2021-08-10T12:23:55.047Z"
   },
   {
    "duration": 3,
    "start_time": "2021-08-10T12:24:02.585Z"
   },
   {
    "duration": 4,
    "start_time": "2021-08-10T14:23:36.512Z"
   },
   {
    "duration": 719,
    "start_time": "2021-08-10T14:24:05.484Z"
   },
   {
    "duration": 573,
    "start_time": "2021-08-10T14:24:59.584Z"
   },
   {
    "duration": 149,
    "start_time": "2021-08-10T14:25:00.158Z"
   },
   {
    "duration": 15,
    "start_time": "2021-08-10T14:25:00.311Z"
   },
   {
    "duration": 41,
    "start_time": "2021-08-10T14:25:00.327Z"
   },
   {
    "duration": 15,
    "start_time": "2021-08-10T14:25:00.369Z"
   },
   {
    "duration": 26,
    "start_time": "2021-08-10T14:25:00.386Z"
   },
   {
    "duration": 15,
    "start_time": "2021-08-10T14:25:00.414Z"
   },
   {
    "duration": 31,
    "start_time": "2021-08-10T14:25:00.430Z"
   },
   {
    "duration": 21,
    "start_time": "2021-08-10T14:25:00.464Z"
   },
   {
    "duration": 19,
    "start_time": "2021-08-10T14:25:00.488Z"
   },
   {
    "duration": 43,
    "start_time": "2021-08-10T14:25:00.509Z"
   },
   {
    "duration": 27,
    "start_time": "2021-08-10T14:25:00.553Z"
   },
   {
    "duration": 31,
    "start_time": "2021-08-10T14:25:00.582Z"
   },
   {
    "duration": 59,
    "start_time": "2021-08-10T14:25:00.615Z"
   },
   {
    "duration": 86,
    "start_time": "2021-08-10T14:25:00.675Z"
   },
   {
    "duration": 74,
    "start_time": "2021-08-10T14:25:00.762Z"
   },
   {
    "duration": 6,
    "start_time": "2021-08-10T14:25:00.837Z"
   },
   {
    "duration": 18,
    "start_time": "2021-08-10T14:25:00.845Z"
   },
   {
    "duration": 21,
    "start_time": "2021-08-10T14:25:00.865Z"
   },
   {
    "duration": 24,
    "start_time": "2021-08-10T14:25:00.888Z"
   },
   {
    "duration": 19,
    "start_time": "2021-08-10T14:25:00.914Z"
   },
   {
    "duration": 17,
    "start_time": "2021-08-10T14:25:00.935Z"
   },
   {
    "duration": 509,
    "start_time": "2021-08-10T14:25:00.954Z"
   },
   {
    "duration": -737,
    "start_time": "2021-08-10T14:25:02.202Z"
   },
   {
    "duration": -742,
    "start_time": "2021-08-10T14:25:02.208Z"
   },
   {
    "duration": -758,
    "start_time": "2021-08-10T14:25:02.226Z"
   },
   {
    "duration": -768,
    "start_time": "2021-08-10T14:25:02.237Z"
   },
   {
    "duration": -772,
    "start_time": "2021-08-10T14:25:02.242Z"
   },
   {
    "duration": -777,
    "start_time": "2021-08-10T14:25:02.248Z"
   },
   {
    "duration": -782,
    "start_time": "2021-08-10T14:25:02.254Z"
   },
   {
    "duration": -789,
    "start_time": "2021-08-10T14:25:02.262Z"
   },
   {
    "duration": -805,
    "start_time": "2021-08-10T14:25:02.279Z"
   },
   {
    "duration": -809,
    "start_time": "2021-08-10T14:25:02.284Z"
   },
   {
    "duration": -813,
    "start_time": "2021-08-10T14:25:02.289Z"
   },
   {
    "duration": -819,
    "start_time": "2021-08-10T14:25:02.296Z"
   },
   {
    "duration": -823,
    "start_time": "2021-08-10T14:25:02.301Z"
   },
   {
    "duration": -825,
    "start_time": "2021-08-10T14:25:02.305Z"
   },
   {
    "duration": -829,
    "start_time": "2021-08-10T14:25:02.310Z"
   },
   {
    "duration": -833,
    "start_time": "2021-08-10T14:25:02.315Z"
   },
   {
    "duration": -836,
    "start_time": "2021-08-10T14:25:02.319Z"
   },
   {
    "duration": -841,
    "start_time": "2021-08-10T14:25:02.325Z"
   },
   {
    "duration": -845,
    "start_time": "2021-08-10T14:25:02.330Z"
   },
   {
    "duration": -849,
    "start_time": "2021-08-10T14:25:02.335Z"
   },
   {
    "duration": -853,
    "start_time": "2021-08-10T14:25:02.339Z"
   },
   {
    "duration": -857,
    "start_time": "2021-08-10T14:25:02.344Z"
   },
   {
    "duration": 487,
    "start_time": "2021-08-10T14:31:21.921Z"
   },
   {
    "duration": 441,
    "start_time": "2021-08-10T14:31:51.840Z"
   },
   {
    "duration": 3,
    "start_time": "2021-08-10T14:31:59.201Z"
   },
   {
    "duration": 477,
    "start_time": "2021-08-10T14:32:01.761Z"
   },
   {
    "duration": 4,
    "start_time": "2021-08-10T14:32:23.449Z"
   },
   {
    "duration": 7,
    "start_time": "2021-08-10T14:32:25.952Z"
   },
   {
    "duration": 7,
    "start_time": "2021-08-10T14:32:31.052Z"
   },
   {
    "duration": 3,
    "start_time": "2021-08-10T14:32:42.340Z"
   },
   {
    "duration": 508,
    "start_time": "2021-08-10T14:32:44.732Z"
   },
   {
    "duration": 3,
    "start_time": "2021-08-10T14:33:14.347Z"
   },
   {
    "duration": 23,
    "start_time": "2021-08-10T14:33:16.052Z"
   },
   {
    "duration": 4,
    "start_time": "2021-08-10T14:34:17.200Z"
   },
   {
    "duration": 503,
    "start_time": "2021-08-10T14:34:19.612Z"
   },
   {
    "duration": 3,
    "start_time": "2021-08-10T14:40:20.039Z"
   },
   {
    "duration": 20,
    "start_time": "2021-08-10T14:40:25.074Z"
   },
   {
    "duration": 3,
    "start_time": "2021-08-10T14:42:08.921Z"
   },
   {
    "duration": 17,
    "start_time": "2021-08-10T14:42:11.859Z"
   },
   {
    "duration": 21,
    "start_time": "2021-08-10T14:42:58.907Z"
   },
   {
    "duration": 3,
    "start_time": "2021-08-10T14:46:06.593Z"
   },
   {
    "duration": 167,
    "start_time": "2021-08-10T14:46:06.598Z"
   },
   {
    "duration": 27,
    "start_time": "2021-08-10T14:46:06.768Z"
   },
   {
    "duration": 26,
    "start_time": "2021-08-10T14:46:06.797Z"
   },
   {
    "duration": 5,
    "start_time": "2021-08-10T14:46:06.825Z"
   },
   {
    "duration": 6,
    "start_time": "2021-08-10T14:46:06.832Z"
   },
   {
    "duration": 8,
    "start_time": "2021-08-10T14:46:06.839Z"
   },
   {
    "duration": 48,
    "start_time": "2021-08-10T14:46:06.848Z"
   },
   {
    "duration": 9,
    "start_time": "2021-08-10T14:46:06.900Z"
   },
   {
    "duration": 14,
    "start_time": "2021-08-10T14:46:06.912Z"
   },
   {
    "duration": 25,
    "start_time": "2021-08-10T14:46:06.928Z"
   },
   {
    "duration": 42,
    "start_time": "2021-08-10T14:46:06.955Z"
   },
   {
    "duration": 25,
    "start_time": "2021-08-10T14:46:06.999Z"
   },
   {
    "duration": 76,
    "start_time": "2021-08-10T14:46:07.025Z"
   },
   {
    "duration": 75,
    "start_time": "2021-08-10T14:46:07.103Z"
   },
   {
    "duration": 62,
    "start_time": "2021-08-10T14:46:07.180Z"
   },
   {
    "duration": 6,
    "start_time": "2021-08-10T14:46:07.244Z"
   },
   {
    "duration": 7,
    "start_time": "2021-08-10T14:46:07.252Z"
   },
   {
    "duration": 20,
    "start_time": "2021-08-10T14:46:07.261Z"
   },
   {
    "duration": 14,
    "start_time": "2021-08-10T14:46:07.283Z"
   },
   {
    "duration": 12,
    "start_time": "2021-08-10T14:46:07.299Z"
   },
   {
    "duration": 10,
    "start_time": "2021-08-10T14:46:07.313Z"
   },
   {
    "duration": 22,
    "start_time": "2021-08-10T14:46:07.325Z"
   },
   {
    "duration": 26,
    "start_time": "2021-08-10T14:46:07.349Z"
   },
   {
    "duration": 4,
    "start_time": "2021-08-10T14:46:07.377Z"
   },
   {
    "duration": 10,
    "start_time": "2021-08-10T14:46:07.383Z"
   },
   {
    "duration": 14,
    "start_time": "2021-08-10T14:46:07.398Z"
   },
   {
    "duration": 10,
    "start_time": "2021-08-10T14:46:07.415Z"
   },
   {
    "duration": 15,
    "start_time": "2021-08-10T14:46:07.427Z"
   },
   {
    "duration": 18,
    "start_time": "2021-08-10T14:46:07.443Z"
   },
   {
    "duration": 16,
    "start_time": "2021-08-10T14:46:07.462Z"
   },
   {
    "duration": 20,
    "start_time": "2021-08-10T14:46:07.480Z"
   },
   {
    "duration": 14,
    "start_time": "2021-08-10T14:46:07.502Z"
   },
   {
    "duration": 14,
    "start_time": "2021-08-10T14:46:07.517Z"
   },
   {
    "duration": 13,
    "start_time": "2021-08-10T14:46:07.533Z"
   },
   {
    "duration": 14,
    "start_time": "2021-08-10T14:46:07.548Z"
   },
   {
    "duration": 13,
    "start_time": "2021-08-10T14:46:07.564Z"
   },
   {
    "duration": 18,
    "start_time": "2021-08-10T14:46:07.579Z"
   },
   {
    "duration": 14,
    "start_time": "2021-08-10T14:46:07.599Z"
   },
   {
    "duration": 14,
    "start_time": "2021-08-10T14:46:07.614Z"
   },
   {
    "duration": 12,
    "start_time": "2021-08-10T14:46:07.630Z"
   },
   {
    "duration": 12,
    "start_time": "2021-08-10T14:46:07.644Z"
   },
   {
    "duration": 9,
    "start_time": "2021-08-10T14:46:07.658Z"
   },
   {
    "duration": 13,
    "start_time": "2021-08-10T14:46:07.668Z"
   },
   {
    "duration": 12,
    "start_time": "2021-08-10T14:46:07.683Z"
   },
   {
    "duration": 3,
    "start_time": "2021-08-10T14:47:22.957Z"
   },
   {
    "duration": 4,
    "start_time": "2021-08-10T14:48:47.737Z"
   },
   {
    "duration": 2,
    "start_time": "2021-08-10T14:49:04.968Z"
   },
   {
    "duration": 229,
    "start_time": "2021-08-10T14:49:04.972Z"
   },
   {
    "duration": 14,
    "start_time": "2021-08-10T14:49:05.204Z"
   },
   {
    "duration": 41,
    "start_time": "2021-08-10T14:49:05.220Z"
   },
   {
    "duration": 11,
    "start_time": "2021-08-10T14:49:05.263Z"
   },
   {
    "duration": 11,
    "start_time": "2021-08-10T14:49:05.276Z"
   },
   {
    "duration": 20,
    "start_time": "2021-08-10T14:49:05.289Z"
   },
   {
    "duration": 36,
    "start_time": "2021-08-10T14:49:05.311Z"
   },
   {
    "duration": 18,
    "start_time": "2021-08-10T14:49:05.350Z"
   },
   {
    "duration": 16,
    "start_time": "2021-08-10T14:49:05.370Z"
   },
   {
    "duration": 38,
    "start_time": "2021-08-10T14:49:05.388Z"
   },
   {
    "duration": 17,
    "start_time": "2021-08-10T14:49:05.427Z"
   },
   {
    "duration": 22,
    "start_time": "2021-08-10T14:49:05.446Z"
   },
   {
    "duration": 64,
    "start_time": "2021-08-10T14:49:05.469Z"
   },
   {
    "duration": 83,
    "start_time": "2021-08-10T14:49:05.535Z"
   },
   {
    "duration": 50,
    "start_time": "2021-08-10T14:49:05.619Z"
   },
   {
    "duration": 23,
    "start_time": "2021-08-10T14:49:05.670Z"
   },
   {
    "duration": 3,
    "start_time": "2021-08-10T14:49:05.695Z"
   },
   {
    "duration": 29,
    "start_time": "2021-08-10T14:49:05.699Z"
   },
   {
    "duration": 23,
    "start_time": "2021-08-10T14:49:05.730Z"
   },
   {
    "duration": 23,
    "start_time": "2021-08-10T14:49:05.755Z"
   },
   {
    "duration": 14,
    "start_time": "2021-08-10T14:49:05.779Z"
   },
   {
    "duration": 35,
    "start_time": "2021-08-10T14:49:05.796Z"
   },
   {
    "duration": 24,
    "start_time": "2021-08-10T14:49:05.833Z"
   },
   {
    "duration": 21,
    "start_time": "2021-08-10T14:49:05.859Z"
   },
   {
    "duration": 14,
    "start_time": "2021-08-10T14:49:05.881Z"
   },
   {
    "duration": 28,
    "start_time": "2021-08-10T14:49:05.899Z"
   },
   {
    "duration": 38,
    "start_time": "2021-08-10T14:49:05.929Z"
   },
   {
    "duration": 19,
    "start_time": "2021-08-10T14:49:05.968Z"
   },
   {
    "duration": 11,
    "start_time": "2021-08-10T14:49:05.989Z"
   },
   {
    "duration": 6,
    "start_time": "2021-08-10T14:49:06.002Z"
   },
   {
    "duration": 16,
    "start_time": "2021-08-10T14:49:06.009Z"
   },
   {
    "duration": 10,
    "start_time": "2021-08-10T14:49:06.027Z"
   },
   {
    "duration": 8,
    "start_time": "2021-08-10T14:49:06.039Z"
   },
   {
    "duration": 8,
    "start_time": "2021-08-10T14:49:06.048Z"
   },
   {
    "duration": 8,
    "start_time": "2021-08-10T14:49:06.058Z"
   },
   {
    "duration": 10,
    "start_time": "2021-08-10T14:49:06.068Z"
   },
   {
    "duration": 15,
    "start_time": "2021-08-10T14:49:06.079Z"
   },
   {
    "duration": 15,
    "start_time": "2021-08-10T14:49:06.096Z"
   },
   {
    "duration": 9,
    "start_time": "2021-08-10T14:49:06.113Z"
   },
   {
    "duration": 7,
    "start_time": "2021-08-10T14:49:06.123Z"
   },
   {
    "duration": 10,
    "start_time": "2021-08-10T14:49:06.132Z"
   },
   {
    "duration": 9,
    "start_time": "2021-08-10T14:49:06.144Z"
   },
   {
    "duration": 8,
    "start_time": "2021-08-10T14:49:06.155Z"
   },
   {
    "duration": 10,
    "start_time": "2021-08-10T14:49:06.164Z"
   },
   {
    "duration": 414,
    "start_time": "2021-08-10T14:50:22.187Z"
   },
   {
    "duration": 444,
    "start_time": "2021-08-10T14:51:16.667Z"
   },
   {
    "duration": 7,
    "start_time": "2021-08-10T14:52:35.426Z"
   },
   {
    "duration": 3,
    "start_time": "2021-08-10T14:54:42.811Z"
   },
   {
    "duration": 6,
    "start_time": "2021-08-10T14:54:46.101Z"
   },
   {
    "duration": 7,
    "start_time": "2021-08-10T14:54:49.091Z"
   },
   {
    "duration": 10,
    "start_time": "2021-08-10T14:56:23.226Z"
   },
   {
    "duration": 3,
    "start_time": "2021-08-10T14:57:02.072Z"
   },
   {
    "duration": 7,
    "start_time": "2021-08-10T14:57:19.126Z"
   },
   {
    "duration": 4,
    "start_time": "2021-08-10T15:02:41.328Z"
   },
   {
    "duration": 7273,
    "start_time": "2021-08-10T15:02:44.220Z"
   },
   {
    "duration": 3,
    "start_time": "2021-08-10T15:03:36.844Z"
   },
   {
    "duration": 11,
    "start_time": "2021-08-10T15:03:40.471Z"
   },
   {
    "duration": 22,
    "start_time": "2021-08-10T15:03:50.560Z"
   },
   {
    "duration": 4,
    "start_time": "2021-08-10T15:09:01.366Z"
   },
   {
    "duration": 30,
    "start_time": "2021-08-10T15:09:04.199Z"
   },
   {
    "duration": 338,
    "start_time": "2021-08-11T06:44:27.594Z"
   },
   {
    "duration": 543,
    "start_time": "2021-08-11T06:44:40.277Z"
   },
   {
    "duration": 124,
    "start_time": "2021-08-11T06:44:40.822Z"
   },
   {
    "duration": 14,
    "start_time": "2021-08-11T06:44:40.948Z"
   },
   {
    "duration": 29,
    "start_time": "2021-08-11T06:44:40.964Z"
   },
   {
    "duration": 9,
    "start_time": "2021-08-11T06:44:40.994Z"
   },
   {
    "duration": 4,
    "start_time": "2021-08-11T06:44:41.004Z"
   },
   {
    "duration": 13,
    "start_time": "2021-08-11T06:44:41.010Z"
   },
   {
    "duration": 26,
    "start_time": "2021-08-11T06:44:41.025Z"
   },
   {
    "duration": 13,
    "start_time": "2021-08-11T06:44:41.053Z"
   },
   {
    "duration": 19,
    "start_time": "2021-08-11T06:44:41.068Z"
   },
   {
    "duration": 36,
    "start_time": "2021-08-11T06:44:41.089Z"
   },
   {
    "duration": 27,
    "start_time": "2021-08-11T06:44:41.126Z"
   },
   {
    "duration": 28,
    "start_time": "2021-08-11T06:44:41.155Z"
   },
   {
    "duration": 60,
    "start_time": "2021-08-11T06:44:41.185Z"
   },
   {
    "duration": 67,
    "start_time": "2021-08-11T06:44:41.246Z"
   },
   {
    "duration": 62,
    "start_time": "2021-08-11T06:44:41.314Z"
   },
   {
    "duration": 6,
    "start_time": "2021-08-11T06:44:41.377Z"
   },
   {
    "duration": 9,
    "start_time": "2021-08-11T06:44:41.384Z"
   },
   {
    "duration": 15,
    "start_time": "2021-08-11T06:44:41.394Z"
   },
   {
    "duration": 7,
    "start_time": "2021-08-11T06:44:41.411Z"
   },
   {
    "duration": 10,
    "start_time": "2021-08-11T06:44:41.420Z"
   },
   {
    "duration": 8,
    "start_time": "2021-08-11T06:44:41.431Z"
   },
   {
    "duration": 37,
    "start_time": "2021-08-11T06:44:41.441Z"
   },
   {
    "duration": 21,
    "start_time": "2021-08-11T06:44:41.479Z"
   },
   {
    "duration": 19,
    "start_time": "2021-08-11T06:44:41.501Z"
   },
   {
    "duration": 11,
    "start_time": "2021-08-11T06:44:41.521Z"
   },
   {
    "duration": 12,
    "start_time": "2021-08-11T06:44:41.536Z"
   },
   {
    "duration": 11,
    "start_time": "2021-08-11T06:44:41.550Z"
   },
   {
    "duration": 6,
    "start_time": "2021-08-11T06:44:41.562Z"
   },
   {
    "duration": 7,
    "start_time": "2021-08-11T06:44:41.570Z"
   },
   {
    "duration": 14,
    "start_time": "2021-08-11T06:44:41.578Z"
   },
   {
    "duration": 9,
    "start_time": "2021-08-11T06:44:41.593Z"
   },
   {
    "duration": 7,
    "start_time": "2021-08-11T06:44:41.604Z"
   },
   {
    "duration": 13,
    "start_time": "2021-08-11T06:44:41.612Z"
   },
   {
    "duration": 8,
    "start_time": "2021-08-11T06:44:41.626Z"
   },
   {
    "duration": 19,
    "start_time": "2021-08-11T06:44:41.636Z"
   },
   {
    "duration": 8,
    "start_time": "2021-08-11T06:44:41.657Z"
   },
   {
    "duration": 19,
    "start_time": "2021-08-11T06:44:41.666Z"
   },
   {
    "duration": 8,
    "start_time": "2021-08-11T06:44:41.687Z"
   },
   {
    "duration": 6,
    "start_time": "2021-08-11T06:44:41.697Z"
   },
   {
    "duration": 9,
    "start_time": "2021-08-11T06:44:41.704Z"
   },
   {
    "duration": 17,
    "start_time": "2021-08-11T06:44:41.715Z"
   },
   {
    "duration": 16,
    "start_time": "2021-08-11T06:44:41.733Z"
   },
   {
    "duration": 13,
    "start_time": "2021-08-11T06:44:41.751Z"
   },
   {
    "duration": 12,
    "start_time": "2021-08-11T06:44:41.765Z"
   },
   {
    "duration": 8,
    "start_time": "2021-08-11T06:45:52.474Z"
   },
   {
    "duration": 7,
    "start_time": "2021-08-11T06:46:43.734Z"
   },
   {
    "duration": 4,
    "start_time": "2021-08-11T06:47:43.060Z"
   },
   {
    "duration": 3,
    "start_time": "2021-08-11T06:48:53.078Z"
   },
   {
    "duration": 4,
    "start_time": "2021-08-11T06:50:46.574Z"
   },
   {
    "duration": 137,
    "start_time": "2021-08-11T06:50:46.580Z"
   },
   {
    "duration": 8,
    "start_time": "2021-08-11T06:50:46.719Z"
   },
   {
    "duration": 22,
    "start_time": "2021-08-11T06:50:46.741Z"
   },
   {
    "duration": 3,
    "start_time": "2021-08-11T06:50:46.765Z"
   },
   {
    "duration": 4,
    "start_time": "2021-08-11T06:50:46.770Z"
   },
   {
    "duration": 6,
    "start_time": "2021-08-11T06:50:46.775Z"
   },
   {
    "duration": 24,
    "start_time": "2021-08-11T06:50:46.783Z"
   },
   {
    "duration": 7,
    "start_time": "2021-08-11T06:50:46.810Z"
   },
   {
    "duration": 8,
    "start_time": "2021-08-11T06:50:46.841Z"
   },
   {
    "duration": 24,
    "start_time": "2021-08-11T06:50:46.851Z"
   },
   {
    "duration": 16,
    "start_time": "2021-08-11T06:50:46.876Z"
   },
   {
    "duration": 21,
    "start_time": "2021-08-11T06:50:46.893Z"
   },
   {
    "duration": 78,
    "start_time": "2021-08-11T06:50:46.916Z"
   },
   {
    "duration": 68,
    "start_time": "2021-08-11T06:50:46.996Z"
   },
   {
    "duration": 46,
    "start_time": "2021-08-11T06:50:47.066Z"
   },
   {
    "duration": 5,
    "start_time": "2021-08-11T06:50:47.114Z"
   },
   {
    "duration": 4,
    "start_time": "2021-08-11T06:50:47.120Z"
   },
   {
    "duration": 6,
    "start_time": "2021-08-11T06:50:47.141Z"
   },
   {
    "duration": 6,
    "start_time": "2021-08-11T06:50:47.148Z"
   },
   {
    "duration": 7,
    "start_time": "2021-08-11T06:50:47.155Z"
   },
   {
    "duration": 4,
    "start_time": "2021-08-11T06:50:47.163Z"
   },
   {
    "duration": 22,
    "start_time": "2021-08-11T06:50:47.169Z"
   },
   {
    "duration": 21,
    "start_time": "2021-08-11T06:50:47.192Z"
   },
   {
    "duration": 31,
    "start_time": "2021-08-11T06:50:47.215Z"
   },
   {
    "duration": 9,
    "start_time": "2021-08-11T06:50:47.247Z"
   },
   {
    "duration": 2,
    "start_time": "2021-08-11T06:50:47.259Z"
   },
   {
    "duration": 8,
    "start_time": "2021-08-11T06:50:47.263Z"
   },
   {
    "duration": 5,
    "start_time": "2021-08-11T06:50:47.272Z"
   },
   {
    "duration": 5,
    "start_time": "2021-08-11T06:50:47.278Z"
   },
   {
    "duration": 5,
    "start_time": "2021-08-11T06:50:47.285Z"
   },
   {
    "duration": 5,
    "start_time": "2021-08-11T06:50:47.291Z"
   },
   {
    "duration": 5,
    "start_time": "2021-08-11T06:50:47.297Z"
   },
   {
    "duration": 5,
    "start_time": "2021-08-11T06:50:47.303Z"
   },
   {
    "duration": 32,
    "start_time": "2021-08-11T06:50:47.309Z"
   },
   {
    "duration": 2,
    "start_time": "2021-08-11T06:50:47.342Z"
   },
   {
    "duration": 6,
    "start_time": "2021-08-11T06:50:47.346Z"
   },
   {
    "duration": 7,
    "start_time": "2021-08-11T06:50:47.354Z"
   },
   {
    "duration": 4,
    "start_time": "2021-08-11T06:50:47.363Z"
   },
   {
    "duration": 5,
    "start_time": "2021-08-11T06:50:47.369Z"
   },
   {
    "duration": 6,
    "start_time": "2021-08-11T06:50:47.375Z"
   },
   {
    "duration": 7,
    "start_time": "2021-08-11T06:50:47.382Z"
   },
   {
    "duration": 5,
    "start_time": "2021-08-11T06:50:47.390Z"
   },
   {
    "duration": 5,
    "start_time": "2021-08-11T06:50:47.396Z"
   },
   {
    "duration": 8,
    "start_time": "2021-08-11T06:50:47.403Z"
   },
   {
    "duration": 3,
    "start_time": "2021-08-11T07:01:57.142Z"
   },
   {
    "duration": 153,
    "start_time": "2021-08-11T07:01:57.147Z"
   },
   {
    "duration": 9,
    "start_time": "2021-08-11T07:01:57.303Z"
   },
   {
    "duration": 41,
    "start_time": "2021-08-11T07:01:57.313Z"
   },
   {
    "duration": 5,
    "start_time": "2021-08-11T07:01:57.356Z"
   },
   {
    "duration": 7,
    "start_time": "2021-08-11T07:01:57.363Z"
   },
   {
    "duration": 7,
    "start_time": "2021-08-11T07:01:57.372Z"
   },
   {
    "duration": 39,
    "start_time": "2021-08-11T07:01:57.382Z"
   },
   {
    "duration": 28,
    "start_time": "2021-08-11T07:01:57.423Z"
   },
   {
    "duration": 11,
    "start_time": "2021-08-11T07:01:57.453Z"
   },
   {
    "duration": 24,
    "start_time": "2021-08-11T07:01:57.466Z"
   },
   {
    "duration": 12,
    "start_time": "2021-08-11T07:01:57.492Z"
   },
   {
    "duration": 41,
    "start_time": "2021-08-11T07:01:57.506Z"
   },
   {
    "duration": 58,
    "start_time": "2021-08-11T07:01:57.549Z"
   },
   {
    "duration": 79,
    "start_time": "2021-08-11T07:01:57.609Z"
   },
   {
    "duration": 60,
    "start_time": "2021-08-11T07:01:57.690Z"
   },
   {
    "duration": 7,
    "start_time": "2021-08-11T07:01:57.752Z"
   },
   {
    "duration": 14,
    "start_time": "2021-08-11T07:01:57.761Z"
   },
   {
    "duration": 9,
    "start_time": "2021-08-11T07:01:57.776Z"
   },
   {
    "duration": 5,
    "start_time": "2021-08-11T07:01:57.787Z"
   },
   {
    "duration": 9,
    "start_time": "2021-08-11T07:01:57.793Z"
   },
   {
    "duration": 19,
    "start_time": "2021-08-11T07:01:57.803Z"
   },
   {
    "duration": 40,
    "start_time": "2021-08-11T07:01:57.825Z"
   },
   {
    "duration": 24,
    "start_time": "2021-08-11T07:01:57.867Z"
   },
   {
    "duration": 10,
    "start_time": "2021-08-11T07:01:57.893Z"
   },
   {
    "duration": 9,
    "start_time": "2021-08-11T07:01:57.904Z"
   },
   {
    "duration": 28,
    "start_time": "2021-08-11T07:01:57.915Z"
   },
   {
    "duration": 19,
    "start_time": "2021-08-11T07:01:57.945Z"
   },
   {
    "duration": 4,
    "start_time": "2021-08-11T07:01:57.966Z"
   },
   {
    "duration": 5,
    "start_time": "2021-08-11T07:01:57.972Z"
   },
   {
    "duration": 19,
    "start_time": "2021-08-11T07:01:57.979Z"
   },
   {
    "duration": 19,
    "start_time": "2021-08-11T07:01:58.000Z"
   },
   {
    "duration": 11,
    "start_time": "2021-08-11T07:01:58.021Z"
   },
   {
    "duration": 21,
    "start_time": "2021-08-11T07:01:58.033Z"
   },
   {
    "duration": 18,
    "start_time": "2021-08-11T07:01:58.056Z"
   },
   {
    "duration": 18,
    "start_time": "2021-08-11T07:01:58.075Z"
   },
   {
    "duration": 20,
    "start_time": "2021-08-11T07:01:58.094Z"
   },
   {
    "duration": 12,
    "start_time": "2021-08-11T07:01:58.115Z"
   },
   {
    "duration": 7,
    "start_time": "2021-08-11T07:01:58.129Z"
   },
   {
    "duration": 14,
    "start_time": "2021-08-11T07:01:58.137Z"
   },
   {
    "duration": 7,
    "start_time": "2021-08-11T07:01:58.153Z"
   },
   {
    "duration": 10,
    "start_time": "2021-08-11T07:01:58.162Z"
   },
   {
    "duration": 5,
    "start_time": "2021-08-11T07:01:58.174Z"
   },
   {
    "duration": 5,
    "start_time": "2021-08-11T07:01:58.181Z"
   },
   {
    "duration": 5,
    "start_time": "2021-08-11T07:01:58.188Z"
   },
   {
    "duration": 516,
    "start_time": "2021-08-11T07:03:04.829Z"
   },
   {
    "duration": 15,
    "start_time": "2021-08-11T07:03:34.315Z"
   },
   {
    "duration": 15,
    "start_time": "2021-08-11T07:04:25.145Z"
   },
   {
    "duration": 3,
    "start_time": "2021-08-11T07:06:38.496Z"
   },
   {
    "duration": 150,
    "start_time": "2021-08-11T07:06:38.501Z"
   },
   {
    "duration": 10,
    "start_time": "2021-08-11T07:06:38.653Z"
   },
   {
    "duration": 25,
    "start_time": "2021-08-11T07:06:38.665Z"
   },
   {
    "duration": 4,
    "start_time": "2021-08-11T07:06:38.692Z"
   },
   {
    "duration": 4,
    "start_time": "2021-08-11T07:06:38.698Z"
   },
   {
    "duration": 40,
    "start_time": "2021-08-11T07:06:38.704Z"
   },
   {
    "duration": 24,
    "start_time": "2021-08-11T07:06:38.746Z"
   },
   {
    "duration": 8,
    "start_time": "2021-08-11T07:06:38.774Z"
   },
   {
    "duration": 9,
    "start_time": "2021-08-11T07:06:38.785Z"
   },
   {
    "duration": 52,
    "start_time": "2021-08-11T07:06:38.795Z"
   },
   {
    "duration": 13,
    "start_time": "2021-08-11T07:06:38.849Z"
   },
   {
    "duration": 23,
    "start_time": "2021-08-11T07:06:38.864Z"
   },
   {
    "duration": 77,
    "start_time": "2021-08-11T07:06:38.888Z"
   },
   {
    "duration": 59,
    "start_time": "2021-08-11T07:06:38.967Z"
   },
   {
    "duration": 55,
    "start_time": "2021-08-11T07:06:39.028Z"
   },
   {
    "duration": 6,
    "start_time": "2021-08-11T07:06:39.084Z"
   },
   {
    "duration": 3,
    "start_time": "2021-08-11T07:06:39.091Z"
   },
   {
    "duration": 5,
    "start_time": "2021-08-11T07:06:39.096Z"
   },
   {
    "duration": 4,
    "start_time": "2021-08-11T07:06:39.103Z"
   },
   {
    "duration": 32,
    "start_time": "2021-08-11T07:06:39.109Z"
   },
   {
    "duration": 3,
    "start_time": "2021-08-11T07:06:39.142Z"
   },
   {
    "duration": 25,
    "start_time": "2021-08-11T07:06:39.147Z"
   },
   {
    "duration": 21,
    "start_time": "2021-08-11T07:06:39.173Z"
   },
   {
    "duration": 8,
    "start_time": "2021-08-11T07:06:39.196Z"
   },
   {
    "duration": 9,
    "start_time": "2021-08-11T07:06:39.205Z"
   },
   {
    "duration": 24,
    "start_time": "2021-08-11T07:06:39.217Z"
   },
   {
    "duration": 14,
    "start_time": "2021-08-11T07:06:39.243Z"
   },
   {
    "duration": 12,
    "start_time": "2021-08-11T07:06:39.258Z"
   },
   {
    "duration": 12,
    "start_time": "2021-08-11T07:06:39.272Z"
   },
   {
    "duration": 12,
    "start_time": "2021-08-11T07:06:39.286Z"
   },
   {
    "duration": 47,
    "start_time": "2021-08-11T07:06:39.299Z"
   },
   {
    "duration": 14,
    "start_time": "2021-08-11T07:06:39.347Z"
   },
   {
    "duration": 2,
    "start_time": "2021-08-11T07:06:39.362Z"
   },
   {
    "duration": 5,
    "start_time": "2021-08-11T07:06:39.366Z"
   },
   {
    "duration": 4,
    "start_time": "2021-08-11T07:06:39.372Z"
   },
   {
    "duration": 7,
    "start_time": "2021-08-11T07:06:39.378Z"
   },
   {
    "duration": 4,
    "start_time": "2021-08-11T07:06:39.386Z"
   },
   {
    "duration": 10,
    "start_time": "2021-08-11T07:06:39.391Z"
   },
   {
    "duration": 5,
    "start_time": "2021-08-11T07:06:39.403Z"
   },
   {
    "duration": 4,
    "start_time": "2021-08-11T07:06:39.409Z"
   },
   {
    "duration": 4,
    "start_time": "2021-08-11T07:06:39.415Z"
   },
   {
    "duration": 2,
    "start_time": "2021-08-11T07:06:39.440Z"
   },
   {
    "duration": 5,
    "start_time": "2021-08-11T07:06:39.444Z"
   },
   {
    "duration": 5,
    "start_time": "2021-08-11T07:06:39.450Z"
   },
   {
    "duration": 6,
    "start_time": "2021-08-11T07:17:13.930Z"
   },
   {
    "duration": 46,
    "start_time": "2021-08-11T07:35:44.939Z"
   },
   {
    "duration": 9,
    "start_time": "2021-08-11T07:36:59.628Z"
   },
   {
    "duration": 139,
    "start_time": "2021-08-11T08:54:55.484Z"
   },
   {
    "duration": 81,
    "start_time": "2021-08-11T08:55:26.228Z"
   },
   {
    "duration": 3,
    "start_time": "2021-08-11T08:55:54.101Z"
   },
   {
    "duration": 135,
    "start_time": "2021-08-11T08:55:54.106Z"
   },
   {
    "duration": 9,
    "start_time": "2021-08-11T08:55:54.243Z"
   },
   {
    "duration": 35,
    "start_time": "2021-08-11T08:55:54.254Z"
   },
   {
    "duration": 4,
    "start_time": "2021-08-11T08:55:54.291Z"
   },
   {
    "duration": 11,
    "start_time": "2021-08-11T08:55:54.296Z"
   },
   {
    "duration": 13,
    "start_time": "2021-08-11T08:55:54.309Z"
   },
   {
    "duration": 33,
    "start_time": "2021-08-11T08:55:54.324Z"
   },
   {
    "duration": 17,
    "start_time": "2021-08-11T08:55:54.359Z"
   },
   {
    "duration": 17,
    "start_time": "2021-08-11T08:55:54.377Z"
   },
   {
    "duration": 29,
    "start_time": "2021-08-11T08:55:54.395Z"
   },
   {
    "duration": 13,
    "start_time": "2021-08-11T08:55:54.426Z"
   },
   {
    "duration": 20,
    "start_time": "2021-08-11T08:55:54.441Z"
   },
   {
    "duration": 56,
    "start_time": "2021-08-11T08:55:54.463Z"
   },
   {
    "duration": 71,
    "start_time": "2021-08-11T08:55:54.521Z"
   },
   {
    "duration": 56,
    "start_time": "2021-08-11T08:55:54.594Z"
   },
   {
    "duration": 6,
    "start_time": "2021-08-11T08:55:54.652Z"
   },
   {
    "duration": 3,
    "start_time": "2021-08-11T08:55:54.660Z"
   },
   {
    "duration": 6,
    "start_time": "2021-08-11T08:55:54.667Z"
   },
   {
    "duration": 5,
    "start_time": "2021-08-11T08:55:54.674Z"
   },
   {
    "duration": 6,
    "start_time": "2021-08-11T08:55:54.680Z"
   },
   {
    "duration": 4,
    "start_time": "2021-08-11T08:55:54.687Z"
   },
   {
    "duration": 55,
    "start_time": "2021-08-11T08:55:54.693Z"
   },
   {
    "duration": 22,
    "start_time": "2021-08-11T08:55:54.749Z"
   },
   {
    "duration": 9,
    "start_time": "2021-08-11T08:55:54.773Z"
   },
   {
    "duration": 8,
    "start_time": "2021-08-11T08:55:54.784Z"
   },
   {
    "duration": 7,
    "start_time": "2021-08-11T08:55:54.794Z"
   },
   {
    "duration": 42,
    "start_time": "2021-08-11T08:55:54.803Z"
   },
   {
    "duration": 13,
    "start_time": "2021-08-11T08:55:54.846Z"
   },
   {
    "duration": 14,
    "start_time": "2021-08-11T08:55:54.860Z"
   },
   {
    "duration": 17,
    "start_time": "2021-08-11T08:55:54.875Z"
   },
   {
    "duration": 15,
    "start_time": "2021-08-11T08:55:54.894Z"
   },
   {
    "duration": 37,
    "start_time": "2021-08-11T08:55:54.911Z"
   },
   {
    "duration": 6,
    "start_time": "2021-08-11T08:55:54.949Z"
   },
   {
    "duration": 14,
    "start_time": "2021-08-11T08:55:54.956Z"
   },
   {
    "duration": 9,
    "start_time": "2021-08-11T08:55:54.972Z"
   },
   {
    "duration": 3,
    "start_time": "2021-08-11T08:55:54.983Z"
   },
   {
    "duration": 94,
    "start_time": "2021-08-11T08:55:54.988Z"
   },
   {
    "duration": -1171,
    "start_time": "2021-08-11T08:55:56.255Z"
   },
   {
    "duration": -1175,
    "start_time": "2021-08-11T08:55:56.260Z"
   },
   {
    "duration": -1180,
    "start_time": "2021-08-11T08:55:56.266Z"
   },
   {
    "duration": -1184,
    "start_time": "2021-08-11T08:55:56.271Z"
   },
   {
    "duration": -1189,
    "start_time": "2021-08-11T08:55:56.276Z"
   },
   {
    "duration": -1193,
    "start_time": "2021-08-11T08:55:56.281Z"
   },
   {
    "duration": -1197,
    "start_time": "2021-08-11T08:55:56.286Z"
   },
   {
    "duration": 3,
    "start_time": "2021-08-11T08:57:15.009Z"
   },
   {
    "duration": 130,
    "start_time": "2021-08-11T08:57:18.328Z"
   },
   {
    "duration": 85,
    "start_time": "2021-08-11T08:57:35.658Z"
   },
   {
    "duration": 3,
    "start_time": "2021-08-11T08:58:05.909Z"
   },
   {
    "duration": 84,
    "start_time": "2021-08-11T08:58:08.119Z"
   },
   {
    "duration": 84,
    "start_time": "2021-08-11T09:01:04.768Z"
   },
   {
    "duration": 90,
    "start_time": "2021-08-11T09:02:04.873Z"
   },
   {
    "duration": 251,
    "start_time": "2021-08-11T09:02:29.220Z"
   },
   {
    "duration": 113,
    "start_time": "2021-08-11T09:24:33.748Z"
   },
   {
    "duration": 371,
    "start_time": "2021-08-11T09:25:31.921Z"
   },
   {
    "duration": 1276,
    "start_time": "2021-08-11T09:25:44.341Z"
   },
   {
    "duration": 80,
    "start_time": "2021-08-11T09:26:33.737Z"
   },
   {
    "duration": 87,
    "start_time": "2021-08-11T09:26:56.473Z"
   },
   {
    "duration": 24,
    "start_time": "2021-08-11T09:27:18.467Z"
   },
   {
    "duration": 3,
    "start_time": "2021-08-11T09:27:46.398Z"
   },
   {
    "duration": 157,
    "start_time": "2021-08-11T09:27:46.402Z"
   },
   {
    "duration": 9,
    "start_time": "2021-08-11T09:27:46.561Z"
   },
   {
    "duration": 37,
    "start_time": "2021-08-11T09:27:46.572Z"
   },
   {
    "duration": 4,
    "start_time": "2021-08-11T09:27:46.611Z"
   },
   {
    "duration": 25,
    "start_time": "2021-08-11T09:27:46.616Z"
   },
   {
    "duration": 6,
    "start_time": "2021-08-11T09:27:46.647Z"
   },
   {
    "duration": 25,
    "start_time": "2021-08-11T09:27:46.655Z"
   },
   {
    "duration": 7,
    "start_time": "2021-08-11T09:27:46.684Z"
   },
   {
    "duration": 10,
    "start_time": "2021-08-11T09:27:46.693Z"
   },
   {
    "duration": 43,
    "start_time": "2021-08-11T09:27:46.705Z"
   },
   {
    "duration": 18,
    "start_time": "2021-08-11T09:27:46.750Z"
   },
   {
    "duration": 31,
    "start_time": "2021-08-11T09:27:46.770Z"
   },
   {
    "duration": 74,
    "start_time": "2021-08-11T09:27:46.802Z"
   },
   {
    "duration": 65,
    "start_time": "2021-08-11T09:27:46.878Z"
   },
   {
    "duration": 64,
    "start_time": "2021-08-11T09:27:46.945Z"
   },
   {
    "duration": 6,
    "start_time": "2021-08-11T09:27:47.010Z"
   },
   {
    "duration": 3,
    "start_time": "2021-08-11T09:27:47.018Z"
   },
   {
    "duration": 8,
    "start_time": "2021-08-11T09:27:47.041Z"
   },
   {
    "duration": 9,
    "start_time": "2021-08-11T09:27:47.051Z"
   },
   {
    "duration": 6,
    "start_time": "2021-08-11T09:27:47.062Z"
   },
   {
    "duration": 4,
    "start_time": "2021-08-11T09:27:47.070Z"
   },
   {
    "duration": 26,
    "start_time": "2021-08-11T09:27:47.075Z"
   },
   {
    "duration": 39,
    "start_time": "2021-08-11T09:27:47.102Z"
   },
   {
    "duration": 15,
    "start_time": "2021-08-11T09:27:47.142Z"
   },
   {
    "duration": 9,
    "start_time": "2021-08-11T09:27:47.161Z"
   },
   {
    "duration": 3,
    "start_time": "2021-08-11T09:27:47.173Z"
   },
   {
    "duration": 27,
    "start_time": "2021-08-11T09:27:47.178Z"
   },
   {
    "duration": 18,
    "start_time": "2021-08-11T09:27:47.207Z"
   },
   {
    "duration": 36,
    "start_time": "2021-08-11T09:27:47.227Z"
   },
   {
    "duration": 13,
    "start_time": "2021-08-11T09:27:47.265Z"
   },
   {
    "duration": 21,
    "start_time": "2021-08-11T09:27:47.280Z"
   },
   {
    "duration": 13,
    "start_time": "2021-08-11T09:27:47.302Z"
   },
   {
    "duration": 5,
    "start_time": "2021-08-11T09:27:47.317Z"
   },
   {
    "duration": 13,
    "start_time": "2021-08-11T09:27:47.349Z"
   },
   {
    "duration": 10,
    "start_time": "2021-08-11T09:27:47.364Z"
   },
   {
    "duration": 313,
    "start_time": "2021-08-11T09:27:47.375Z"
   },
   {
    "duration": -4286,
    "start_time": "2021-08-11T09:27:51.975Z"
   },
   {
    "duration": -4290,
    "start_time": "2021-08-11T09:27:51.980Z"
   },
   {
    "duration": -4295,
    "start_time": "2021-08-11T09:27:51.986Z"
   },
   {
    "duration": -4299,
    "start_time": "2021-08-11T09:27:51.991Z"
   },
   {
    "duration": -4304,
    "start_time": "2021-08-11T09:27:51.997Z"
   },
   {
    "duration": -4310,
    "start_time": "2021-08-11T09:27:52.004Z"
   },
   {
    "duration": -4315,
    "start_time": "2021-08-11T09:27:52.010Z"
   },
   {
    "duration": -4319,
    "start_time": "2021-08-11T09:27:52.015Z"
   },
   {
    "duration": 3,
    "start_time": "2021-08-11T09:30:45.091Z"
   },
   {
    "duration": 14,
    "start_time": "2021-08-11T09:30:47.564Z"
   },
   {
    "duration": 10,
    "start_time": "2021-08-11T09:31:34.992Z"
   },
   {
    "duration": 14,
    "start_time": "2021-08-11T09:32:19.346Z"
   },
   {
    "duration": 9,
    "start_time": "2021-08-11T09:32:21.653Z"
   },
   {
    "duration": 12,
    "start_time": "2021-08-11T09:33:05.453Z"
   },
   {
    "duration": 9,
    "start_time": "2021-08-11T09:33:07.685Z"
   },
   {
    "duration": 15,
    "start_time": "2021-08-11T09:34:02.865Z"
   },
   {
    "duration": 11,
    "start_time": "2021-08-11T09:34:05.765Z"
   },
   {
    "duration": 14,
    "start_time": "2021-08-11T09:34:08.007Z"
   },
   {
    "duration": 16,
    "start_time": "2021-08-11T09:34:21.013Z"
   },
   {
    "duration": 3,
    "start_time": "2021-08-11T09:34:28.453Z"
   },
   {
    "duration": -827,
    "start_time": "2021-08-11T09:34:36.616Z"
   },
   {
    "duration": 4,
    "start_time": "2021-08-11T09:34:51.385Z"
   },
   {
    "duration": 3,
    "start_time": "2021-08-11T09:36:31.465Z"
   },
   {
    "duration": 140,
    "start_time": "2021-08-11T09:36:31.469Z"
   },
   {
    "duration": 9,
    "start_time": "2021-08-11T09:36:31.611Z"
   },
   {
    "duration": 22,
    "start_time": "2021-08-11T09:36:31.641Z"
   },
   {
    "duration": 3,
    "start_time": "2021-08-11T09:36:31.665Z"
   },
   {
    "duration": 4,
    "start_time": "2021-08-11T09:36:31.670Z"
   },
   {
    "duration": 6,
    "start_time": "2021-08-11T09:36:31.676Z"
   },
   {
    "duration": 23,
    "start_time": "2021-08-11T09:36:31.684Z"
   },
   {
    "duration": 37,
    "start_time": "2021-08-11T09:36:31.710Z"
   },
   {
    "duration": 14,
    "start_time": "2021-08-11T09:36:31.750Z"
   },
   {
    "duration": 31,
    "start_time": "2021-08-11T09:36:31.766Z"
   },
   {
    "duration": 13,
    "start_time": "2021-08-11T09:36:31.799Z"
   },
   {
    "duration": 29,
    "start_time": "2021-08-11T09:36:31.813Z"
   },
   {
    "duration": 54,
    "start_time": "2021-08-11T09:36:31.844Z"
   },
   {
    "duration": 80,
    "start_time": "2021-08-11T09:36:31.900Z"
   },
   {
    "duration": 50,
    "start_time": "2021-08-11T09:36:31.982Z"
   },
   {
    "duration": 6,
    "start_time": "2021-08-11T09:36:32.041Z"
   },
   {
    "duration": 3,
    "start_time": "2021-08-11T09:36:32.049Z"
   },
   {
    "duration": 10,
    "start_time": "2021-08-11T09:36:32.054Z"
   },
   {
    "duration": 5,
    "start_time": "2021-08-11T09:36:32.065Z"
   },
   {
    "duration": 8,
    "start_time": "2021-08-11T09:36:32.072Z"
   },
   {
    "duration": 4,
    "start_time": "2021-08-11T09:36:32.081Z"
   },
   {
    "duration": 24,
    "start_time": "2021-08-11T09:36:32.086Z"
   },
   {
    "duration": 42,
    "start_time": "2021-08-11T09:36:32.112Z"
   },
   {
    "duration": 10,
    "start_time": "2021-08-11T09:36:32.155Z"
   },
   {
    "duration": 9,
    "start_time": "2021-08-11T09:36:32.166Z"
   },
   {
    "duration": 5,
    "start_time": "2021-08-11T09:36:32.178Z"
   },
   {
    "duration": 18,
    "start_time": "2021-08-11T09:36:32.184Z"
   },
   {
    "duration": 37,
    "start_time": "2021-08-11T09:36:32.204Z"
   },
   {
    "duration": 13,
    "start_time": "2021-08-11T09:36:32.243Z"
   },
   {
    "duration": 13,
    "start_time": "2021-08-11T09:36:32.258Z"
   },
   {
    "duration": 16,
    "start_time": "2021-08-11T09:36:32.273Z"
   },
   {
    "duration": 15,
    "start_time": "2021-08-11T09:36:32.291Z"
   },
   {
    "duration": 37,
    "start_time": "2021-08-11T09:36:32.308Z"
   },
   {
    "duration": 14,
    "start_time": "2021-08-11T09:36:32.346Z"
   },
   {
    "duration": 9,
    "start_time": "2021-08-11T09:36:32.362Z"
   },
   {
    "duration": 3,
    "start_time": "2021-08-11T09:36:32.373Z"
   },
   {
    "duration": 20,
    "start_time": "2021-08-11T09:36:32.377Z"
   },
   {
    "duration": 9,
    "start_time": "2021-08-11T09:36:32.398Z"
   },
   {
    "duration": 37,
    "start_time": "2021-08-11T09:36:32.408Z"
   },
   {
    "duration": 11,
    "start_time": "2021-08-11T09:36:32.447Z"
   },
   {
    "duration": 4,
    "start_time": "2021-08-11T09:36:32.460Z"
   },
   {
    "duration": 7,
    "start_time": "2021-08-11T09:36:32.466Z"
   },
   {
    "duration": 5,
    "start_time": "2021-08-11T09:36:32.475Z"
   },
   {
    "duration": 4,
    "start_time": "2021-08-11T09:36:32.481Z"
   },
   {
    "duration": 14,
    "start_time": "2021-08-11T09:38:03.373Z"
   },
   {
    "duration": 14,
    "start_time": "2021-08-11T09:38:16.545Z"
   },
   {
    "duration": 4,
    "start_time": "2021-08-11T09:39:25.313Z"
   },
   {
    "duration": 514,
    "start_time": "2021-08-11T09:39:27.863Z"
   },
   {
    "duration": 3,
    "start_time": "2021-08-11T09:40:11.993Z"
   },
   {
    "duration": 530,
    "start_time": "2021-08-11T09:40:14.543Z"
   },
   {
    "duration": 4,
    "start_time": "2021-08-11T09:40:58.083Z"
   },
   {
    "duration": 523,
    "start_time": "2021-08-11T09:41:00.202Z"
   },
   {
    "duration": 3,
    "start_time": "2021-08-11T09:41:08.813Z"
   },
   {
    "duration": 14,
    "start_time": "2021-08-11T09:41:14.122Z"
   },
   {
    "duration": 3,
    "start_time": "2021-08-11T09:43:08.673Z"
   },
   {
    "duration": 530,
    "start_time": "2021-08-11T09:43:11.002Z"
   },
   {
    "duration": 3,
    "start_time": "2021-08-11T09:43:59.763Z"
   },
   {
    "duration": 5253,
    "start_time": "2021-08-11T09:44:02.693Z"
   },
   {
    "duration": 4,
    "start_time": "2021-08-11T09:46:02.043Z"
   },
   {
    "duration": 515,
    "start_time": "2021-08-11T09:46:04.333Z"
   },
   {
    "duration": 4,
    "start_time": "2021-08-11T09:46:28.728Z"
   },
   {
    "duration": 511,
    "start_time": "2021-08-11T09:46:31.413Z"
   },
   {
    "duration": 8,
    "start_time": "2021-08-11T09:47:42.379Z"
   },
   {
    "duration": 5583,
    "start_time": "2021-08-11T09:47:45.082Z"
   },
   {
    "duration": 4,
    "start_time": "2021-08-11T09:48:07.113Z"
   },
   {
    "duration": 5719,
    "start_time": "2021-08-11T09:48:08.853Z"
   },
   {
    "duration": 5468,
    "start_time": "2021-08-11T09:48:59.734Z"
   },
   {
    "duration": 3,
    "start_time": "2021-08-11T09:51:13.158Z"
   },
   {
    "duration": 5149,
    "start_time": "2021-08-11T09:51:14.818Z"
   },
   {
    "duration": 3,
    "start_time": "2021-08-11T09:58:15.836Z"
   },
   {
    "duration": 17,
    "start_time": "2021-08-11T09:58:17.987Z"
   },
   {
    "duration": 122,
    "start_time": "2021-08-11T09:58:36.735Z"
   },
   {
    "duration": 12,
    "start_time": "2021-08-11T09:59:02.155Z"
   },
   {
    "duration": -813,
    "start_time": "2021-08-11T11:11:47.359Z"
   },
   {
    "duration": -820,
    "start_time": "2021-08-11T11:11:47.366Z"
   },
   {
    "duration": -825,
    "start_time": "2021-08-11T11:11:47.372Z"
   },
   {
    "duration": -830,
    "start_time": "2021-08-11T11:11:47.378Z"
   },
   {
    "duration": -850,
    "start_time": "2021-08-11T11:11:47.399Z"
   },
   {
    "duration": -860,
    "start_time": "2021-08-11T11:11:47.409Z"
   },
   {
    "duration": -866,
    "start_time": "2021-08-11T11:11:47.416Z"
   },
   {
    "duration": -871,
    "start_time": "2021-08-11T11:11:47.422Z"
   },
   {
    "duration": -877,
    "start_time": "2021-08-11T11:11:47.428Z"
   },
   {
    "duration": -880,
    "start_time": "2021-08-11T11:11:47.432Z"
   },
   {
    "duration": -884,
    "start_time": "2021-08-11T11:11:47.438Z"
   },
   {
    "duration": -887,
    "start_time": "2021-08-11T11:11:47.442Z"
   },
   {
    "duration": -891,
    "start_time": "2021-08-11T11:11:47.447Z"
   },
   {
    "duration": -896,
    "start_time": "2021-08-11T11:11:47.452Z"
   },
   {
    "duration": -901,
    "start_time": "2021-08-11T11:11:47.458Z"
   },
   {
    "duration": -904,
    "start_time": "2021-08-11T11:11:47.462Z"
   },
   {
    "duration": -908,
    "start_time": "2021-08-11T11:11:47.467Z"
   },
   {
    "duration": -912,
    "start_time": "2021-08-11T11:11:47.472Z"
   },
   {
    "duration": -916,
    "start_time": "2021-08-11T11:11:47.477Z"
   },
   {
    "duration": -919,
    "start_time": "2021-08-11T11:11:47.481Z"
   },
   {
    "duration": -924,
    "start_time": "2021-08-11T11:11:47.486Z"
   },
   {
    "duration": -927,
    "start_time": "2021-08-11T11:11:47.490Z"
   },
   {
    "duration": -949,
    "start_time": "2021-08-11T11:11:47.513Z"
   },
   {
    "duration": -955,
    "start_time": "2021-08-11T11:11:47.520Z"
   },
   {
    "duration": -961,
    "start_time": "2021-08-11T11:11:47.526Z"
   },
   {
    "duration": -965,
    "start_time": "2021-08-11T11:11:47.531Z"
   },
   {
    "duration": -972,
    "start_time": "2021-08-11T11:11:47.539Z"
   },
   {
    "duration": -976,
    "start_time": "2021-08-11T11:11:47.544Z"
   },
   {
    "duration": -980,
    "start_time": "2021-08-11T11:11:47.549Z"
   },
   {
    "duration": -985,
    "start_time": "2021-08-11T11:11:47.554Z"
   },
   {
    "duration": -991,
    "start_time": "2021-08-11T11:11:47.561Z"
   },
   {
    "duration": -995,
    "start_time": "2021-08-11T11:11:47.566Z"
   },
   {
    "duration": -999,
    "start_time": "2021-08-11T11:11:47.571Z"
   },
   {
    "duration": -1002,
    "start_time": "2021-08-11T11:11:47.575Z"
   },
   {
    "duration": -1007,
    "start_time": "2021-08-11T11:11:47.580Z"
   },
   {
    "duration": -1010,
    "start_time": "2021-08-11T11:11:47.584Z"
   },
   {
    "duration": -1014,
    "start_time": "2021-08-11T11:11:47.589Z"
   },
   {
    "duration": -1017,
    "start_time": "2021-08-11T11:11:47.593Z"
   },
   {
    "duration": -960,
    "start_time": "2021-08-11T11:11:47.600Z"
   },
   {
    "duration": -964,
    "start_time": "2021-08-11T11:11:47.606Z"
   },
   {
    "duration": -982,
    "start_time": "2021-08-11T11:11:47.625Z"
   },
   {
    "duration": -985,
    "start_time": "2021-08-11T11:11:47.629Z"
   },
   {
    "duration": -989,
    "start_time": "2021-08-11T11:11:47.634Z"
   },
   {
    "duration": -994,
    "start_time": "2021-08-11T11:11:47.639Z"
   },
   {
    "duration": -998,
    "start_time": "2021-08-11T11:11:47.644Z"
   },
   {
    "duration": 2,
    "start_time": "2021-08-11T11:12:02.031Z"
   },
   {
    "duration": 3,
    "start_time": "2021-08-11T11:12:07.070Z"
   },
   {
    "duration": 149,
    "start_time": "2021-08-11T11:12:07.074Z"
   },
   {
    "duration": 18,
    "start_time": "2021-08-11T11:12:07.225Z"
   },
   {
    "duration": 37,
    "start_time": "2021-08-11T11:12:07.244Z"
   },
   {
    "duration": 20,
    "start_time": "2021-08-11T11:12:07.282Z"
   },
   {
    "duration": 29,
    "start_time": "2021-08-11T11:12:07.303Z"
   },
   {
    "duration": 21,
    "start_time": "2021-08-11T11:12:07.334Z"
   },
   {
    "duration": 49,
    "start_time": "2021-08-11T11:12:07.357Z"
   },
   {
    "duration": 29,
    "start_time": "2021-08-11T11:12:07.408Z"
   },
   {
    "duration": 23,
    "start_time": "2021-08-11T11:12:07.439Z"
   },
   {
    "duration": 42,
    "start_time": "2021-08-11T11:12:07.464Z"
   },
   {
    "duration": 28,
    "start_time": "2021-08-11T11:12:07.507Z"
   },
   {
    "duration": 29,
    "start_time": "2021-08-11T11:12:07.537Z"
   },
   {
    "duration": 65,
    "start_time": "2021-08-11T11:12:07.568Z"
   },
   {
    "duration": 73,
    "start_time": "2021-08-11T11:12:07.634Z"
   },
   {
    "duration": 52,
    "start_time": "2021-08-11T11:12:07.709Z"
   },
   {
    "duration": 6,
    "start_time": "2021-08-11T11:12:07.762Z"
   },
   {
    "duration": 20,
    "start_time": "2021-08-11T11:12:07.769Z"
   },
   {
    "duration": 28,
    "start_time": "2021-08-11T11:12:07.791Z"
   },
   {
    "duration": 21,
    "start_time": "2021-08-11T11:12:07.821Z"
   },
   {
    "duration": 22,
    "start_time": "2021-08-11T11:12:07.843Z"
   },
   {
    "duration": 19,
    "start_time": "2021-08-11T11:12:07.866Z"
   },
   {
    "duration": 32,
    "start_time": "2021-08-11T11:12:07.888Z"
   },
   {
    "duration": 26,
    "start_time": "2021-08-11T11:12:07.922Z"
   },
   {
    "duration": 21,
    "start_time": "2021-08-11T11:12:07.949Z"
   },
   {
    "duration": 19,
    "start_time": "2021-08-11T11:12:07.972Z"
   },
   {
    "duration": 7,
    "start_time": "2021-08-11T11:12:07.993Z"
   },
   {
    "duration": 29,
    "start_time": "2021-08-11T11:12:08.002Z"
   },
   {
    "duration": 19,
    "start_time": "2021-08-11T11:12:08.033Z"
   },
   {
    "duration": 18,
    "start_time": "2021-08-11T11:12:08.054Z"
   },
   {
    "duration": 27,
    "start_time": "2021-08-11T11:12:08.073Z"
   },
   {
    "duration": 22,
    "start_time": "2021-08-11T11:12:08.101Z"
   },
   {
    "duration": 23,
    "start_time": "2021-08-11T11:12:08.125Z"
   },
   {
    "duration": 18,
    "start_time": "2021-08-11T11:12:08.149Z"
   },
   {
    "duration": 26,
    "start_time": "2021-08-11T11:12:08.168Z"
   },
   {
    "duration": 22,
    "start_time": "2021-08-11T11:12:08.195Z"
   },
   {
    "duration": 21,
    "start_time": "2021-08-11T11:12:08.219Z"
   },
   {
    "duration": 8028,
    "start_time": "2021-08-11T11:12:08.242Z"
   },
   {
    "duration": -791,
    "start_time": "2021-08-11T11:12:17.063Z"
   },
   {
    "duration": -797,
    "start_time": "2021-08-11T11:12:17.070Z"
   },
   {
    "duration": -801,
    "start_time": "2021-08-11T11:12:17.075Z"
   },
   {
    "duration": -806,
    "start_time": "2021-08-11T11:12:17.080Z"
   },
   {
    "duration": -810,
    "start_time": "2021-08-11T11:12:17.085Z"
   },
   {
    "duration": -819,
    "start_time": "2021-08-11T11:12:17.095Z"
   },
   {
    "duration": -823,
    "start_time": "2021-08-11T11:12:17.100Z"
   },
   {
    "duration": 4,
    "start_time": "2021-08-11T11:14:22.569Z"
   },
   {
    "duration": 553,
    "start_time": "2021-08-11T11:14:26.179Z"
   },
   {
    "duration": 88,
    "start_time": "2021-08-11T11:14:58.789Z"
   },
   {
    "duration": 3,
    "start_time": "2021-08-11T11:15:18.528Z"
   },
   {
    "duration": 17,
    "start_time": "2021-08-11T11:15:21.048Z"
   },
   {
    "duration": 5,
    "start_time": "2021-08-11T11:16:34.598Z"
   },
   {
    "duration": 14,
    "start_time": "2021-08-11T11:16:36.558Z"
   },
   {
    "duration": 21,
    "start_time": "2021-08-11T11:16:51.490Z"
   },
   {
    "duration": 14,
    "start_time": "2021-08-11T11:18:38.301Z"
   },
   {
    "duration": 15,
    "start_time": "2021-08-11T11:18:58.461Z"
   },
   {
    "duration": 4,
    "start_time": "2021-08-11T12:23:24.247Z"
   },
   {
    "duration": 15,
    "start_time": "2021-08-11T12:23:26.405Z"
   },
   {
    "duration": 87,
    "start_time": "2021-08-11T12:25:29.196Z"
   },
   {
    "duration": 4,
    "start_time": "2021-08-11T12:25:40.465Z"
   },
   {
    "duration": 16,
    "start_time": "2021-08-11T12:25:44.165Z"
   },
   {
    "duration": 3,
    "start_time": "2021-08-11T12:26:01.576Z"
   },
   {
    "duration": 16,
    "start_time": "2021-08-11T12:26:03.225Z"
   },
   {
    "duration": 17,
    "start_time": "2021-08-11T12:26:12.775Z"
   },
   {
    "duration": 16,
    "start_time": "2021-08-11T12:29:28.505Z"
   },
   {
    "duration": 17,
    "start_time": "2021-08-11T12:29:50.155Z"
   },
   {
    "duration": 4,
    "start_time": "2021-08-11T12:29:56.895Z"
   },
   {
    "duration": 689,
    "start_time": "2021-08-11T12:30:04.155Z"
   },
   {
    "duration": 507,
    "start_time": "2021-08-11T12:30:08.185Z"
   },
   {
    "duration": 676,
    "start_time": "2021-08-11T12:30:21.435Z"
   },
   {
    "duration": 511,
    "start_time": "2021-08-11T12:30:47.030Z"
   },
   {
    "duration": 3,
    "start_time": "2021-08-11T12:30:54.872Z"
   },
   {
    "duration": 148,
    "start_time": "2021-08-11T12:30:54.877Z"
   },
   {
    "duration": 15,
    "start_time": "2021-08-11T12:30:55.027Z"
   },
   {
    "duration": 33,
    "start_time": "2021-08-11T12:30:55.044Z"
   },
   {
    "duration": 14,
    "start_time": "2021-08-11T12:30:55.079Z"
   },
   {
    "duration": 14,
    "start_time": "2021-08-11T12:30:55.095Z"
   },
   {
    "duration": 19,
    "start_time": "2021-08-11T12:30:55.111Z"
   },
   {
    "duration": 32,
    "start_time": "2021-08-11T12:30:55.132Z"
   },
   {
    "duration": 15,
    "start_time": "2021-08-11T12:30:55.167Z"
   },
   {
    "duration": 10,
    "start_time": "2021-08-11T12:30:55.184Z"
   },
   {
    "duration": 23,
    "start_time": "2021-08-11T12:30:55.196Z"
   },
   {
    "duration": 15,
    "start_time": "2021-08-11T12:30:55.221Z"
   },
   {
    "duration": 21,
    "start_time": "2021-08-11T12:30:55.237Z"
   },
   {
    "duration": 51,
    "start_time": "2021-08-11T12:30:55.259Z"
   },
   {
    "duration": 80,
    "start_time": "2021-08-11T12:30:55.312Z"
   },
   {
    "duration": 56,
    "start_time": "2021-08-11T12:30:55.393Z"
   },
   {
    "duration": 6,
    "start_time": "2021-08-11T12:30:55.451Z"
   },
   {
    "duration": 4,
    "start_time": "2021-08-11T12:30:55.458Z"
   },
   {
    "duration": 6,
    "start_time": "2021-08-11T12:30:55.464Z"
   },
   {
    "duration": 5,
    "start_time": "2021-08-11T12:30:55.472Z"
   },
   {
    "duration": 6,
    "start_time": "2021-08-11T12:30:55.479Z"
   },
   {
    "duration": 5,
    "start_time": "2021-08-11T12:30:55.486Z"
   },
   {
    "duration": 25,
    "start_time": "2021-08-11T12:30:55.493Z"
   },
   {
    "duration": 22,
    "start_time": "2021-08-11T12:30:55.541Z"
   },
   {
    "duration": 9,
    "start_time": "2021-08-11T12:30:55.564Z"
   },
   {
    "duration": 9,
    "start_time": "2021-08-11T12:30:55.575Z"
   },
   {
    "duration": 3,
    "start_time": "2021-08-11T12:30:55.587Z"
   },
   {
    "duration": 18,
    "start_time": "2021-08-11T12:30:55.592Z"
   },
   {
    "duration": 38,
    "start_time": "2021-08-11T12:30:55.612Z"
   },
   {
    "duration": 14,
    "start_time": "2021-08-11T12:30:55.651Z"
   },
   {
    "duration": 12,
    "start_time": "2021-08-11T12:30:55.667Z"
   },
   {
    "duration": 16,
    "start_time": "2021-08-11T12:30:55.681Z"
   },
   {
    "duration": 42,
    "start_time": "2021-08-11T12:30:55.699Z"
   },
   {
    "duration": 6,
    "start_time": "2021-08-11T12:30:55.743Z"
   },
   {
    "duration": 15,
    "start_time": "2021-08-11T12:30:55.750Z"
   },
   {
    "duration": 10,
    "start_time": "2021-08-11T12:30:55.767Z"
   },
   {
    "duration": 6,
    "start_time": "2021-08-11T12:30:55.778Z"
   },
   {
    "duration": 18,
    "start_time": "2021-08-11T12:30:55.785Z"
   },
   {
    "duration": 41,
    "start_time": "2021-08-11T12:30:55.805Z"
   },
   {
    "duration": 15,
    "start_time": "2021-08-11T12:30:55.848Z"
   },
   {
    "duration": 11,
    "start_time": "2021-08-11T12:30:55.865Z"
   },
   {
    "duration": 4,
    "start_time": "2021-08-11T12:30:55.878Z"
   },
   {
    "duration": 6,
    "start_time": "2021-08-11T12:30:55.883Z"
   },
   {
    "duration": 5,
    "start_time": "2021-08-11T12:30:55.891Z"
   },
   {
    "duration": 5,
    "start_time": "2021-08-11T12:30:55.897Z"
   },
   {
    "duration": 3,
    "start_time": "2021-08-11T12:32:52.341Z"
   },
   {
    "duration": 515,
    "start_time": "2021-08-11T12:32:54.300Z"
   },
   {
    "duration": 3,
    "start_time": "2021-08-11T12:33:26.316Z"
   },
   {
    "duration": 22,
    "start_time": "2021-08-11T12:33:28.905Z"
   },
   {
    "duration": 2,
    "start_time": "2021-08-11T12:33:34.497Z"
   },
   {
    "duration": 140,
    "start_time": "2021-08-11T12:33:34.501Z"
   },
   {
    "duration": 9,
    "start_time": "2021-08-11T12:33:34.643Z"
   },
   {
    "duration": 24,
    "start_time": "2021-08-11T12:33:34.653Z"
   },
   {
    "duration": 3,
    "start_time": "2021-08-11T12:33:34.679Z"
   },
   {
    "duration": 4,
    "start_time": "2021-08-11T12:33:34.684Z"
   },
   {
    "duration": 7,
    "start_time": "2021-08-11T12:33:34.690Z"
   },
   {
    "duration": 46,
    "start_time": "2021-08-11T12:33:34.698Z"
   },
   {
    "duration": 7,
    "start_time": "2021-08-11T12:33:34.747Z"
   },
   {
    "duration": 10,
    "start_time": "2021-08-11T12:33:34.756Z"
   },
   {
    "duration": 22,
    "start_time": "2021-08-11T12:33:34.768Z"
   },
   {
    "duration": 15,
    "start_time": "2021-08-11T12:33:34.792Z"
   },
   {
    "duration": 43,
    "start_time": "2021-08-11T12:33:34.808Z"
   },
   {
    "duration": 52,
    "start_time": "2021-08-11T12:33:34.852Z"
   },
   {
    "duration": 77,
    "start_time": "2021-08-11T12:33:34.905Z"
   },
   {
    "duration": 57,
    "start_time": "2021-08-11T12:33:34.984Z"
   },
   {
    "duration": 6,
    "start_time": "2021-08-11T12:33:35.042Z"
   },
   {
    "duration": 3,
    "start_time": "2021-08-11T12:33:35.050Z"
   },
   {
    "duration": 8,
    "start_time": "2021-08-11T12:33:35.055Z"
   },
   {
    "duration": 9,
    "start_time": "2021-08-11T12:33:35.065Z"
   },
   {
    "duration": 5,
    "start_time": "2021-08-11T12:33:35.075Z"
   },
   {
    "duration": 6,
    "start_time": "2021-08-11T12:33:35.082Z"
   },
   {
    "duration": 23,
    "start_time": "2021-08-11T12:33:35.089Z"
   },
   {
    "duration": 43,
    "start_time": "2021-08-11T12:33:35.114Z"
   },
   {
    "duration": 10,
    "start_time": "2021-08-11T12:33:35.159Z"
   },
   {
    "duration": 9,
    "start_time": "2021-08-11T12:33:35.171Z"
   },
   {
    "duration": 3,
    "start_time": "2021-08-11T12:33:35.184Z"
   },
   {
    "duration": 19,
    "start_time": "2021-08-11T12:33:35.189Z"
   },
   {
    "duration": 13,
    "start_time": "2021-08-11T12:33:35.240Z"
   },
   {
    "duration": 15,
    "start_time": "2021-08-11T12:33:35.255Z"
   },
   {
    "duration": 14,
    "start_time": "2021-08-11T12:33:35.271Z"
   },
   {
    "duration": 20,
    "start_time": "2021-08-11T12:33:35.287Z"
   },
   {
    "duration": 37,
    "start_time": "2021-08-11T12:33:35.309Z"
   },
   {
    "duration": 7,
    "start_time": "2021-08-11T12:33:35.348Z"
   },
   {
    "duration": 12,
    "start_time": "2021-08-11T12:33:35.356Z"
   },
   {
    "duration": 10,
    "start_time": "2021-08-11T12:33:35.370Z"
   },
   {
    "duration": 4,
    "start_time": "2021-08-11T12:33:35.382Z"
   },
   {
    "duration": 19,
    "start_time": "2021-08-11T12:33:35.388Z"
   },
   {
    "duration": 42,
    "start_time": "2021-08-11T12:33:35.409Z"
   },
   {
    "duration": 14,
    "start_time": "2021-08-11T12:33:35.453Z"
   },
   {
    "duration": 10,
    "start_time": "2021-08-11T12:33:35.469Z"
   },
   {
    "duration": 2,
    "start_time": "2021-08-11T12:33:35.481Z"
   },
   {
    "duration": 9,
    "start_time": "2021-08-11T12:33:35.485Z"
   },
   {
    "duration": 4,
    "start_time": "2021-08-11T12:33:35.496Z"
   },
   {
    "duration": 6,
    "start_time": "2021-08-11T12:33:35.502Z"
   },
   {
    "duration": 8,
    "start_time": "2021-08-11T12:38:41.915Z"
   },
   {
    "duration": 5,
    "start_time": "2021-08-11T12:39:15.055Z"
   },
   {
    "duration": 8,
    "start_time": "2021-08-11T12:40:04.845Z"
   },
   {
    "duration": 4,
    "start_time": "2021-08-11T12:40:06.685Z"
   },
   {
    "duration": 3,
    "start_time": "2021-08-11T12:41:57.458Z"
   },
   {
    "duration": 140,
    "start_time": "2021-08-11T12:41:57.462Z"
   },
   {
    "duration": 12,
    "start_time": "2021-08-11T12:41:57.604Z"
   },
   {
    "duration": 31,
    "start_time": "2021-08-11T12:41:57.617Z"
   },
   {
    "duration": 5,
    "start_time": "2021-08-11T12:41:57.650Z"
   },
   {
    "duration": 6,
    "start_time": "2021-08-11T12:41:57.657Z"
   },
   {
    "duration": 10,
    "start_time": "2021-08-11T12:41:57.664Z"
   },
   {
    "duration": 31,
    "start_time": "2021-08-11T12:41:57.675Z"
   },
   {
    "duration": 8,
    "start_time": "2021-08-11T12:41:57.709Z"
   },
   {
    "duration": 24,
    "start_time": "2021-08-11T12:41:57.719Z"
   },
   {
    "duration": 25,
    "start_time": "2021-08-11T12:41:57.744Z"
   },
   {
    "duration": 14,
    "start_time": "2021-08-11T12:41:57.770Z"
   },
   {
    "duration": 20,
    "start_time": "2021-08-11T12:41:57.785Z"
   },
   {
    "duration": 77,
    "start_time": "2021-08-11T12:41:57.806Z"
   },
   {
    "duration": 70,
    "start_time": "2021-08-11T12:41:57.884Z"
   },
   {
    "duration": 49,
    "start_time": "2021-08-11T12:41:57.956Z"
   },
   {
    "duration": 6,
    "start_time": "2021-08-11T12:41:58.007Z"
   },
   {
    "duration": 5,
    "start_time": "2021-08-11T12:41:58.014Z"
   },
   {
    "duration": 4,
    "start_time": "2021-08-11T12:41:58.040Z"
   },
   {
    "duration": 9,
    "start_time": "2021-08-11T12:41:58.046Z"
   },
   {
    "duration": 5,
    "start_time": "2021-08-11T12:41:58.056Z"
   },
   {
    "duration": 5,
    "start_time": "2021-08-11T12:41:58.063Z"
   },
   {
    "duration": 30,
    "start_time": "2021-08-11T12:41:58.070Z"
   },
   {
    "duration": 43,
    "start_time": "2021-08-11T12:41:58.102Z"
   },
   {
    "duration": 10,
    "start_time": "2021-08-11T12:41:58.147Z"
   },
   {
    "duration": 8,
    "start_time": "2021-08-11T12:41:58.159Z"
   },
   {
    "duration": 9,
    "start_time": "2021-08-11T12:41:58.172Z"
   },
   {
    "duration": 26,
    "start_time": "2021-08-11T12:41:58.183Z"
   },
   {
    "duration": 13,
    "start_time": "2021-08-11T12:41:58.210Z"
   },
   {
    "duration": 14,
    "start_time": "2021-08-11T12:41:58.240Z"
   },
   {
    "duration": 18,
    "start_time": "2021-08-11T12:41:58.255Z"
   },
   {
    "duration": 14,
    "start_time": "2021-08-11T12:41:58.275Z"
   },
   {
    "duration": 12,
    "start_time": "2021-08-11T12:41:58.291Z"
   },
   {
    "duration": 9,
    "start_time": "2021-08-11T12:41:58.304Z"
   },
   {
    "duration": 38,
    "start_time": "2021-08-11T12:41:58.314Z"
   },
   {
    "duration": 10,
    "start_time": "2021-08-11T12:41:58.353Z"
   },
   {
    "duration": 4,
    "start_time": "2021-08-11T12:41:58.364Z"
   },
   {
    "duration": 22,
    "start_time": "2021-08-11T12:41:58.369Z"
   },
   {
    "duration": 11,
    "start_time": "2021-08-11T12:41:58.392Z"
   },
   {
    "duration": 41,
    "start_time": "2021-08-11T12:41:58.405Z"
   },
   {
    "duration": 11,
    "start_time": "2021-08-11T12:41:58.447Z"
   },
   {
    "duration": 10,
    "start_time": "2021-08-11T12:41:58.460Z"
   },
   {
    "duration": 3,
    "start_time": "2021-08-11T12:41:58.472Z"
   },
   {
    "duration": 7,
    "start_time": "2021-08-11T12:41:58.477Z"
   },
   {
    "duration": 4,
    "start_time": "2021-08-11T12:41:58.485Z"
   },
   {
    "duration": 3,
    "start_time": "2021-08-11T12:49:55.090Z"
   },
   {
    "duration": 133,
    "start_time": "2021-08-11T12:49:55.094Z"
   },
   {
    "duration": 18,
    "start_time": "2021-08-11T12:49:55.229Z"
   },
   {
    "duration": 32,
    "start_time": "2021-08-11T12:49:55.249Z"
   },
   {
    "duration": 13,
    "start_time": "2021-08-11T12:49:55.283Z"
   },
   {
    "duration": 9,
    "start_time": "2021-08-11T12:49:55.298Z"
   },
   {
    "duration": 20,
    "start_time": "2021-08-11T12:49:55.308Z"
   },
   {
    "duration": 30,
    "start_time": "2021-08-11T12:49:55.329Z"
   },
   {
    "duration": 13,
    "start_time": "2021-08-11T12:49:55.362Z"
   },
   {
    "duration": 25,
    "start_time": "2021-08-11T12:49:55.377Z"
   },
   {
    "duration": 29,
    "start_time": "2021-08-11T12:49:55.403Z"
   },
   {
    "duration": 22,
    "start_time": "2021-08-11T12:49:55.434Z"
   },
   {
    "duration": 20,
    "start_time": "2021-08-11T12:49:55.458Z"
   },
   {
    "duration": 53,
    "start_time": "2021-08-11T12:49:55.480Z"
   },
   {
    "duration": 69,
    "start_time": "2021-08-11T12:49:55.534Z"
   },
   {
    "duration": 63,
    "start_time": "2021-08-11T12:49:55.605Z"
   },
   {
    "duration": 6,
    "start_time": "2021-08-11T12:49:55.669Z"
   },
   {
    "duration": 13,
    "start_time": "2021-08-11T12:49:55.677Z"
   },
   {
    "duration": 27,
    "start_time": "2021-08-11T12:49:55.691Z"
   },
   {
    "duration": 7,
    "start_time": "2021-08-11T12:49:55.720Z"
   },
   {
    "duration": 18,
    "start_time": "2021-08-11T12:49:55.728Z"
   },
   {
    "duration": 15,
    "start_time": "2021-08-11T12:49:55.747Z"
   },
   {
    "duration": 31,
    "start_time": "2021-08-11T12:49:55.763Z"
   },
   {
    "duration": 21,
    "start_time": "2021-08-11T12:49:55.796Z"
   },
   {
    "duration": 13,
    "start_time": "2021-08-11T12:49:55.819Z"
   },
   {
    "duration": 16,
    "start_time": "2021-08-11T12:49:55.834Z"
   },
   {
    "duration": 14,
    "start_time": "2021-08-11T12:49:55.854Z"
   },
   {
    "duration": 38,
    "start_time": "2021-08-11T12:49:55.870Z"
   },
   {
    "duration": 14,
    "start_time": "2021-08-11T12:49:55.910Z"
   },
   {
    "duration": 17,
    "start_time": "2021-08-11T12:49:55.926Z"
   },
   {
    "duration": 17,
    "start_time": "2021-08-11T12:49:55.945Z"
   },
   {
    "duration": 18,
    "start_time": "2021-08-11T12:49:55.964Z"
   },
   {
    "duration": 12,
    "start_time": "2021-08-11T12:49:55.984Z"
   },
   {
    "duration": 14,
    "start_time": "2021-08-11T12:49:55.998Z"
   },
   {
    "duration": 27,
    "start_time": "2021-08-11T12:49:56.014Z"
   },
   {
    "duration": 21,
    "start_time": "2021-08-11T12:49:56.043Z"
   },
   {
    "duration": 13,
    "start_time": "2021-08-11T12:49:56.066Z"
   },
   {
    "duration": 21,
    "start_time": "2021-08-11T12:49:56.080Z"
   },
   {
    "duration": 11,
    "start_time": "2021-08-11T12:49:56.102Z"
   },
   {
    "duration": 13,
    "start_time": "2021-08-11T12:49:56.115Z"
   },
   {
    "duration": 16,
    "start_time": "2021-08-11T12:49:56.130Z"
   },
   {
    "duration": 8,
    "start_time": "2021-08-11T12:49:56.148Z"
   },
   {
    "duration": 4,
    "start_time": "2021-08-11T12:49:56.157Z"
   },
   {
    "duration": 8,
    "start_time": "2021-08-11T12:49:56.163Z"
   },
   {
    "duration": 4,
    "start_time": "2021-08-11T12:49:56.172Z"
   },
   {
    "duration": 2,
    "start_time": "2021-08-11T12:57:44.820Z"
   },
   {
    "duration": 135,
    "start_time": "2021-08-11T12:57:44.839Z"
   },
   {
    "duration": 10,
    "start_time": "2021-08-11T12:57:44.975Z"
   },
   {
    "duration": 25,
    "start_time": "2021-08-11T12:57:44.987Z"
   },
   {
    "duration": 9,
    "start_time": "2021-08-11T12:57:45.014Z"
   },
   {
    "duration": 31,
    "start_time": "2021-08-11T12:57:45.024Z"
   },
   {
    "duration": 10,
    "start_time": "2021-08-11T12:57:45.057Z"
   },
   {
    "duration": 38,
    "start_time": "2021-08-11T12:57:45.069Z"
   },
   {
    "duration": 9,
    "start_time": "2021-08-11T12:57:45.109Z"
   },
   {
    "duration": 30,
    "start_time": "2021-08-11T12:57:45.121Z"
   },
   {
    "duration": 26,
    "start_time": "2021-08-11T12:57:45.154Z"
   },
   {
    "duration": 16,
    "start_time": "2021-08-11T12:57:45.181Z"
   },
   {
    "duration": 22,
    "start_time": "2021-08-11T12:57:45.198Z"
   },
   {
    "duration": 61,
    "start_time": "2021-08-11T12:57:45.222Z"
   },
   {
    "duration": 74,
    "start_time": "2021-08-11T12:57:45.284Z"
   },
   {
    "duration": 61,
    "start_time": "2021-08-11T12:57:45.360Z"
   },
   {
    "duration": 19,
    "start_time": "2021-08-11T12:57:45.422Z"
   },
   {
    "duration": 7,
    "start_time": "2021-08-11T12:57:45.443Z"
   },
   {
    "duration": 11,
    "start_time": "2021-08-11T12:57:45.451Z"
   },
   {
    "duration": 9,
    "start_time": "2021-08-11T12:57:45.464Z"
   },
   {
    "duration": 6,
    "start_time": "2021-08-11T12:57:45.475Z"
   },
   {
    "duration": 5,
    "start_time": "2021-08-11T12:57:45.483Z"
   },
   {
    "duration": 24,
    "start_time": "2021-08-11T12:57:45.489Z"
   },
   {
    "duration": 37,
    "start_time": "2021-08-11T12:57:45.514Z"
   },
   {
    "duration": 9,
    "start_time": "2021-08-11T12:57:45.553Z"
   },
   {
    "duration": 9,
    "start_time": "2021-08-11T12:57:45.563Z"
   },
   {
    "duration": 5,
    "start_time": "2021-08-11T12:57:45.573Z"
   },
   {
    "duration": 15,
    "start_time": "2021-08-11T12:57:45.581Z"
   },
   {
    "duration": 12,
    "start_time": "2021-08-11T12:57:45.598Z"
   },
   {
    "duration": 43,
    "start_time": "2021-08-11T12:57:45.611Z"
   },
   {
    "duration": 12,
    "start_time": "2021-08-11T12:57:45.656Z"
   },
   {
    "duration": 18,
    "start_time": "2021-08-11T12:57:45.669Z"
   },
   {
    "duration": 13,
    "start_time": "2021-08-11T12:57:45.688Z"
   },
   {
    "duration": 5,
    "start_time": "2021-08-11T12:57:45.703Z"
   },
   {
    "duration": 38,
    "start_time": "2021-08-11T12:57:45.710Z"
   },
   {
    "duration": 9,
    "start_time": "2021-08-11T12:57:45.750Z"
   },
   {
    "duration": 4,
    "start_time": "2021-08-11T12:57:45.761Z"
   },
   {
    "duration": 23,
    "start_time": "2021-08-11T12:57:45.766Z"
   },
   {
    "duration": 11,
    "start_time": "2021-08-11T12:57:45.791Z"
   },
   {
    "duration": 39,
    "start_time": "2021-08-11T12:57:45.803Z"
   },
   {
    "duration": 10,
    "start_time": "2021-08-11T12:57:45.844Z"
   },
   {
    "duration": 10,
    "start_time": "2021-08-11T12:57:45.856Z"
   },
   {
    "duration": 6,
    "start_time": "2021-08-11T12:57:45.868Z"
   },
   {
    "duration": 7,
    "start_time": "2021-08-11T12:57:45.875Z"
   },
   {
    "duration": 6,
    "start_time": "2021-08-11T12:57:45.884Z"
   },
   {
    "duration": 3,
    "start_time": "2021-08-11T12:59:10.037Z"
   },
   {
    "duration": 140,
    "start_time": "2021-08-11T12:59:10.047Z"
   },
   {
    "duration": 10,
    "start_time": "2021-08-11T12:59:10.189Z"
   },
   {
    "duration": 40,
    "start_time": "2021-08-11T12:59:10.202Z"
   },
   {
    "duration": 4,
    "start_time": "2021-08-11T12:59:10.244Z"
   },
   {
    "duration": 14,
    "start_time": "2021-08-11T12:59:10.250Z"
   },
   {
    "duration": 17,
    "start_time": "2021-08-11T12:59:10.266Z"
   },
   {
    "duration": 37,
    "start_time": "2021-08-11T12:59:10.285Z"
   },
   {
    "duration": 20,
    "start_time": "2021-08-11T12:59:10.324Z"
   },
   {
    "duration": 23,
    "start_time": "2021-08-11T12:59:10.348Z"
   },
   {
    "duration": 40,
    "start_time": "2021-08-11T12:59:10.373Z"
   },
   {
    "duration": 20,
    "start_time": "2021-08-11T12:59:10.414Z"
   },
   {
    "duration": 27,
    "start_time": "2021-08-11T12:59:10.436Z"
   },
   {
    "duration": 58,
    "start_time": "2021-08-11T12:59:10.465Z"
   },
   {
    "duration": 63,
    "start_time": "2021-08-11T12:59:10.525Z"
   },
   {
    "duration": 51,
    "start_time": "2021-08-11T12:59:10.590Z"
   },
   {
    "duration": 7,
    "start_time": "2021-08-11T12:59:10.644Z"
   },
   {
    "duration": 15,
    "start_time": "2021-08-11T12:59:10.653Z"
   },
   {
    "duration": 25,
    "start_time": "2021-08-11T12:59:10.670Z"
   },
   {
    "duration": 19,
    "start_time": "2021-08-11T12:59:10.697Z"
   },
   {
    "duration": 21,
    "start_time": "2021-08-11T12:59:10.718Z"
   },
   {
    "duration": 17,
    "start_time": "2021-08-11T12:59:10.741Z"
   },
   {
    "duration": 37,
    "start_time": "2021-08-11T12:59:10.759Z"
   },
   {
    "duration": 23,
    "start_time": "2021-08-11T12:59:10.798Z"
   },
   {
    "duration": 24,
    "start_time": "2021-08-11T12:59:10.823Z"
   },
   {
    "duration": 26,
    "start_time": "2021-08-11T12:59:10.849Z"
   },
   {
    "duration": 3,
    "start_time": "2021-08-11T12:59:10.877Z"
   },
   {
    "duration": 32,
    "start_time": "2021-08-11T12:59:10.883Z"
   },
   {
    "duration": 25,
    "start_time": "2021-08-11T12:59:10.917Z"
   },
   {
    "duration": 17,
    "start_time": "2021-08-11T12:59:10.944Z"
   },
   {
    "duration": 24,
    "start_time": "2021-08-11T12:59:10.962Z"
   },
   {
    "duration": 14,
    "start_time": "2021-08-11T12:59:10.988Z"
   },
   {
    "duration": 11,
    "start_time": "2021-08-11T12:59:11.004Z"
   },
   {
    "duration": 20,
    "start_time": "2021-08-11T12:59:11.017Z"
   },
   {
    "duration": 38,
    "start_time": "2021-08-11T12:59:11.039Z"
   },
   {
    "duration": 24,
    "start_time": "2021-08-11T12:59:11.079Z"
   },
   {
    "duration": 14,
    "start_time": "2021-08-11T12:59:11.105Z"
   },
   {
    "duration": 33,
    "start_time": "2021-08-11T12:59:11.121Z"
   },
   {
    "duration": 15,
    "start_time": "2021-08-11T12:59:11.161Z"
   },
   {
    "duration": 24,
    "start_time": "2021-08-11T12:59:11.177Z"
   },
   {
    "duration": 22,
    "start_time": "2021-08-11T12:59:11.203Z"
   },
   {
    "duration": 27,
    "start_time": "2021-08-11T12:59:11.226Z"
   },
   {
    "duration": 39,
    "start_time": "2021-08-11T12:59:11.255Z"
   },
   {
    "duration": 34,
    "start_time": "2021-08-11T12:59:11.296Z"
   },
   {
    "duration": 25,
    "start_time": "2021-08-11T12:59:11.331Z"
   },
   {
    "duration": 3,
    "start_time": "2021-08-11T12:59:39.825Z"
   },
   {
    "duration": 145,
    "start_time": "2021-08-11T12:59:39.830Z"
   },
   {
    "duration": 9,
    "start_time": "2021-08-11T12:59:39.977Z"
   },
   {
    "duration": 48,
    "start_time": "2021-08-11T12:59:39.988Z"
   },
   {
    "duration": 12,
    "start_time": "2021-08-11T12:59:40.038Z"
   },
   {
    "duration": 15,
    "start_time": "2021-08-11T12:59:40.052Z"
   },
   {
    "duration": 20,
    "start_time": "2021-08-11T12:59:40.069Z"
   },
   {
    "duration": 46,
    "start_time": "2021-08-11T12:59:40.091Z"
   },
   {
    "duration": 28,
    "start_time": "2021-08-11T12:59:40.139Z"
   },
   {
    "duration": 34,
    "start_time": "2021-08-11T12:59:40.169Z"
   },
   {
    "duration": 24,
    "start_time": "2021-08-11T12:59:40.205Z"
   },
   {
    "duration": 22,
    "start_time": "2021-08-11T12:59:40.231Z"
   },
   {
    "duration": 35,
    "start_time": "2021-08-11T12:59:40.254Z"
   },
   {
    "duration": 66,
    "start_time": "2021-08-11T12:59:40.291Z"
   },
   {
    "duration": 56,
    "start_time": "2021-08-11T12:59:40.359Z"
   },
   {
    "duration": 56,
    "start_time": "2021-08-11T12:59:40.417Z"
   },
   {
    "duration": 6,
    "start_time": "2021-08-11T12:59:40.475Z"
   },
   {
    "duration": 12,
    "start_time": "2021-08-11T12:59:40.482Z"
   },
   {
    "duration": 32,
    "start_time": "2021-08-11T12:59:40.496Z"
   },
   {
    "duration": 15,
    "start_time": "2021-08-11T12:59:40.529Z"
   },
   {
    "duration": 14,
    "start_time": "2021-08-11T12:59:40.545Z"
   },
   {
    "duration": 20,
    "start_time": "2021-08-11T12:59:40.560Z"
   },
   {
    "duration": 28,
    "start_time": "2021-08-11T12:59:40.584Z"
   },
   {
    "duration": 22,
    "start_time": "2021-08-11T12:59:40.614Z"
   },
   {
    "duration": 21,
    "start_time": "2021-08-11T12:59:40.637Z"
   },
   {
    "duration": 19,
    "start_time": "2021-08-11T12:59:40.660Z"
   },
   {
    "duration": 4,
    "start_time": "2021-08-11T12:59:40.681Z"
   },
   {
    "duration": 32,
    "start_time": "2021-08-11T12:59:40.686Z"
   },
   {
    "duration": 28,
    "start_time": "2021-08-11T12:59:40.720Z"
   },
   {
    "duration": 30,
    "start_time": "2021-08-11T12:59:40.749Z"
   },
   {
    "duration": 33,
    "start_time": "2021-08-11T12:59:40.781Z"
   },
   {
    "duration": 15,
    "start_time": "2021-08-11T12:59:40.816Z"
   },
   {
    "duration": 21,
    "start_time": "2021-08-11T12:59:40.832Z"
   },
   {
    "duration": 23,
    "start_time": "2021-08-11T12:59:40.854Z"
   },
   {
    "duration": 25,
    "start_time": "2021-08-11T12:59:40.879Z"
   },
   {
    "duration": 30,
    "start_time": "2021-08-11T12:59:40.905Z"
   },
   {
    "duration": 25,
    "start_time": "2021-08-11T12:59:40.937Z"
   },
   {
    "duration": 44,
    "start_time": "2021-08-11T12:59:40.964Z"
   },
   {
    "duration": 30,
    "start_time": "2021-08-11T12:59:41.010Z"
   },
   {
    "duration": 48,
    "start_time": "2021-08-11T12:59:41.042Z"
   },
   {
    "duration": 20,
    "start_time": "2021-08-11T12:59:41.092Z"
   },
   {
    "duration": 21,
    "start_time": "2021-08-11T12:59:41.114Z"
   },
   {
    "duration": 27,
    "start_time": "2021-08-11T12:59:41.137Z"
   },
   {
    "duration": 24,
    "start_time": "2021-08-11T12:59:41.165Z"
   },
   {
    "duration": 20,
    "start_time": "2021-08-11T12:59:41.190Z"
   },
   {
    "duration": 3,
    "start_time": "2021-08-11T13:01:29.390Z"
   },
   {
    "duration": 133,
    "start_time": "2021-08-11T13:01:29.395Z"
   },
   {
    "duration": 14,
    "start_time": "2021-08-11T13:01:29.530Z"
   },
   {
    "duration": 25,
    "start_time": "2021-08-11T13:01:29.546Z"
   },
   {
    "duration": 4,
    "start_time": "2021-08-11T13:01:29.572Z"
   },
   {
    "duration": 4,
    "start_time": "2021-08-11T13:01:29.578Z"
   },
   {
    "duration": 6,
    "start_time": "2021-08-11T13:01:29.584Z"
   },
   {
    "duration": 50,
    "start_time": "2021-08-11T13:01:29.592Z"
   },
   {
    "duration": 7,
    "start_time": "2021-08-11T13:01:29.644Z"
   },
   {
    "duration": 12,
    "start_time": "2021-08-11T13:01:29.653Z"
   },
   {
    "duration": 35,
    "start_time": "2021-08-11T13:01:29.667Z"
   },
   {
    "duration": 19,
    "start_time": "2021-08-11T13:01:29.704Z"
   },
   {
    "duration": 22,
    "start_time": "2021-08-11T13:01:29.724Z"
   },
   {
    "duration": 51,
    "start_time": "2021-08-11T13:01:29.748Z"
   },
   {
    "duration": 77,
    "start_time": "2021-08-11T13:01:29.800Z"
   },
   {
    "duration": 43,
    "start_time": "2021-08-11T13:01:29.879Z"
   },
   {
    "duration": 18,
    "start_time": "2021-08-11T13:01:29.924Z"
   },
   {
    "duration": 14,
    "start_time": "2021-08-11T13:01:29.943Z"
   },
   {
    "duration": 39,
    "start_time": "2021-08-11T13:01:29.958Z"
   },
   {
    "duration": 20,
    "start_time": "2021-08-11T13:01:29.999Z"
   },
   {
    "duration": 40,
    "start_time": "2021-08-11T13:01:30.021Z"
   },
   {
    "duration": 35,
    "start_time": "2021-08-11T13:01:30.063Z"
   },
   {
    "duration": 59,
    "start_time": "2021-08-11T13:01:30.101Z"
   },
   {
    "duration": 60,
    "start_time": "2021-08-11T13:01:30.162Z"
   },
   {
    "duration": 33,
    "start_time": "2021-08-11T13:01:30.224Z"
   },
   {
    "duration": 32,
    "start_time": "2021-08-11T13:01:30.259Z"
   },
   {
    "duration": 23,
    "start_time": "2021-08-11T13:01:30.292Z"
   },
   {
    "duration": 46,
    "start_time": "2021-08-11T13:01:30.317Z"
   },
   {
    "duration": 49,
    "start_time": "2021-08-11T13:01:30.365Z"
   },
   {
    "duration": 39,
    "start_time": "2021-08-11T13:01:30.415Z"
   },
   {
    "duration": 53,
    "start_time": "2021-08-11T13:01:30.456Z"
   },
   {
    "duration": 45,
    "start_time": "2021-08-11T13:01:30.511Z"
   },
   {
    "duration": 47,
    "start_time": "2021-08-11T13:01:30.557Z"
   },
   {
    "duration": 27,
    "start_time": "2021-08-11T13:01:30.605Z"
   },
   {
    "duration": 40,
    "start_time": "2021-08-11T13:01:30.634Z"
   },
   {
    "duration": 34,
    "start_time": "2021-08-11T13:01:30.676Z"
   },
   {
    "duration": 14,
    "start_time": "2021-08-11T13:01:30.712Z"
   },
   {
    "duration": 45,
    "start_time": "2021-08-11T13:01:30.727Z"
   },
   {
    "duration": 26,
    "start_time": "2021-08-11T13:01:30.773Z"
   },
   {
    "duration": 40,
    "start_time": "2021-08-11T13:01:30.800Z"
   },
   {
    "duration": 36,
    "start_time": "2021-08-11T13:01:30.842Z"
   },
   {
    "duration": 19,
    "start_time": "2021-08-11T13:01:30.880Z"
   },
   {
    "duration": 34,
    "start_time": "2021-08-11T13:01:30.900Z"
   },
   {
    "duration": 34,
    "start_time": "2021-08-11T13:01:30.935Z"
   },
   {
    "duration": 29,
    "start_time": "2021-08-11T13:01:30.970Z"
   },
   {
    "duration": 3,
    "start_time": "2021-08-11T13:02:25.896Z"
   },
   {
    "duration": 137,
    "start_time": "2021-08-11T13:02:25.906Z"
   },
   {
    "duration": 9,
    "start_time": "2021-08-11T13:02:26.045Z"
   },
   {
    "duration": 26,
    "start_time": "2021-08-11T13:02:26.057Z"
   },
   {
    "duration": 4,
    "start_time": "2021-08-11T13:02:26.085Z"
   },
   {
    "duration": 4,
    "start_time": "2021-08-11T13:02:26.090Z"
   },
   {
    "duration": 7,
    "start_time": "2021-08-11T13:02:26.096Z"
   },
   {
    "duration": 47,
    "start_time": "2021-08-11T13:02:26.104Z"
   },
   {
    "duration": 8,
    "start_time": "2021-08-11T13:02:26.153Z"
   },
   {
    "duration": 18,
    "start_time": "2021-08-11T13:02:26.164Z"
   },
   {
    "duration": 25,
    "start_time": "2021-08-11T13:02:26.184Z"
   },
   {
    "duration": 13,
    "start_time": "2021-08-11T13:02:26.211Z"
   },
   {
    "duration": 36,
    "start_time": "2021-08-11T13:02:26.226Z"
   },
   {
    "duration": 50,
    "start_time": "2021-08-11T13:02:26.264Z"
   },
   {
    "duration": 74,
    "start_time": "2021-08-11T13:02:26.316Z"
   },
   {
    "duration": 65,
    "start_time": "2021-08-11T13:02:26.391Z"
   },
   {
    "duration": 6,
    "start_time": "2021-08-11T13:02:26.458Z"
   },
   {
    "duration": 5,
    "start_time": "2021-08-11T13:02:26.466Z"
   },
   {
    "duration": 9,
    "start_time": "2021-08-11T13:02:26.472Z"
   },
   {
    "duration": 5,
    "start_time": "2021-08-11T13:02:26.483Z"
   },
   {
    "duration": 5,
    "start_time": "2021-08-11T13:02:26.490Z"
   },
   {
    "duration": 4,
    "start_time": "2021-08-11T13:02:26.496Z"
   },
   {
    "duration": 48,
    "start_time": "2021-08-11T13:02:26.501Z"
   },
   {
    "duration": 20,
    "start_time": "2021-08-11T13:02:26.550Z"
   },
   {
    "duration": 8,
    "start_time": "2021-08-11T13:02:26.572Z"
   },
   {
    "duration": 9,
    "start_time": "2021-08-11T13:02:26.582Z"
   },
   {
    "duration": 3,
    "start_time": "2021-08-11T13:02:26.592Z"
   },
   {
    "duration": 42,
    "start_time": "2021-08-11T13:02:26.599Z"
   },
   {
    "duration": 12,
    "start_time": "2021-08-11T13:02:26.643Z"
   },
   {
    "duration": 17,
    "start_time": "2021-08-11T13:02:26.657Z"
   },
   {
    "duration": 16,
    "start_time": "2021-08-11T13:02:26.676Z"
   },
   {
    "duration": 24,
    "start_time": "2021-08-11T13:02:26.693Z"
   },
   {
    "duration": 26,
    "start_time": "2021-08-11T13:02:26.719Z"
   },
   {
    "duration": 6,
    "start_time": "2021-08-11T13:02:26.747Z"
   },
   {
    "duration": 15,
    "start_time": "2021-08-11T13:02:26.754Z"
   },
   {
    "duration": 9,
    "start_time": "2021-08-11T13:02:26.771Z"
   },
   {
    "duration": 4,
    "start_time": "2021-08-11T13:02:26.781Z"
   },
   {
    "duration": 20,
    "start_time": "2021-08-11T13:02:26.787Z"
   },
   {
    "duration": 35,
    "start_time": "2021-08-11T13:02:26.809Z"
   },
   {
    "duration": 22,
    "start_time": "2021-08-11T13:02:26.847Z"
   },
   {
    "duration": 15,
    "start_time": "2021-08-11T13:02:26.871Z"
   },
   {
    "duration": 9,
    "start_time": "2021-08-11T13:02:26.888Z"
   },
   {
    "duration": 8,
    "start_time": "2021-08-11T13:02:26.899Z"
   },
   {
    "duration": 33,
    "start_time": "2021-08-11T13:02:26.908Z"
   },
   {
    "duration": 5,
    "start_time": "2021-08-11T13:02:26.942Z"
   },
   {
    "duration": 3,
    "start_time": "2021-08-11T13:04:58.701Z"
   },
   {
    "duration": 3,
    "start_time": "2021-08-11T13:05:03.725Z"
   },
   {
    "duration": 3,
    "start_time": "2021-08-11T13:06:10.374Z"
   },
   {
    "duration": 3,
    "start_time": "2021-08-11T13:06:12.673Z"
   },
   {
    "duration": 2,
    "start_time": "2021-08-11T13:06:19.625Z"
   },
   {
    "duration": 145,
    "start_time": "2021-08-11T13:06:19.632Z"
   },
   {
    "duration": 9,
    "start_time": "2021-08-11T13:06:19.779Z"
   },
   {
    "duration": 45,
    "start_time": "2021-08-11T13:06:19.790Z"
   },
   {
    "duration": 30,
    "start_time": "2021-08-11T13:06:19.837Z"
   },
   {
    "duration": 21,
    "start_time": "2021-08-11T13:06:19.869Z"
   },
   {
    "duration": 21,
    "start_time": "2021-08-11T13:06:19.892Z"
   },
   {
    "duration": 42,
    "start_time": "2021-08-11T13:06:19.914Z"
   },
   {
    "duration": 24,
    "start_time": "2021-08-11T13:06:19.958Z"
   },
   {
    "duration": 25,
    "start_time": "2021-08-11T13:06:19.985Z"
   },
   {
    "duration": 33,
    "start_time": "2021-08-11T13:06:20.013Z"
   },
   {
    "duration": 25,
    "start_time": "2021-08-11T13:06:20.048Z"
   },
   {
    "duration": 35,
    "start_time": "2021-08-11T13:06:20.075Z"
   },
   {
    "duration": 69,
    "start_time": "2021-08-11T13:06:20.112Z"
   },
   {
    "duration": 66,
    "start_time": "2021-08-11T13:06:20.183Z"
   },
   {
    "duration": 49,
    "start_time": "2021-08-11T13:06:20.250Z"
   },
   {
    "duration": 7,
    "start_time": "2021-08-11T13:06:20.301Z"
   },
   {
    "duration": 27,
    "start_time": "2021-08-11T13:06:20.310Z"
   },
   {
    "duration": 26,
    "start_time": "2021-08-11T13:06:20.339Z"
   },
   {
    "duration": 21,
    "start_time": "2021-08-11T13:06:20.367Z"
   },
   {
    "duration": 18,
    "start_time": "2021-08-11T13:06:20.389Z"
   },
   {
    "duration": 25,
    "start_time": "2021-08-11T13:06:20.409Z"
   },
   {
    "duration": 37,
    "start_time": "2021-08-11T13:06:20.436Z"
   },
   {
    "duration": 28,
    "start_time": "2021-08-11T13:06:20.475Z"
   },
   {
    "duration": 30,
    "start_time": "2021-08-11T13:06:20.505Z"
   },
   {
    "duration": 30,
    "start_time": "2021-08-11T13:06:20.537Z"
   },
   {
    "duration": 18,
    "start_time": "2021-08-11T13:06:20.569Z"
   },
   {
    "duration": 39,
    "start_time": "2021-08-11T13:06:20.590Z"
   },
   {
    "duration": 19,
    "start_time": "2021-08-11T13:06:20.631Z"
   },
   {
    "duration": 32,
    "start_time": "2021-08-11T13:06:20.652Z"
   },
   {
    "duration": 35,
    "start_time": "2021-08-11T13:06:20.686Z"
   },
   {
    "duration": 26,
    "start_time": "2021-08-11T13:06:20.723Z"
   },
   {
    "duration": 28,
    "start_time": "2021-08-11T13:06:20.751Z"
   },
   {
    "duration": 30,
    "start_time": "2021-08-11T13:06:20.780Z"
   },
   {
    "duration": 31,
    "start_time": "2021-08-11T13:06:20.812Z"
   },
   {
    "duration": 24,
    "start_time": "2021-08-11T13:06:20.845Z"
   },
   {
    "duration": 20,
    "start_time": "2021-08-11T13:06:20.870Z"
   },
   {
    "duration": 37,
    "start_time": "2021-08-11T13:06:20.891Z"
   },
   {
    "duration": 31,
    "start_time": "2021-08-11T13:06:20.929Z"
   },
   {
    "duration": 31,
    "start_time": "2021-08-11T13:06:20.961Z"
   },
   {
    "duration": 24,
    "start_time": "2021-08-11T13:06:20.994Z"
   },
   {
    "duration": 18,
    "start_time": "2021-08-11T13:06:21.020Z"
   },
   {
    "duration": 24,
    "start_time": "2021-08-11T13:06:21.040Z"
   },
   {
    "duration": 15,
    "start_time": "2021-08-11T13:06:21.065Z"
   },
   {
    "duration": 17,
    "start_time": "2021-08-11T13:06:21.082Z"
   },
   {
    "duration": 3,
    "start_time": "2021-08-11T13:08:59.934Z"
   },
   {
    "duration": 140,
    "start_time": "2021-08-11T13:08:59.945Z"
   },
   {
    "duration": 10,
    "start_time": "2021-08-11T13:09:00.087Z"
   },
   {
    "duration": 30,
    "start_time": "2021-08-11T13:09:00.099Z"
   },
   {
    "duration": 10,
    "start_time": "2021-08-11T13:09:00.131Z"
   },
   {
    "duration": 18,
    "start_time": "2021-08-11T13:09:00.143Z"
   },
   {
    "duration": 12,
    "start_time": "2021-08-11T13:09:00.163Z"
   },
   {
    "duration": 32,
    "start_time": "2021-08-11T13:09:00.176Z"
   },
   {
    "duration": 17,
    "start_time": "2021-08-11T13:09:00.209Z"
   },
   {
    "duration": 16,
    "start_time": "2021-08-11T13:09:00.229Z"
   },
   {
    "duration": 25,
    "start_time": "2021-08-11T13:09:00.247Z"
   },
   {
    "duration": 20,
    "start_time": "2021-08-11T13:09:00.273Z"
   },
   {
    "duration": 22,
    "start_time": "2021-08-11T13:09:00.294Z"
   },
   {
    "duration": 63,
    "start_time": "2021-08-11T13:09:00.317Z"
   },
   {
    "duration": 86,
    "start_time": "2021-08-11T13:09:00.382Z"
   },
   {
    "duration": 50,
    "start_time": "2021-08-11T13:09:00.470Z"
   },
   {
    "duration": 20,
    "start_time": "2021-08-11T13:09:00.522Z"
   },
   {
    "duration": 18,
    "start_time": "2021-08-11T13:09:00.545Z"
   },
   {
    "duration": 43,
    "start_time": "2021-08-11T13:09:00.565Z"
   },
   {
    "duration": 25,
    "start_time": "2021-08-11T13:09:00.610Z"
   },
   {
    "duration": 35,
    "start_time": "2021-08-11T13:09:00.637Z"
   },
   {
    "duration": 24,
    "start_time": "2021-08-11T13:09:00.674Z"
   },
   {
    "duration": 579,
    "start_time": "2021-08-11T13:09:00.700Z"
   },
   {
    "duration": -518,
    "start_time": "2021-08-11T13:09:01.799Z"
   },
   {
    "duration": -526,
    "start_time": "2021-08-11T13:09:01.808Z"
   },
   {
    "duration": -543,
    "start_time": "2021-08-11T13:09:01.826Z"
   },
   {
    "duration": -557,
    "start_time": "2021-08-11T13:09:01.841Z"
   },
   {
    "duration": -561,
    "start_time": "2021-08-11T13:09:01.846Z"
   },
   {
    "duration": -565,
    "start_time": "2021-08-11T13:09:01.851Z"
   },
   {
    "duration": -570,
    "start_time": "2021-08-11T13:09:01.857Z"
   },
   {
    "duration": -574,
    "start_time": "2021-08-11T13:09:01.862Z"
   },
   {
    "duration": -578,
    "start_time": "2021-08-11T13:09:01.867Z"
   },
   {
    "duration": -582,
    "start_time": "2021-08-11T13:09:01.872Z"
   },
   {
    "duration": -586,
    "start_time": "2021-08-11T13:09:01.877Z"
   },
   {
    "duration": -589,
    "start_time": "2021-08-11T13:09:01.881Z"
   },
   {
    "duration": -593,
    "start_time": "2021-08-11T13:09:01.886Z"
   },
   {
    "duration": -597,
    "start_time": "2021-08-11T13:09:01.891Z"
   },
   {
    "duration": -602,
    "start_time": "2021-08-11T13:09:01.896Z"
   },
   {
    "duration": -607,
    "start_time": "2021-08-11T13:09:01.902Z"
   },
   {
    "duration": -611,
    "start_time": "2021-08-11T13:09:01.907Z"
   },
   {
    "duration": -615,
    "start_time": "2021-08-11T13:09:01.912Z"
   },
   {
    "duration": -619,
    "start_time": "2021-08-11T13:09:01.917Z"
   },
   {
    "duration": -622,
    "start_time": "2021-08-11T13:09:01.921Z"
   },
   {
    "duration": -626,
    "start_time": "2021-08-11T13:09:01.926Z"
   },
   {
    "duration": -630,
    "start_time": "2021-08-11T13:09:01.931Z"
   },
   {
    "duration": 3,
    "start_time": "2021-08-11T13:09:52.100Z"
   },
   {
    "duration": 123,
    "start_time": "2021-08-11T13:09:52.105Z"
   },
   {
    "duration": 9,
    "start_time": "2021-08-11T13:09:52.230Z"
   },
   {
    "duration": 27,
    "start_time": "2021-08-11T13:09:52.241Z"
   },
   {
    "duration": 12,
    "start_time": "2021-08-11T13:09:52.270Z"
   },
   {
    "duration": 9,
    "start_time": "2021-08-11T13:09:52.283Z"
   },
   {
    "duration": 16,
    "start_time": "2021-08-11T13:09:52.294Z"
   },
   {
    "duration": 39,
    "start_time": "2021-08-11T13:09:52.312Z"
   },
   {
    "duration": 20,
    "start_time": "2021-08-11T13:09:52.353Z"
   },
   {
    "duration": 17,
    "start_time": "2021-08-11T13:09:52.375Z"
   },
   {
    "duration": 23,
    "start_time": "2021-08-11T13:09:52.394Z"
   },
   {
    "duration": 15,
    "start_time": "2021-08-11T13:09:52.418Z"
   },
   {
    "duration": 25,
    "start_time": "2021-08-11T13:09:52.435Z"
   },
   {
    "duration": 59,
    "start_time": "2021-08-11T13:09:52.462Z"
   },
   {
    "duration": 57,
    "start_time": "2021-08-11T13:09:52.522Z"
   },
   {
    "duration": 44,
    "start_time": "2021-08-11T13:09:52.580Z"
   },
   {
    "duration": 15,
    "start_time": "2021-08-11T13:09:52.626Z"
   },
   {
    "duration": 3,
    "start_time": "2021-08-11T13:09:52.642Z"
   },
   {
    "duration": 7,
    "start_time": "2021-08-11T13:09:52.646Z"
   },
   {
    "duration": 5,
    "start_time": "2021-08-11T13:09:52.654Z"
   },
   {
    "duration": 6,
    "start_time": "2021-08-11T13:09:52.660Z"
   },
   {
    "duration": 5,
    "start_time": "2021-08-11T13:09:52.668Z"
   },
   {
    "duration": 23,
    "start_time": "2021-08-11T13:09:52.674Z"
   },
   {
    "duration": 43,
    "start_time": "2021-08-11T13:09:52.698Z"
   },
   {
    "duration": 8,
    "start_time": "2021-08-11T13:09:52.743Z"
   },
   {
    "duration": 8,
    "start_time": "2021-08-11T13:09:52.753Z"
   },
   {
    "duration": 2,
    "start_time": "2021-08-11T13:09:52.765Z"
   },
   {
    "duration": 18,
    "start_time": "2021-08-11T13:09:52.769Z"
   },
   {
    "duration": 12,
    "start_time": "2021-08-11T13:09:52.789Z"
   },
   {
    "duration": 43,
    "start_time": "2021-08-11T13:09:52.803Z"
   },
   {
    "duration": 13,
    "start_time": "2021-08-11T13:09:52.848Z"
   },
   {
    "duration": 14,
    "start_time": "2021-08-11T13:09:52.863Z"
   },
   {
    "duration": 14,
    "start_time": "2021-08-11T13:09:52.879Z"
   },
   {
    "duration": 7,
    "start_time": "2021-08-11T13:09:52.895Z"
   },
   {
    "duration": 43,
    "start_time": "2021-08-11T13:09:52.904Z"
   },
   {
    "duration": 10,
    "start_time": "2021-08-11T13:09:52.949Z"
   },
   {
    "duration": 4,
    "start_time": "2021-08-11T13:09:52.961Z"
   },
   {
    "duration": 17,
    "start_time": "2021-08-11T13:09:52.967Z"
   },
   {
    "duration": 12,
    "start_time": "2021-08-11T13:09:52.985Z"
   },
   {
    "duration": 49,
    "start_time": "2021-08-11T13:09:52.999Z"
   },
   {
    "duration": 11,
    "start_time": "2021-08-11T13:09:53.050Z"
   },
   {
    "duration": 9,
    "start_time": "2021-08-11T13:09:53.063Z"
   },
   {
    "duration": 4,
    "start_time": "2021-08-11T13:09:53.073Z"
   },
   {
    "duration": 8,
    "start_time": "2021-08-11T13:09:53.079Z"
   },
   {
    "duration": 5,
    "start_time": "2021-08-11T13:09:53.088Z"
   },
   {
    "duration": 3,
    "start_time": "2021-08-11T13:12:44.199Z"
   },
   {
    "duration": 20,
    "start_time": "2021-08-11T13:12:47.031Z"
   },
   {
    "duration": 3,
    "start_time": "2021-08-11T13:14:55.780Z"
   },
   {
    "duration": 22,
    "start_time": "2021-08-11T13:14:57.432Z"
   },
   {
    "duration": 3,
    "start_time": "2021-08-11T13:17:50.628Z"
   },
   {
    "duration": 20,
    "start_time": "2021-08-11T13:17:53.651Z"
   },
   {
    "duration": 3,
    "start_time": "2021-08-11T13:18:12.061Z"
   },
   {
    "duration": 20,
    "start_time": "2021-08-11T13:18:13.771Z"
   },
   {
    "duration": 19,
    "start_time": "2021-08-11T13:18:20.286Z"
   },
   {
    "duration": 2,
    "start_time": "2021-08-11T13:19:56.029Z"
   },
   {
    "duration": 188,
    "start_time": "2021-08-11T13:19:56.034Z"
   },
   {
    "duration": 18,
    "start_time": "2021-08-11T13:19:56.224Z"
   },
   {
    "duration": 41,
    "start_time": "2021-08-11T13:19:56.244Z"
   },
   {
    "duration": 4,
    "start_time": "2021-08-11T13:19:56.287Z"
   },
   {
    "duration": 6,
    "start_time": "2021-08-11T13:19:56.293Z"
   },
   {
    "duration": 8,
    "start_time": "2021-08-11T13:19:56.300Z"
   },
   {
    "duration": 46,
    "start_time": "2021-08-11T13:19:56.310Z"
   },
   {
    "duration": 8,
    "start_time": "2021-08-11T13:19:56.359Z"
   },
   {
    "duration": 10,
    "start_time": "2021-08-11T13:19:56.369Z"
   },
   {
    "duration": 24,
    "start_time": "2021-08-11T13:19:56.380Z"
   },
   {
    "duration": 43,
    "start_time": "2021-08-11T13:19:56.406Z"
   },
   {
    "duration": 20,
    "start_time": "2021-08-11T13:19:56.451Z"
   },
   {
    "duration": 53,
    "start_time": "2021-08-11T13:19:56.473Z"
   },
   {
    "duration": 73,
    "start_time": "2021-08-11T13:19:56.527Z"
   },
   {
    "duration": 60,
    "start_time": "2021-08-11T13:19:56.601Z"
   },
   {
    "duration": 5,
    "start_time": "2021-08-11T13:19:56.663Z"
   },
   {
    "duration": 4,
    "start_time": "2021-08-11T13:19:56.670Z"
   },
   {
    "duration": 8,
    "start_time": "2021-08-11T13:19:56.675Z"
   },
   {
    "duration": 5,
    "start_time": "2021-08-11T13:19:56.685Z"
   },
   {
    "duration": 5,
    "start_time": "2021-08-11T13:19:56.692Z"
   },
   {
    "duration": 4,
    "start_time": "2021-08-11T13:19:56.698Z"
   },
   {
    "duration": 47,
    "start_time": "2021-08-11T13:19:56.703Z"
   },
   {
    "duration": 20,
    "start_time": "2021-08-11T13:19:56.752Z"
   },
   {
    "duration": 10,
    "start_time": "2021-08-11T13:19:56.774Z"
   },
   {
    "duration": 9,
    "start_time": "2021-08-11T13:19:56.785Z"
   },
   {
    "duration": 3,
    "start_time": "2021-08-11T13:19:56.797Z"
   },
   {
    "duration": 48,
    "start_time": "2021-08-11T13:19:56.802Z"
   },
   {
    "duration": 12,
    "start_time": "2021-08-11T13:19:56.852Z"
   },
   {
    "duration": 13,
    "start_time": "2021-08-11T13:19:56.866Z"
   },
   {
    "duration": 12,
    "start_time": "2021-08-11T13:19:56.880Z"
   },
   {
    "duration": 14,
    "start_time": "2021-08-11T13:19:56.894Z"
   },
   {
    "duration": 36,
    "start_time": "2021-08-11T13:19:56.910Z"
   },
   {
    "duration": 6,
    "start_time": "2021-08-11T13:19:56.948Z"
   },
   {
    "duration": 14,
    "start_time": "2021-08-11T13:19:56.956Z"
   },
   {
    "duration": 10,
    "start_time": "2021-08-11T13:19:56.972Z"
   },
   {
    "duration": 4,
    "start_time": "2021-08-11T13:19:56.984Z"
   },
   {
    "duration": 16,
    "start_time": "2021-08-11T13:19:56.990Z"
   },
   {
    "duration": 13,
    "start_time": "2021-08-11T13:19:57.040Z"
   },
   {
    "duration": 15,
    "start_time": "2021-08-11T13:19:57.055Z"
   },
   {
    "duration": 12,
    "start_time": "2021-08-11T13:19:57.072Z"
   },
   {
    "duration": 9,
    "start_time": "2021-08-11T13:19:57.086Z"
   },
   {
    "duration": 3,
    "start_time": "2021-08-11T13:19:57.097Z"
   },
   {
    "duration": 42,
    "start_time": "2021-08-11T13:19:57.102Z"
   },
   {
    "duration": 6,
    "start_time": "2021-08-11T13:19:57.146Z"
   },
   {
    "duration": 3,
    "start_time": "2021-08-11T13:20:45.870Z"
   },
   {
    "duration": 19,
    "start_time": "2021-08-11T13:20:47.578Z"
   },
   {
    "duration": 2,
    "start_time": "2021-08-11T13:24:45.194Z"
   },
   {
    "duration": 137,
    "start_time": "2021-08-11T13:24:45.198Z"
   },
   {
    "duration": 11,
    "start_time": "2021-08-11T13:24:45.341Z"
   },
   {
    "duration": 44,
    "start_time": "2021-08-11T13:24:45.354Z"
   },
   {
    "duration": 13,
    "start_time": "2021-08-11T13:24:45.400Z"
   },
   {
    "duration": 14,
    "start_time": "2021-08-11T13:24:45.415Z"
   },
   {
    "duration": 25,
    "start_time": "2021-08-11T13:24:45.431Z"
   },
   {
    "duration": 45,
    "start_time": "2021-08-11T13:24:45.458Z"
   },
   {
    "duration": 31,
    "start_time": "2021-08-11T13:24:45.504Z"
   },
   {
    "duration": 41,
    "start_time": "2021-08-11T13:24:45.536Z"
   },
   {
    "duration": 37,
    "start_time": "2021-08-11T13:24:45.578Z"
   },
   {
    "duration": 22,
    "start_time": "2021-08-11T13:24:45.617Z"
   },
   {
    "duration": 32,
    "start_time": "2021-08-11T13:24:45.641Z"
   },
   {
    "duration": 63,
    "start_time": "2021-08-11T13:24:45.676Z"
   },
   {
    "duration": 57,
    "start_time": "2021-08-11T13:24:45.741Z"
   },
   {
    "duration": 58,
    "start_time": "2021-08-11T13:24:45.800Z"
   },
   {
    "duration": 6,
    "start_time": "2021-08-11T13:24:45.860Z"
   },
   {
    "duration": 14,
    "start_time": "2021-08-11T13:24:45.867Z"
   },
   {
    "duration": 21,
    "start_time": "2021-08-11T13:24:45.883Z"
   },
   {
    "duration": 27,
    "start_time": "2021-08-11T13:24:45.905Z"
   },
   {
    "duration": 24,
    "start_time": "2021-08-11T13:24:45.933Z"
   },
   {
    "duration": 26,
    "start_time": "2021-08-11T13:24:45.959Z"
   },
   {
    "duration": 44,
    "start_time": "2021-08-11T13:24:45.987Z"
   },
   {
    "duration": 31,
    "start_time": "2021-08-11T13:24:46.033Z"
   },
   {
    "duration": 31,
    "start_time": "2021-08-11T13:24:46.065Z"
   },
   {
    "duration": 17,
    "start_time": "2021-08-11T13:24:46.098Z"
   },
   {
    "duration": 23,
    "start_time": "2021-08-11T13:24:46.117Z"
   },
   {
    "duration": 27,
    "start_time": "2021-08-11T13:24:46.141Z"
   },
   {
    "duration": 31,
    "start_time": "2021-08-11T13:24:46.170Z"
   },
   {
    "duration": 36,
    "start_time": "2021-08-11T13:24:46.202Z"
   },
   {
    "duration": 26,
    "start_time": "2021-08-11T13:24:46.240Z"
   },
   {
    "duration": 25,
    "start_time": "2021-08-11T13:24:46.267Z"
   },
   {
    "duration": 23,
    "start_time": "2021-08-11T13:24:46.294Z"
   },
   {
    "duration": 19,
    "start_time": "2021-08-11T13:24:46.318Z"
   },
   {
    "duration": 31,
    "start_time": "2021-08-11T13:24:46.340Z"
   },
   {
    "duration": 22,
    "start_time": "2021-08-11T13:24:46.373Z"
   },
   {
    "duration": 10,
    "start_time": "2021-08-11T13:24:46.396Z"
   },
   {
    "duration": 37,
    "start_time": "2021-08-11T13:24:46.407Z"
   },
   {
    "duration": 16,
    "start_time": "2021-08-11T13:24:46.446Z"
   },
   {
    "duration": 23,
    "start_time": "2021-08-11T13:24:46.464Z"
   },
   {
    "duration": 10,
    "start_time": "2021-08-11T13:24:46.489Z"
   },
   {
    "duration": 19,
    "start_time": "2021-08-11T13:24:46.500Z"
   },
   {
    "duration": 10,
    "start_time": "2021-08-11T13:24:46.520Z"
   },
   {
    "duration": 21,
    "start_time": "2021-08-11T13:24:46.532Z"
   },
   {
    "duration": 23,
    "start_time": "2021-08-11T13:24:46.555Z"
   },
   {
    "duration": 3,
    "start_time": "2021-08-11T13:25:32.386Z"
   },
   {
    "duration": 139,
    "start_time": "2021-08-11T13:25:32.404Z"
   },
   {
    "duration": 9,
    "start_time": "2021-08-11T13:25:32.545Z"
   },
   {
    "duration": 24,
    "start_time": "2021-08-11T13:25:32.556Z"
   },
   {
    "duration": 4,
    "start_time": "2021-08-11T13:25:32.582Z"
   },
   {
    "duration": 5,
    "start_time": "2021-08-11T13:25:32.587Z"
   },
   {
    "duration": 7,
    "start_time": "2021-08-11T13:25:32.593Z"
   },
   {
    "duration": 44,
    "start_time": "2021-08-11T13:25:32.601Z"
   },
   {
    "duration": 10,
    "start_time": "2021-08-11T13:25:32.647Z"
   },
   {
    "duration": 14,
    "start_time": "2021-08-11T13:25:32.660Z"
   },
   {
    "duration": 26,
    "start_time": "2021-08-11T13:25:32.675Z"
   },
   {
    "duration": 16,
    "start_time": "2021-08-11T13:25:32.702Z"
   },
   {
    "duration": 29,
    "start_time": "2021-08-11T13:25:32.720Z"
   },
   {
    "duration": 55,
    "start_time": "2021-08-11T13:25:32.751Z"
   },
   {
    "duration": 77,
    "start_time": "2021-08-11T13:25:32.807Z"
   },
   {
    "duration": 44,
    "start_time": "2021-08-11T13:25:32.885Z"
   },
   {
    "duration": 15,
    "start_time": "2021-08-11T13:25:32.930Z"
   },
   {
    "duration": 4,
    "start_time": "2021-08-11T13:25:32.946Z"
   },
   {
    "duration": 9,
    "start_time": "2021-08-11T13:25:32.951Z"
   },
   {
    "duration": 8,
    "start_time": "2021-08-11T13:25:32.961Z"
   },
   {
    "duration": 5,
    "start_time": "2021-08-11T13:25:32.971Z"
   },
   {
    "duration": 7,
    "start_time": "2021-08-11T13:25:32.977Z"
   },
   {
    "duration": 30,
    "start_time": "2021-08-11T13:25:32.985Z"
   },
   {
    "duration": 33,
    "start_time": "2021-08-11T13:25:33.016Z"
   },
   {
    "duration": 10,
    "start_time": "2021-08-11T13:25:33.050Z"
   },
   {
    "duration": 9,
    "start_time": "2021-08-11T13:25:33.061Z"
   },
   {
    "duration": 3,
    "start_time": "2021-08-11T13:25:33.072Z"
   },
   {
    "duration": 13,
    "start_time": "2021-08-11T13:25:33.078Z"
   },
   {
    "duration": 15,
    "start_time": "2021-08-11T13:25:33.093Z"
   },
   {
    "duration": 13,
    "start_time": "2021-08-11T13:25:33.140Z"
   },
   {
    "duration": 12,
    "start_time": "2021-08-11T13:25:33.155Z"
   },
   {
    "duration": 13,
    "start_time": "2021-08-11T13:25:33.169Z"
   },
   {
    "duration": 13,
    "start_time": "2021-08-11T13:25:33.184Z"
   },
   {
    "duration": 10,
    "start_time": "2021-08-11T13:25:33.199Z"
   },
   {
    "duration": 39,
    "start_time": "2021-08-11T13:25:33.210Z"
   },
   {
    "duration": 8,
    "start_time": "2021-08-11T13:25:33.251Z"
   },
   {
    "duration": 3,
    "start_time": "2021-08-11T13:25:33.261Z"
   },
   {
    "duration": 20,
    "start_time": "2021-08-11T13:25:33.266Z"
   },
   {
    "duration": 11,
    "start_time": "2021-08-11T13:25:33.287Z"
   },
   {
    "duration": 13,
    "start_time": "2021-08-11T13:25:33.299Z"
   },
   {
    "duration": 35,
    "start_time": "2021-08-11T13:25:33.314Z"
   },
   {
    "duration": 8,
    "start_time": "2021-08-11T13:25:33.351Z"
   },
   {
    "duration": 10,
    "start_time": "2021-08-11T13:25:33.361Z"
   },
   {
    "duration": 11,
    "start_time": "2021-08-11T13:25:33.372Z"
   },
   {
    "duration": 6,
    "start_time": "2021-08-11T13:25:33.384Z"
   }
  ],
  "kernelspec": {
   "display_name": "Python 3",
   "language": "python",
   "name": "python3"
  },
  "language_info": {
   "codemirror_mode": {
    "name": "ipython",
    "version": 3
   },
   "file_extension": ".py",
   "mimetype": "text/x-python",
   "name": "python",
   "nbconvert_exporter": "python",
   "pygments_lexer": "ipython3",
   "version": "3.7.8"
  },
  "toc": {
   "base_numbering": 1,
   "nav_menu": {},
   "number_sections": true,
   "sideBar": true,
   "skip_h1_title": true,
   "title_cell": "Table of Contents",
   "title_sidebar": "Contents",
   "toc_cell": false,
   "toc_position": {},
   "toc_section_display": true,
   "toc_window_display": false
  }
 },
 "nbformat": 4,
 "nbformat_minor": 1
}
